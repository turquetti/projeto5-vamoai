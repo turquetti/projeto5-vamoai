{
 "metadata": {
  "language_info": {
   "codemirror_mode": {
    "name": "ipython",
    "version": 3
   },
   "file_extension": ".py",
   "mimetype": "text/x-python",
   "name": "python",
   "nbconvert_exporter": "python",
   "pygments_lexer": "ipython3",
   "version": "3.9.4"
  },
  "orig_nbformat": 4,
  "kernelspec": {
   "name": "python3",
   "display_name": "Python 3.9.4 64-bit"
  },
  "interpreter": {
   "hash": "ac59ebe37160ed0dfa835113d9b8498d9f09ceb179beaac4002f036b9467c963"
  }
 },
 "nbformat": 4,
 "nbformat_minor": 2,
 "cells": [
  {
   "cell_type": "code",
   "execution_count": 449,
   "source": [
    "import pandas as pd\r\n",
    "from pathlib import Path\r\n",
    "import json"
   ],
   "outputs": [],
   "metadata": {}
  },
  {
   "cell_type": "code",
   "execution_count": 450,
   "source": [
    "p = Path(r'C:\\Users\\ludmi\\OneDrive\\Documentos\\projeto5\\projeto5-vamoai-1\\ludmila\\2019\\2019_MARCH.json') #r = read"
   ],
   "outputs": [],
   "metadata": {}
  },
  {
   "cell_type": "code",
   "execution_count": 451,
   "source": [
    "with p.open('r', encoding='utf-8') as f:\r\n",
    "    h = json.loads(f.read())"
   ],
   "outputs": [],
   "metadata": {}
  },
  {
   "cell_type": "code",
   "execution_count": 452,
   "source": [
    "df = pd.json_normalize(h, 'timelineObjects', ['placeVisit', ['location', 'latitudeE7']], errors='ignore')\r\n"
   ],
   "outputs": [],
   "metadata": {}
  },
  {
   "cell_type": "code",
   "execution_count": 453,
   "source": [
    "df.columns"
   ],
   "outputs": [
    {
     "output_type": "execute_result",
     "data": {
      "text/plain": [
       "Index(['placeVisit.location.latitudeE7', 'placeVisit.location.longitudeE7',\n",
       "       'placeVisit.location.placeId', 'placeVisit.location.address',\n",
       "       'placeVisit.location.name', 'placeVisit.location.sourceInfo.deviceTag',\n",
       "       'placeVisit.location.locationConfidence',\n",
       "       'placeVisit.duration.startTimestampMs',\n",
       "       'placeVisit.duration.endTimestampMs', 'placeVisit.placeConfidence',\n",
       "       'placeVisit.centerLatE7', 'placeVisit.centerLngE7',\n",
       "       'placeVisit.visitConfidence', 'placeVisit.otherCandidateLocations',\n",
       "       'placeVisit.editConfirmationStatus',\n",
       "       'activitySegment.startLocation.latitudeE7',\n",
       "       'activitySegment.startLocation.longitudeE7',\n",
       "       'activitySegment.startLocation.sourceInfo.deviceTag',\n",
       "       'activitySegment.endLocation.latitudeE7',\n",
       "       'activitySegment.endLocation.longitudeE7',\n",
       "       'activitySegment.endLocation.sourceInfo.deviceTag',\n",
       "       'activitySegment.duration.startTimestampMs',\n",
       "       'activitySegment.duration.endTimestampMs', 'activitySegment.distance',\n",
       "       'activitySegment.activityType', 'activitySegment.confidence',\n",
       "       'activitySegment.activities', 'activitySegment.waypointPath.waypoints',\n",
       "       'activitySegment.parkingEvent.timestampMs',\n",
       "       'activitySegment.parkingEvent.location.latitudeE7',\n",
       "       'activitySegment.parkingEvent.location.longitudeE7',\n",
       "       'activitySegment.parkingEvent.location.accuracyMetres',\n",
       "       'placeVisit.simplifiedRawPath.points',\n",
       "       'activitySegment.simplifiedRawPath.points', 'placeVisit',\n",
       "       'location.latitudeE7'],\n",
       "      dtype='object')"
      ]
     },
     "metadata": {},
     "execution_count": 453
    }
   ],
   "metadata": {}
  },
  {
   "cell_type": "code",
   "execution_count": 454,
   "source": [
    "columns = ['placeVisit.location.placeId', 'placeVisit.location.sourceInfo.deviceTag',\r\n",
    "       'placeVisit.location.locationConfidence',\r\n",
    "       'placeVisit.placeConfidence',\r\n",
    "       'placeVisit.centerLatE7', 'placeVisit.centerLngE7',\r\n",
    "       'placeVisit.visitConfidence', 'placeVisit.otherCandidateLocations',\r\n",
    "       'placeVisit.editConfirmationStatus',\r\n",
    "       'activitySegment.startLocation.latitudeE7',\r\n",
    "       'activitySegment.startLocation.longitudeE7',\r\n",
    "       'activitySegment.startLocation.sourceInfo.deviceTag',\r\n",
    "       'activitySegment.endLocation.latitudeE7',\r\n",
    "       'activitySegment.endLocation.longitudeE7',\r\n",
    "       'activitySegment.endLocation.sourceInfo.deviceTag',\r\n",
    "       'activitySegment.duration.startTimestampMs',\r\n",
    "       'activitySegment.duration.endTimestampMs', 'activitySegment.distance',\r\n",
    "       'activitySegment.activityType', 'activitySegment.confidence',\r\n",
    "       'activitySegment.activities', 'activitySegment.waypointPath.waypoints',\r\n",
    "       'activitySegment.parkingEvent.timestampMs',\r\n",
    "       'activitySegment.parkingEvent.location.latitudeE7',\r\n",
    "       'activitySegment.parkingEvent.location.longitudeE7',\r\n",
    "       'activitySegment.parkingEvent.location.accuracyMetres',\r\n",
    "       'placeVisit.simplifiedRawPath.points',\r\n",
    "       'activitySegment.simplifiedRawPath.points', 'placeVisit',\r\n",
    "       'location.latitudeE7']"
   ],
   "outputs": [],
   "metadata": {}
  },
  {
   "cell_type": "code",
   "execution_count": 455,
   "source": [
    "df.drop(columns=columns, inplace=True)"
   ],
   "outputs": [],
   "metadata": {}
  },
  {
   "cell_type": "code",
   "execution_count": 456,
   "source": [
    "df.dropna(inplace=True)"
   ],
   "outputs": [],
   "metadata": {}
  },
  {
   "cell_type": "code",
   "execution_count": 457,
   "source": [
    "df.reset_index(inplace=True)"
   ],
   "outputs": [],
   "metadata": {}
  },
  {
   "cell_type": "code",
   "execution_count": 458,
   "source": [
    "df.drop(columns='index', inplace=True)"
   ],
   "outputs": [],
   "metadata": {}
  },
  {
   "cell_type": "code",
   "execution_count": 459,
   "source": [
    "df.columns = ['latitude', 'longitude', 'endereco', 'nome', 'start_timestamp', 'end_timestamp']"
   ],
   "outputs": [],
   "metadata": {}
  },
  {
   "cell_type": "code",
   "execution_count": 460,
   "source": [
    "df['start_timestamp'] = pd.to_datetime(df['start_timestamp'], unit='ms')"
   ],
   "outputs": [],
   "metadata": {}
  },
  {
   "cell_type": "code",
   "execution_count": 461,
   "source": [
    "df['end_timestamp'] = pd.to_datetime(df['end_timestamp'], unit='ms')"
   ],
   "outputs": [],
   "metadata": {}
  },
  {
   "cell_type": "code",
   "execution_count": 462,
   "source": [
    "df['endereco'] = df['endereco'].replace(r'\\n',', ', regex=True)"
   ],
   "outputs": [],
   "metadata": {}
  },
  {
   "cell_type": "code",
   "execution_count": 463,
   "source": [
    "df"
   ],
   "outputs": [
    {
     "output_type": "execute_result",
     "data": {
      "text/plain": [
       "      latitude    longitude  \\\n",
       "0 -158082890.0 -478811490.0   \n",
       "1 -157816365.0 -480012873.0   \n",
       "2 -158355060.0 -480459100.0   \n",
       "3 -158331614.0 -480546031.0   \n",
       "\n",
       "                                            endereco  \\\n",
       "0  SGA/Sul Quadra 602 Projeção D Parte A, Asa Sul...   \n",
       "1  SCSV Quadra 03 Conjunto 01 Lt 25, St. Oeste - ...   \n",
       "2  Avenida das Araucárias, Rua 214 Lote 1/17, QS ...   \n",
       "3       Taguatinga, Brasília - DF, 72010-070, Brasil   \n",
       "\n",
       "                                                nome         start_timestamp  \\\n",
       "0                              Brasilia Music School 2019-03-07 19:42:29.949   \n",
       "1                   Visão Missionária da Última Hora 2019-03-15 18:00:26.214   \n",
       "2  University Center of Brasília - Taguatinga Cam... 2019-03-15 22:01:43.645   \n",
       "3                       St. Central C 6 - Taguatinga 2019-03-16 02:02:09.000   \n",
       "\n",
       "            end_timestamp  \n",
       "0 2019-03-07 19:54:46.898  \n",
       "1 2019-03-15 19:02:42.387  \n",
       "2 2019-03-16 01:05:53.172  \n",
       "3 2019-03-16 02:18:33.039  "
      ],
      "text/html": [
       "<div>\n",
       "<style scoped>\n",
       "    .dataframe tbody tr th:only-of-type {\n",
       "        vertical-align: middle;\n",
       "    }\n",
       "\n",
       "    .dataframe tbody tr th {\n",
       "        vertical-align: top;\n",
       "    }\n",
       "\n",
       "    .dataframe thead th {\n",
       "        text-align: right;\n",
       "    }\n",
       "</style>\n",
       "<table border=\"1\" class=\"dataframe\">\n",
       "  <thead>\n",
       "    <tr style=\"text-align: right;\">\n",
       "      <th></th>\n",
       "      <th>latitude</th>\n",
       "      <th>longitude</th>\n",
       "      <th>endereco</th>\n",
       "      <th>nome</th>\n",
       "      <th>start_timestamp</th>\n",
       "      <th>end_timestamp</th>\n",
       "    </tr>\n",
       "  </thead>\n",
       "  <tbody>\n",
       "    <tr>\n",
       "      <th>0</th>\n",
       "      <td>-158082890.0</td>\n",
       "      <td>-478811490.0</td>\n",
       "      <td>SGA/Sul Quadra 602 Projeção D Parte A, Asa Sul...</td>\n",
       "      <td>Brasilia Music School</td>\n",
       "      <td>2019-03-07 19:42:29.949</td>\n",
       "      <td>2019-03-07 19:54:46.898</td>\n",
       "    </tr>\n",
       "    <tr>\n",
       "      <th>1</th>\n",
       "      <td>-157816365.0</td>\n",
       "      <td>-480012873.0</td>\n",
       "      <td>SCSV Quadra 03 Conjunto 01 Lt 25, St. Oeste - ...</td>\n",
       "      <td>Visão Missionária da Última Hora</td>\n",
       "      <td>2019-03-15 18:00:26.214</td>\n",
       "      <td>2019-03-15 19:02:42.387</td>\n",
       "    </tr>\n",
       "    <tr>\n",
       "      <th>2</th>\n",
       "      <td>-158355060.0</td>\n",
       "      <td>-480459100.0</td>\n",
       "      <td>Avenida das Araucárias, Rua 214 Lote 1/17, QS ...</td>\n",
       "      <td>University Center of Brasília - Taguatinga Cam...</td>\n",
       "      <td>2019-03-15 22:01:43.645</td>\n",
       "      <td>2019-03-16 01:05:53.172</td>\n",
       "    </tr>\n",
       "    <tr>\n",
       "      <th>3</th>\n",
       "      <td>-158331614.0</td>\n",
       "      <td>-480546031.0</td>\n",
       "      <td>Taguatinga, Brasília - DF, 72010-070, Brasil</td>\n",
       "      <td>St. Central C 6 - Taguatinga</td>\n",
       "      <td>2019-03-16 02:02:09.000</td>\n",
       "      <td>2019-03-16 02:18:33.039</td>\n",
       "    </tr>\n",
       "  </tbody>\n",
       "</table>\n",
       "</div>"
      ]
     },
     "metadata": {},
     "execution_count": 463
    }
   ],
   "metadata": {}
  },
  {
   "cell_type": "code",
   "execution_count": 464,
   "source": [
    "df.to_csv('2019_MARCH.csv')"
   ],
   "outputs": [],
   "metadata": {}
  }
 ]
}