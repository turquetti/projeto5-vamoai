{
 "metadata": {
  "language_info": {
   "codemirror_mode": {
    "name": "ipython",
    "version": 3
   },
   "file_extension": ".py",
   "mimetype": "text/x-python",
   "name": "python",
   "nbconvert_exporter": "python",
   "pygments_lexer": "ipython3",
   "version": "3.9.1"
  },
  "orig_nbformat": 4,
  "kernelspec": {
   "name": "python3",
   "display_name": "Python 3.9.1 64-bit"
  },
  "interpreter": {
   "hash": "aee8b7b246df8f9039afb4144a1f6fd8d2ca17a180786b69acc140d282b71a49"
  }
 },
 "nbformat": 4,
 "nbformat_minor": 2,
 "cells": [
  {
   "cell_type": "code",
   "execution_count": 4,
   "metadata": {},
   "outputs": [],
   "source": [
    "import pandas as pd\n",
    "from pathlib import Path\n",
    "import json"
   ]
  },
  {
   "cell_type": "code",
   "execution_count": 5,
   "metadata": {},
   "outputs": [],
   "source": [
    "p = Path(r'2017_JULY.json') #r = read"
   ]
  },
  {
   "cell_type": "code",
   "execution_count": 6,
   "metadata": {},
   "outputs": [],
   "source": [
    "with p.open('r', encoding='utf-8') as f:\n",
    "    h = json.loads(f.read())"
   ]
  },
  {
   "cell_type": "code",
   "execution_count": 12,
   "metadata": {},
   "outputs": [],
   "source": [
    "df = pd.json_normalize(h, 'timelineObjects', ['placeVisit', ['location', 'latitudeE7']], errors='ignore')\n"
   ]
  },
  {
   "cell_type": "code",
   "execution_count": 15,
   "metadata": {},
   "outputs": [],
   "source": [
    "columns = ['activitySegment.startLocation.latitudeE7',\n",
    "       'activitySegment.startLocation.longitudeE7',\n",
    "       'activitySegment.endLocation.latitudeE7',\n",
    "       'activitySegment.endLocation.longitudeE7',\n",
    "       'activitySegment.duration.startTimestampMs',\n",
    "       'activitySegment.duration.endTimestampMs', 'activitySegment.distance',\n",
    "       'activitySegment.activityType', 'activitySegment.confidence',\n",
    "       'activitySegment.activities', 'activitySegment.waypointPath.waypoints',\n",
    "       'activitySegment.simplifiedRawPath.points',\n",
    "       'activitySegment.editConfirmationStatus','placeVisit.location.placeId',\n",
    "       'placeVisit.location.sourceInfo.deviceTag', \n",
    "       'placeVisit.location.locationConfidence','placeVisit.placeConfidence',\n",
    "       'placeVisit.centerLatE7', 'placeVisit.centerLngE7',\n",
    "       'placeVisit.visitConfidence', 'placeVisit.otherCandidateLocations',\n",
    "       'placeVisit.editConfirmationStatus',\n",
    "       'activitySegment.parkingEvent.timestampMs',\n",
    "       'activitySegment.parkingEvent.location.latitudeE7',\n",
    "       'activitySegment.parkingEvent.location.longitudeE7', 'placeVisit',\n",
    "       'location.latitudeE7']"
   ]
  },
  {
   "cell_type": "code",
   "execution_count": 16,
   "metadata": {},
   "outputs": [],
   "source": [
    "df.drop(columns=columns, inplace=True)"
   ]
  },
  {
   "cell_type": "code",
   "execution_count": 18,
   "metadata": {},
   "outputs": [],
   "source": [
    "df.dropna(inplace=True)"
   ]
  },
  {
   "cell_type": "code",
   "execution_count": 20,
   "metadata": {},
   "outputs": [],
   "source": [
    "df.reset_index(inplace=True)"
   ]
  },
  {
   "cell_type": "code",
   "execution_count": 22,
   "metadata": {},
   "outputs": [],
   "source": [
    "df.drop(columns='index', inplace=True)"
   ]
  },
  {
   "cell_type": "code",
   "execution_count": 24,
   "metadata": {},
   "outputs": [],
   "source": [
    "df.columns = ['latitude', 'longitude', 'endereco', 'nome', 'start_timestamp', 'end_timestamp']"
   ]
  },
  {
   "cell_type": "code",
   "execution_count": 28,
   "metadata": {},
   "outputs": [],
   "source": [
    "df['start_timestamp'] = pd.to_datetime(df['start_timestamp'], unit='ms')"
   ]
  },
  {
   "cell_type": "code",
   "execution_count": 30,
   "metadata": {},
   "outputs": [],
   "source": [
    "df['end_timestamp'] = pd.to_datetime(df['end_timestamp'], unit='ms')"
   ]
  },
  {
   "cell_type": "code",
   "execution_count": 34,
   "metadata": {},
   "outputs": [],
   "source": [
    "df['endereco'] = df['endereco'].replace(r'\\n',', ', regex=True)"
   ]
  },
  {
   "cell_type": "code",
   "execution_count": 35,
   "metadata": {},
   "outputs": [
    {
     "output_type": "execute_result",
     "data": {
      "text/plain": [
       "      latitude    longitude  \\\n",
       "0 -158813831.0 -480088752.0   \n",
       "1 -159133312.0 -480487587.0   \n",
       "2 -157829077.0 -479952312.0   \n",
       "3 -158456674.0 -480433040.0   \n",
       "4 -157829077.0 -479952312.0   \n",
       "5 -158182614.0 -481531182.0   \n",
       "6 -157829077.0 -479952312.0   \n",
       "7 -157813777.0 -480015511.0   \n",
       "\n",
       "                                            endereco  \\\n",
       "0  Av. Cedro, AE 15, QS 16, Riacho Fundo I, Brasí...   \n",
       "1  6, Riacho Fundo II-2A Etapa Qc 3 Conjunto 4, 3...   \n",
       "2  Qd 01 CONJ 4 LOJA 3, St. Leste - Guará, Brasíl...   \n",
       "3  QS 3 Lote 11 Lojas 4 a 8, Taguatinga, Brasília...   \n",
       "4  Qd 01 CONJ 4 LOJA 3, St. Leste - Guará, Brasíl...   \n",
       "5  SH Sol Nascente 128 A Conjunto H, 115 - Ceilân...   \n",
       "6  Qd 01 CONJ 4 LOJA 3, St. Leste - Guará, Brasíl...   \n",
       "7  SOF Q 14 Conjunto B - Guará, Brasília - Distri...   \n",
       "\n",
       "                                                nome         start_timestamp  \\\n",
       "0  Federal Institute of Brasilia - Campus Riacho ... 2017-07-11 00:59:48.000   \n",
       "1                                   Parque Riacho 13 2017-07-11 01:24:24.982   \n",
       "2                                           La Pizza 2017-07-17 19:10:29.811   \n",
       "3                               Na Hora - Taguatinga 2017-07-18 12:47:27.336   \n",
       "4                                           La Pizza 2017-07-19 13:37:40.921   \n",
       "5                  School Class 66 Ceilândia (EC 66) 2017-07-25 15:13:33.664   \n",
       "6                                           La Pizza 2017-07-25 18:06:14.447   \n",
       "7                        Igreja de Cristo ESTRUTURAL 2017-07-31 22:45:24.511   \n",
       "\n",
       "            end_timestamp  \n",
       "0 2017-07-11 01:08:48.000  \n",
       "1 2017-07-11 02:12:50.797  \n",
       "2 2017-07-17 20:10:47.557  \n",
       "3 2017-07-18 12:53:38.270  \n",
       "4 2017-07-19 14:06:38.036  \n",
       "5 2017-07-25 17:04:35.163  \n",
       "6 2017-07-25 18:17:17.464  \n",
       "7 2017-07-31 23:10:40.072  "
      ],
      "text/html": "<div>\n<style scoped>\n    .dataframe tbody tr th:only-of-type {\n        vertical-align: middle;\n    }\n\n    .dataframe tbody tr th {\n        vertical-align: top;\n    }\n\n    .dataframe thead th {\n        text-align: right;\n    }\n</style>\n<table border=\"1\" class=\"dataframe\">\n  <thead>\n    <tr style=\"text-align: right;\">\n      <th></th>\n      <th>latitude</th>\n      <th>longitude</th>\n      <th>endereco</th>\n      <th>nome</th>\n      <th>start_timestamp</th>\n      <th>end_timestamp</th>\n    </tr>\n  </thead>\n  <tbody>\n    <tr>\n      <th>0</th>\n      <td>-158813831.0</td>\n      <td>-480088752.0</td>\n      <td>Av. Cedro, AE 15, QS 16, Riacho Fundo I, Brasí...</td>\n      <td>Federal Institute of Brasilia - Campus Riacho ...</td>\n      <td>2017-07-11 00:59:48.000</td>\n      <td>2017-07-11 01:08:48.000</td>\n    </tr>\n    <tr>\n      <th>1</th>\n      <td>-159133312.0</td>\n      <td>-480487587.0</td>\n      <td>6, Riacho Fundo II-2A Etapa Qc 3 Conjunto 4, 3...</td>\n      <td>Parque Riacho 13</td>\n      <td>2017-07-11 01:24:24.982</td>\n      <td>2017-07-11 02:12:50.797</td>\n    </tr>\n    <tr>\n      <th>2</th>\n      <td>-157829077.0</td>\n      <td>-479952312.0</td>\n      <td>Qd 01 CONJ 4 LOJA 3, St. Leste - Guará, Brasíl...</td>\n      <td>La Pizza</td>\n      <td>2017-07-17 19:10:29.811</td>\n      <td>2017-07-17 20:10:47.557</td>\n    </tr>\n    <tr>\n      <th>3</th>\n      <td>-158456674.0</td>\n      <td>-480433040.0</td>\n      <td>QS 3 Lote 11 Lojas 4 a 8, Taguatinga, Brasília...</td>\n      <td>Na Hora - Taguatinga</td>\n      <td>2017-07-18 12:47:27.336</td>\n      <td>2017-07-18 12:53:38.270</td>\n    </tr>\n    <tr>\n      <th>4</th>\n      <td>-157829077.0</td>\n      <td>-479952312.0</td>\n      <td>Qd 01 CONJ 4 LOJA 3, St. Leste - Guará, Brasíl...</td>\n      <td>La Pizza</td>\n      <td>2017-07-19 13:37:40.921</td>\n      <td>2017-07-19 14:06:38.036</td>\n    </tr>\n    <tr>\n      <th>5</th>\n      <td>-158182614.0</td>\n      <td>-481531182.0</td>\n      <td>SH Sol Nascente 128 A Conjunto H, 115 - Ceilân...</td>\n      <td>School Class 66 Ceilândia (EC 66)</td>\n      <td>2017-07-25 15:13:33.664</td>\n      <td>2017-07-25 17:04:35.163</td>\n    </tr>\n    <tr>\n      <th>6</th>\n      <td>-157829077.0</td>\n      <td>-479952312.0</td>\n      <td>Qd 01 CONJ 4 LOJA 3, St. Leste - Guará, Brasíl...</td>\n      <td>La Pizza</td>\n      <td>2017-07-25 18:06:14.447</td>\n      <td>2017-07-25 18:17:17.464</td>\n    </tr>\n    <tr>\n      <th>7</th>\n      <td>-157813777.0</td>\n      <td>-480015511.0</td>\n      <td>SOF Q 14 Conjunto B - Guará, Brasília - Distri...</td>\n      <td>Igreja de Cristo ESTRUTURAL</td>\n      <td>2017-07-31 22:45:24.511</td>\n      <td>2017-07-31 23:10:40.072</td>\n    </tr>\n  </tbody>\n</table>\n</div>"
     },
     "metadata": {},
     "execution_count": 35
    }
   ],
   "source": [
    "df"
   ]
  },
  {
   "cell_type": "code",
   "execution_count": null,
   "metadata": {},
   "outputs": [],
   "source": []
  }
 ]
}