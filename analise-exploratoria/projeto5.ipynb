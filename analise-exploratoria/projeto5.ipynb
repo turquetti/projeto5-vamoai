{
  "nbformat": 4,
  "nbformat_minor": 0,
  "metadata": {
    "colab": {
      "name": "projeto5-aed.ipynb",
      "provenance": []
    },
    "kernelspec": {
      "name": "python3",
      "display_name": "Python 3"
    },
    "language_info": {
      "name": "python"
    }
  },
  "cells": [
    {
      "cell_type": "markdown",
      "metadata": {
        "id": "GUCdHt3T6Mil"
      },
      "source": [
        "### **Projeto Final** - Resilia + iFood\n",
        "\n",
        "##### *Grupo 3*: \n",
        "\n",
        "*   Gabriel Borges\n",
        "*   Gabriela Turquetti\n",
        "*   Ludmila Leal"
      ]
    },
    {
      "cell_type": "markdown",
      "metadata": {
        "id": "Ia1QWuy2IsGQ"
      },
      "source": [
        "# **Ah, você é de Brasília?**\n",
        "\n",
        "Neste *notebook* apresentamos a **análise exploratória** realizada para o Projeto Final do Vamo AI. O objetivo desse projeto é, com dados pessoais de localização e música, confirmar ou não, os esteriótipos que as pessoas possuem sobre os brasilienses e Brasília.\n",
        "\n",
        "Para mais informações sobre as **bases de dados** usadas ou **visualização dos dados** via *Tableau*, acesse nosso [repositório](https://github.com/turquetti/projeto5-vamoai) no GitHub. "
      ]
    },
    {
      "cell_type": "markdown",
      "metadata": {
        "id": "67-NoTtPJmE4"
      },
      "source": [
        "---\n",
        "\n",
        "Nossa **análise exploratória** está estruturada da seguinte forma:\n",
        "\n",
        "\n",
        "1.   **Tratamento das bases de dados**\n",
        "  1. Google Maps\n",
        "  2. Youtube\n",
        "  3. Spotify\n",
        "  4. Regiões Administrativas do Distrito Federal\n",
        "\n",
        "2.   **Exploração de dados**\n",
        "  1. \"Em Brasília todo mundo é rico e mora no Plano Piloto\"\n",
        "  2. \"Você vê o presidente todos os dias?\"\n",
        "  3. \"O que se faz em Brasília?\n",
        "  4. \"Em Brasília todo mundo só ouve Legião Urbana\"\n",
        "  5. Brasília é um ovo!\n",
        "3.   **Referências**\n"
      ]
    },
    {
      "cell_type": "markdown",
      "metadata": {
        "id": "zQrtD9yQPwcX"
      },
      "source": [
        "# Bibliotecas"
      ]
    },
    {
      "cell_type": "code",
      "metadata": {
        "id": "ZB-aW8-35JCn"
      },
      "source": [
        "import pandas as pd\n",
        "from pathlib import Path\n",
        "import json"
      ],
      "execution_count": 1,
      "outputs": []
    },
    {
      "cell_type": "code",
      "metadata": {
        "colab": {
          "base_uri": "https://localhost:8080/"
        },
        "id": "WP3eGSAA6TvR",
        "outputId": "0a0b2c91-4fc1-45db-acc7-cb9806555644"
      },
      "source": [
        "from google.colab import drive\n",
        "drive.mount('/content/drive')"
      ],
      "execution_count": 2,
      "outputs": [
        {
          "output_type": "stream",
          "text": [
            "Mounted at /content/drive\n"
          ],
          "name": "stdout"
        }
      ]
    },
    {
      "cell_type": "markdown",
      "metadata": {
        "id": "zDlpq0C3QS2W"
      },
      "source": [
        "# 1. **Tratamento das bases de dados**"
      ]
    },
    {
      "cell_type": "markdown",
      "metadata": {
        "id": "B2ElXA3dYGl9"
      },
      "source": [
        "### 1.1. *Google Maps*"
      ]
    },
    {
      "cell_type": "markdown",
      "metadata": {
        "id": "kerNYYrNQZK5"
      },
      "source": [
        "Quando recebemos a base de dados do Google, recebemos duas formas de arquivos, ambas em .json: \n",
        "*   *Histórico de Localização* - Arquivo que consta todas as localizações do período solicitado, fornecendo somente informações de latitude, longitude e data. \n",
        "\n",
        "*  Pasta *Semantic Location History* - Dentro dela encontramos todos os arquivos separados por mês e por ano. Esses arquivos .json há mais informações além da latitude, longitude e data, como nome do local visitado e endereço da localização, informações essenciais para nossa análise! \n",
        "\n"
      ]
    },
    {
      "cell_type": "markdown",
      "metadata": {
        "id": "r8Dl8oiLTmhi"
      },
      "source": [
        "---\n",
        "\n",
        "Para ilustrar como o tratamento dos dados do Google Maps nos períodos de 2017 e 2019 foi feito, iremos importar um arquivo .json de Setembro de 2017. "
      ]
    },
    {
      "cell_type": "code",
      "metadata": {
        "id": "KPcpaPmhTzUS"
      },
      "source": [
        "# importando o arquivo a ser tratado\n",
        "p = Path(r'/content/drive/MyDrive/Projeto_5/aed/bases_de_dados/gabriela/historico_de_localizacao/semantic_location_history/2017/2017_SEPTEMBER.json')"
      ],
      "execution_count": 29,
      "outputs": []
    },
    {
      "cell_type": "code",
      "metadata": {
        "id": "GHGfwqp0SHkv"
      },
      "source": [
        "with p.open('r', encoding='utf-8') as f:\n",
        "    h = json.loads(f.read())"
      ],
      "execution_count": 30,
      "outputs": []
    },
    {
      "cell_type": "code",
      "metadata": {
        "id": "DeR9MVZ3UIa2"
      },
      "source": [
        "# usaremos a função json_normalize para acessar somente o campo 'placeVisit' \n",
        "# que contém as informações que iremos usar (latitude, longitude, nome e \n",
        "# timestamp). \n",
        "\n",
        "df_sept_17 = pd.json_normalize(h, 'timelineObjects', ['placeVisit', ['location', 'latitudeE7']], errors='ignore')"
      ],
      "execution_count": 31,
      "outputs": []
    },
    {
      "cell_type": "code",
      "metadata": {
        "colab": {
          "base_uri": "https://localhost:8080/"
        },
        "id": "dyjZ_ABZVhDe",
        "outputId": "3b141d5f-d8c8-4340-f844-5a24cd34b52c"
      },
      "source": [
        "df_sept_17.info()"
      ],
      "execution_count": 32,
      "outputs": [
        {
          "output_type": "stream",
          "text": [
            "<class 'pandas.core.frame.DataFrame'>\n",
            "RangeIndex: 210 entries, 0 to 209\n",
            "Data columns (total 36 columns):\n",
            " #   Column                                                Non-Null Count  Dtype  \n",
            "---  ------                                                --------------  -----  \n",
            " 0   placeVisit.location.latitudeE7                        97 non-null     float64\n",
            " 1   placeVisit.location.longitudeE7                       97 non-null     float64\n",
            " 2   placeVisit.location.placeId                           97 non-null     object \n",
            " 3   placeVisit.location.address                           97 non-null     object \n",
            " 4   placeVisit.location.name                              97 non-null     object \n",
            " 5   placeVisit.location.sourceInfo.deviceTag              97 non-null     float64\n",
            " 6   placeVisit.location.locationConfidence                97 non-null     float64\n",
            " 7   placeVisit.duration.startTimestampMs                  97 non-null     object \n",
            " 8   placeVisit.duration.endTimestampMs                    97 non-null     object \n",
            " 9   placeVisit.placeConfidence                            97 non-null     object \n",
            " 10  placeVisit.centerLatE7                                97 non-null     float64\n",
            " 11  placeVisit.centerLngE7                                97 non-null     float64\n",
            " 12  placeVisit.visitConfidence                            97 non-null     float64\n",
            " 13  placeVisit.otherCandidateLocations                    97 non-null     object \n",
            " 14  placeVisit.editConfirmationStatus                     97 non-null     object \n",
            " 15  activitySegment.startLocation.latitudeE7              113 non-null    float64\n",
            " 16  activitySegment.startLocation.longitudeE7             113 non-null    float64\n",
            " 17  activitySegment.endLocation.latitudeE7                113 non-null    float64\n",
            " 18  activitySegment.endLocation.longitudeE7               113 non-null    float64\n",
            " 19  activitySegment.duration.startTimestampMs             113 non-null    object \n",
            " 20  activitySegment.duration.endTimestampMs               113 non-null    object \n",
            " 21  activitySegment.distance                              113 non-null    float64\n",
            " 22  activitySegment.activityType                          113 non-null    object \n",
            " 23  activitySegment.confidence                            113 non-null    object \n",
            " 24  activitySegment.activities                            113 non-null    object \n",
            " 25  activitySegment.waypointPath.waypoints                110 non-null    object \n",
            " 26  activitySegment.editConfirmationStatus                113 non-null    object \n",
            " 27  activitySegment.parkingEvent.timestampMs              76 non-null     object \n",
            " 28  activitySegment.parkingEvent.location.latitudeE7      76 non-null     float64\n",
            " 29  activitySegment.parkingEvent.location.longitudeE7     76 non-null     float64\n",
            " 30  activitySegment.simplifiedRawPath.points              27 non-null     object \n",
            " 31  placeVisit.simplifiedRawPath.points                   18 non-null     object \n",
            " 32  activitySegment.parkingEvent.location.accuracyMetres  26 non-null     float64\n",
            " 33  placeVisit.childVisits                                16 non-null     object \n",
            " 34  placeVisit                                            0 non-null      object \n",
            " 35  location.latitudeE7                                   0 non-null      object \n",
            "dtypes: float64(15), object(21)\n",
            "memory usage: 59.2+ KB\n"
          ],
          "name": "stdout"
        }
      ]
    },
    {
      "cell_type": "code",
      "metadata": {
        "colab": {
          "base_uri": "https://localhost:8080/"
        },
        "id": "ojHxDNxSUMjA",
        "outputId": "2b5bbc67-4e17-4811-b7a6-f9a652bbc69a"
      },
      "source": [
        "df_sept_17.columns"
      ],
      "execution_count": 33,
      "outputs": [
        {
          "output_type": "execute_result",
          "data": {
            "text/plain": [
              "Index(['placeVisit.location.latitudeE7', 'placeVisit.location.longitudeE7',\n",
              "       'placeVisit.location.placeId', 'placeVisit.location.address',\n",
              "       'placeVisit.location.name', 'placeVisit.location.sourceInfo.deviceTag',\n",
              "       'placeVisit.location.locationConfidence',\n",
              "       'placeVisit.duration.startTimestampMs',\n",
              "       'placeVisit.duration.endTimestampMs', 'placeVisit.placeConfidence',\n",
              "       'placeVisit.centerLatE7', 'placeVisit.centerLngE7',\n",
              "       'placeVisit.visitConfidence', 'placeVisit.otherCandidateLocations',\n",
              "       'placeVisit.editConfirmationStatus',\n",
              "       'activitySegment.startLocation.latitudeE7',\n",
              "       'activitySegment.startLocation.longitudeE7',\n",
              "       'activitySegment.endLocation.latitudeE7',\n",
              "       'activitySegment.endLocation.longitudeE7',\n",
              "       'activitySegment.duration.startTimestampMs',\n",
              "       'activitySegment.duration.endTimestampMs', 'activitySegment.distance',\n",
              "       'activitySegment.activityType', 'activitySegment.confidence',\n",
              "       'activitySegment.activities', 'activitySegment.waypointPath.waypoints',\n",
              "       'activitySegment.editConfirmationStatus',\n",
              "       'activitySegment.parkingEvent.timestampMs',\n",
              "       'activitySegment.parkingEvent.location.latitudeE7',\n",
              "       'activitySegment.parkingEvent.location.longitudeE7',\n",
              "       'activitySegment.simplifiedRawPath.points',\n",
              "       'placeVisit.simplifiedRawPath.points',\n",
              "       'activitySegment.parkingEvent.location.accuracyMetres',\n",
              "       'placeVisit.childVisits', 'placeVisit', 'location.latitudeE7'],\n",
              "      dtype='object')"
            ]
          },
          "metadata": {
            "tags": []
          },
          "execution_count": 33
        }
      ]
    },
    {
      "cell_type": "code",
      "metadata": {
        "id": "cfok8t1OUP58"
      },
      "source": [
        "# incluindo na variável abaixo todas os campos que não iremos utilizar. \n",
        "\n",
        "columns = ['placeVisit.location.placeId', 'placeVisit.location.address',\n",
        "       'placeVisit.location.sourceInfo.deviceTag',\n",
        "       'placeVisit.location.locationConfidence',\n",
        "       'placeVisit.placeConfidence',\n",
        "       'placeVisit.centerLatE7', 'placeVisit.centerLngE7',\n",
        "       'placeVisit.visitConfidence', 'placeVisit.otherCandidateLocations',\n",
        "       'placeVisit.editConfirmationStatus',\n",
        "       'activitySegment.startLocation.latitudeE7',\n",
        "       'activitySegment.startLocation.longitudeE7',\n",
        "       'activitySegment.endLocation.latitudeE7',\n",
        "       'activitySegment.endLocation.longitudeE7',\n",
        "       'activitySegment.duration.startTimestampMs',\n",
        "       'activitySegment.duration.endTimestampMs', 'activitySegment.distance',\n",
        "       'activitySegment.activityType', 'activitySegment.confidence',\n",
        "       'activitySegment.activities', 'activitySegment.waypointPath.waypoints',\n",
        "       'activitySegment.editConfirmationStatus',\n",
        "       'activitySegment.parkingEvent.timestampMs',\n",
        "       'activitySegment.parkingEvent.location.latitudeE7',\n",
        "       'activitySegment.parkingEvent.location.longitudeE7',\n",
        "       'activitySegment.simplifiedRawPath.points',\n",
        "       'placeVisit.simplifiedRawPath.points',\n",
        "       'activitySegment.parkingEvent.location.accuracyMetres',\n",
        "       'placeVisit.childVisits', 'placeVisit', 'location.latitudeE7']"
      ],
      "execution_count": 34,
      "outputs": []
    },
    {
      "cell_type": "code",
      "metadata": {
        "id": "8Bi-Kq9xUXro"
      },
      "source": [
        "# filtrando as colunas que não iremos utilizar e excluindo informações NaN.\n",
        "df_sept_17.drop(columns=columns, inplace=True)\n",
        "df_sept_17.dropna(inplace=True)"
      ],
      "execution_count": 35,
      "outputs": []
    },
    {
      "cell_type": "code",
      "metadata": {
        "id": "JZa5mt2cUk5R"
      },
      "source": [
        "# renomeando colunas\n",
        "df_sept_17.columns = ['latitude', 'longitude','name','start_timestamp', 'end_timestamp']"
      ],
      "execution_count": 36,
      "outputs": []
    },
    {
      "cell_type": "code",
      "metadata": {
        "id": "6ACOHjXvUtnR"
      },
      "source": [
        "# transformando e convertendo as datas para datetime\n",
        "\n",
        "df_sept_17['start_timestamp'] = pd.to_datetime(df_sept_17['start_timestamp'], unit=\"ms\")\n",
        "df_sept_17['end_timestamp'] = pd.to_datetime(df_sept_17['end_timestamp'], unit=\"ms\")"
      ],
      "execution_count": 37,
      "outputs": []
    },
    {
      "cell_type": "code",
      "metadata": {
        "colab": {
          "base_uri": "https://localhost:8080/"
        },
        "id": "HS-j98l8VsaF",
        "outputId": "56454665-7678-4f83-c75e-5ca3e9c037b5"
      },
      "source": [
        "df_sept_17.info()"
      ],
      "execution_count": 27,
      "outputs": [
        {
          "output_type": "stream",
          "text": [
            "<class 'pandas.core.frame.DataFrame'>\n",
            "RangeIndex: 97 entries, 0 to 96\n",
            "Data columns (total 5 columns):\n",
            " #   Column           Non-Null Count  Dtype         \n",
            "---  ------           --------------  -----         \n",
            " 0   latitude         97 non-null     float64       \n",
            " 1   longitude        97 non-null     float64       \n",
            " 2   name             97 non-null     object        \n",
            " 3   start_timestamp  97 non-null     datetime64[ns]\n",
            " 4   end_timestamp    97 non-null     datetime64[ns]\n",
            "dtypes: datetime64[ns](2), float64(2), object(1)\n",
            "memory usage: 3.9+ KB\n"
          ],
          "name": "stdout"
        }
      ]
    },
    {
      "cell_type": "code",
      "metadata": {
        "id": "j1GA5T3SU1XP"
      },
      "source": [
        "df_sept_17.reset_index(inplace=True)\n",
        "df_sept_17.drop(columns='index', inplace=True)"
      ],
      "execution_count": 38,
      "outputs": []
    },
    {
      "cell_type": "code",
      "metadata": {
        "id": "7xNS1w-bVZ6b"
      },
      "source": [
        "df_sept_17['latitude'] = df_sept_17['latitude']/10000000\n",
        "df_sept_17['longitude'] = df_sept_17['longitude']/10000000"
      ],
      "execution_count": 39,
      "outputs": []
    },
    {
      "cell_type": "markdown",
      "metadata": {
        "id": "nA8ecPnNcBXe"
      },
      "source": [
        "##### Esse processo de tratamento dos dados foi feito para todos os arquivos de 2017, 2018 e 2019, e como os arquivos são disponibilizados mensalmente, de forma a facilitar a exploração de dados, foi necessário concatená-los por ano, e posteriormente concatená-los em somente um arquivo, conforme é mostrado logo abaixo! "
      ]
    },
    {
      "cell_type": "markdown",
      "metadata": {
        "id": "f5rm38dwWfii"
      },
      "source": [
        "---\n",
        "\n",
        "#### Concatenando os arquivos limpos"
      ]
    },
    {
      "cell_type": "code",
      "metadata": {
        "id": "H5slB4rBWnfz"
      },
      "source": [
        "df = [df_2017, df_2018 df_2019]"
      ],
      "execution_count": null,
      "outputs": []
    },
    {
      "cell_type": "code",
      "metadata": {
        "id": "To1WnWXhXhxF"
      },
      "source": [
        "df = pd.concat(df)"
      ],
      "execution_count": null,
      "outputs": []
    },
    {
      "cell_type": "code",
      "metadata": {
        "id": "vUeHJnX3Wm9Q"
      },
      "source": [
        "#exportando o dataframe com todas as localizações entre 2017 e 2019 para .csv\n",
        "\n",
        "df.to_csv('/content/drive/MyDrive/Projeto_5/aed/full-loc-gabriela.csv')"
      ],
      "execution_count": null,
      "outputs": []
    },
    {
      "cell_type": "markdown",
      "metadata": {
        "id": "rZifGzqHY5un"
      },
      "source": [
        "### 1.2. *YouTube*"
      ]
    },
    {
      "cell_type": "markdown",
      "metadata": {
        "id": "f0-3TuG_edVM"
      },
      "source": [
        "Quando recebemos a base de dados do Google, recebemos duas formas de arquivos, ambas em .json: \n",
        "*   *Histórico de Pesquisa* - Arquivo que consta todas as pesquisas realizadas no YouTube.\n",
        "\n",
        "*  *Histórico de Visualização* - Arquivo que consta todas as visualizações realizadas pelo usuário. Para nossa análise, iremos utilizar esse arquivo!\n"
      ]
    },
    {
      "cell_type": "markdown",
      "metadata": {
        "id": "yfgnnNUMfVQp"
      },
      "source": [
        "---\n"
      ]
    },
    {
      "cell_type": "code",
      "metadata": {
        "id": "U30CBPyHeLdo"
      },
      "source": [
        "df_yt = pd.read_json('/content/drive/MyDrive/Projeto_5/aed/bases_de_dados/ludmila/youtube/historico-de-visualizacao.json')"
      ],
      "execution_count": 106,
      "outputs": []
    },
    {
      "cell_type": "code",
      "metadata": {
        "colab": {
          "base_uri": "https://localhost:8080/"
        },
        "id": "ALiYf8p3jNHm",
        "outputId": "402e01e4-a43b-40a1-af08-8132aab95436"
      },
      "source": [
        "df_yt.info()"
      ],
      "execution_count": 107,
      "outputs": [
        {
          "output_type": "stream",
          "text": [
            "<class 'pandas.core.frame.DataFrame'>\n",
            "RangeIndex: 5301 entries, 0 to 5300\n",
            "Data columns (total 7 columns):\n",
            " #   Column     Non-Null Count  Dtype \n",
            "---  ------     --------------  ----- \n",
            " 0   header     5301 non-null   object\n",
            " 1   title      5301 non-null   object\n",
            " 2   titleUrl   5280 non-null   object\n",
            " 3   subtitles  5058 non-null   object\n",
            " 4   time       5301 non-null   object\n",
            " 5   products   5301 non-null   object\n",
            " 6   details    91 non-null     object\n",
            "dtypes: object(7)\n",
            "memory usage: 290.0+ KB\n"
          ],
          "name": "stdout"
        }
      ]
    },
    {
      "cell_type": "code",
      "metadata": {
        "id": "XoEAso8PgGwa"
      },
      "source": [
        "# filtrando valores NaN\n",
        "\n",
        "df_yt.drop(columns='details', inplace=True)\n",
        "df_yt.dropna(inplace=True)\n",
        "df_yt.reset_index(inplace=True)"
      ],
      "execution_count": 108,
      "outputs": []
    },
    {
      "cell_type": "code",
      "metadata": {
        "id": "CUK_aNjNio22"
      },
      "source": [
        "# filtrando as colunas que não iremos utilizar\n",
        "\n",
        "df_yt.drop(columns=['index', 'header','products'], inplace=True)"
      ],
      "execution_count": 109,
      "outputs": []
    },
    {
      "cell_type": "code",
      "metadata": {
        "id": "X38_JO8IgoQv"
      },
      "source": [
        "# extraindo o nome do canal do Youtube da coluna 'subtitles'\n",
        "\n",
        "c = len(df_yt)\n",
        "channel_name = []\n",
        "\n",
        "for i in range(c):\n",
        "    channel_name.append(df_yt['subtitles'][i][0]['name'])\n",
        "\n",
        "# criando uma nova coluna com o nome dos canais de cada vídeo assistido\n",
        "df_yt['channelName'] = channel_name"
      ],
      "execution_count": 110,
      "outputs": []
    },
    {
      "cell_type": "code",
      "metadata": {
        "id": "eSo18l45hIyy"
      },
      "source": [
        "# Retirando 'Watched' no título de todos os vídeos assistidos\n",
        "\n",
        "df_yt['title'] = df_yt['title'].str.replace('Watched','')"
      ],
      "execution_count": 111,
      "outputs": []
    },
    {
      "cell_type": "code",
      "metadata": {
        "id": "JZCoOfTFhXmR"
      },
      "source": [
        "# transformando o formato do timestamp\n",
        "\n",
        "date_time = []\n",
        "\n",
        "for i in range(c):\n",
        "    date_split = df_yt['time'][i].split('T')\n",
        "    date_time.append(date_split[0])\n",
        "\n",
        "\n",
        "df_yt['time'] = date_time\n",
        "\n",
        "df_yt['time'] = pd.to_datetime(df_yt['time'])"
      ],
      "execution_count": 112,
      "outputs": []
    },
    {
      "cell_type": "code",
      "metadata": {
        "id": "0p-wJRGYjDT5"
      },
      "source": [
        "# filtrando o df para vídeos assistidos somente entre 2020 e 2021\n",
        "\n",
        "start_date = '2020-01-01'\n",
        "end_date = '2021-07-20'\n",
        "\n",
        "df_yt = df_yt.loc[(df_yt['time'] >= start_date)\n",
        "                     & (df_yt['time'] < end_date)]"
      ],
      "execution_count": 113,
      "outputs": []
    },
    {
      "cell_type": "code",
      "metadata": {
        "id": "b2y9UEA0joC3"
      },
      "source": [
        "df_yt.reset_index(inplace=True)\n",
        "df_yt.drop(columns=['index','subtitles'], inplace=True)"
      ],
      "execution_count": 114,
      "outputs": []
    },
    {
      "cell_type": "code",
      "metadata": {
        "id": "c1jESSLCkY_s"
      },
      "source": [
        "# extraindo a ID de todos os vídeos assistidos da coluna 'titleUrl'\n",
        "\n",
        "c = len(df_yt)\n",
        "id = []\n",
        "\n",
        "for i in range(c):\n",
        "    url = df_yt['titleUrl'][i].split('=')\n",
        "    id.append(url[1])"
      ],
      "execution_count": 115,
      "outputs": []
    },
    {
      "cell_type": "markdown",
      "metadata": {
        "id": "kr23rPbgjxKM"
      },
      "source": [
        "Para filtrar somente aqueles vídeos que são de música, iremos consumir a API do YouTube para extrair a categoria de todos os vídeos e posteriormente filtrar pela categoria '10', referente à categoria de Música."
      ]
    },
    {
      "cell_type": "code",
      "metadata": {
        "colab": {
          "base_uri": "https://localhost:8080/"
        },
        "id": "aDWmVMq1kSgG",
        "outputId": "1117e68f-3dee-4a20-d6c8-503fe4d72e72"
      },
      "source": [
        "!pip install --upgrade google-api-python-client"
      ],
      "execution_count": 91,
      "outputs": [
        {
          "output_type": "stream",
          "text": [
            "Requirement already satisfied: google-api-python-client in /usr/local/lib/python3.7/dist-packages (1.12.8)\n",
            "Collecting google-api-python-client\n",
            "  Downloading google_api_python_client-2.15.0-py2.py3-none-any.whl (7.2 MB)\n",
            "\u001b[K     |████████████████████████████████| 7.2 MB 4.8 MB/s \n",
            "\u001b[?25hRequirement already satisfied: google-auth<3.0.0dev,>=1.16.0 in /usr/local/lib/python3.7/dist-packages (from google-api-python-client) (1.32.1)\n",
            "Requirement already satisfied: httplib2<1dev,>=0.15.0 in /usr/local/lib/python3.7/dist-packages (from google-api-python-client) (0.17.4)\n",
            "Collecting google-auth-httplib2>=0.1.0\n",
            "  Downloading google_auth_httplib2-0.1.0-py2.py3-none-any.whl (9.3 kB)\n",
            "Requirement already satisfied: google-api-core<3.0.0dev,>=1.21.0 in /usr/local/lib/python3.7/dist-packages (from google-api-python-client) (1.26.3)\n",
            "Requirement already satisfied: uritemplate<4dev,>=3.0.0 in /usr/local/lib/python3.7/dist-packages (from google-api-python-client) (3.0.1)\n",
            "Requirement already satisfied: packaging>=14.3 in /usr/local/lib/python3.7/dist-packages (from google-api-core<3.0.0dev,>=1.21.0->google-api-python-client) (21.0)\n",
            "Requirement already satisfied: protobuf>=3.12.0 in /usr/local/lib/python3.7/dist-packages (from google-api-core<3.0.0dev,>=1.21.0->google-api-python-client) (3.17.3)\n",
            "Requirement already satisfied: setuptools>=40.3.0 in /usr/local/lib/python3.7/dist-packages (from google-api-core<3.0.0dev,>=1.21.0->google-api-python-client) (57.2.0)\n",
            "Requirement already satisfied: requests<3.0.0dev,>=2.18.0 in /usr/local/lib/python3.7/dist-packages (from google-api-core<3.0.0dev,>=1.21.0->google-api-python-client) (2.23.0)\n",
            "Requirement already satisfied: six>=1.13.0 in /usr/local/lib/python3.7/dist-packages (from google-api-core<3.0.0dev,>=1.21.0->google-api-python-client) (1.15.0)\n",
            "Requirement already satisfied: pytz in /usr/local/lib/python3.7/dist-packages (from google-api-core<3.0.0dev,>=1.21.0->google-api-python-client) (2018.9)\n",
            "Requirement already satisfied: googleapis-common-protos<2.0dev,>=1.6.0 in /usr/local/lib/python3.7/dist-packages (from google-api-core<3.0.0dev,>=1.21.0->google-api-python-client) (1.53.0)\n",
            "Requirement already satisfied: cachetools<5.0,>=2.0.0 in /usr/local/lib/python3.7/dist-packages (from google-auth<3.0.0dev,>=1.16.0->google-api-python-client) (4.2.2)\n",
            "Requirement already satisfied: pyasn1-modules>=0.2.1 in /usr/local/lib/python3.7/dist-packages (from google-auth<3.0.0dev,>=1.16.0->google-api-python-client) (0.2.8)\n",
            "Requirement already satisfied: rsa<5,>=3.1.4 in /usr/local/lib/python3.7/dist-packages (from google-auth<3.0.0dev,>=1.16.0->google-api-python-client) (4.7.2)\n",
            "Requirement already satisfied: pyparsing>=2.0.2 in /usr/local/lib/python3.7/dist-packages (from packaging>=14.3->google-api-core<3.0.0dev,>=1.21.0->google-api-python-client) (2.4.7)\n",
            "Requirement already satisfied: pyasn1<0.5.0,>=0.4.6 in /usr/local/lib/python3.7/dist-packages (from pyasn1-modules>=0.2.1->google-auth<3.0.0dev,>=1.16.0->google-api-python-client) (0.4.8)\n",
            "Requirement already satisfied: urllib3!=1.25.0,!=1.25.1,<1.26,>=1.21.1 in /usr/local/lib/python3.7/dist-packages (from requests<3.0.0dev,>=2.18.0->google-api-core<3.0.0dev,>=1.21.0->google-api-python-client) (1.24.3)\n",
            "Requirement already satisfied: chardet<4,>=3.0.2 in /usr/local/lib/python3.7/dist-packages (from requests<3.0.0dev,>=2.18.0->google-api-core<3.0.0dev,>=1.21.0->google-api-python-client) (3.0.4)\n",
            "Requirement already satisfied: certifi>=2017.4.17 in /usr/local/lib/python3.7/dist-packages (from requests<3.0.0dev,>=2.18.0->google-api-core<3.0.0dev,>=1.21.0->google-api-python-client) (2021.5.30)\n",
            "Requirement already satisfied: idna<3,>=2.5 in /usr/local/lib/python3.7/dist-packages (from requests<3.0.0dev,>=2.18.0->google-api-core<3.0.0dev,>=1.21.0->google-api-python-client) (2.10)\n",
            "Installing collected packages: google-auth-httplib2, google-api-python-client\n",
            "  Attempting uninstall: google-auth-httplib2\n",
            "    Found existing installation: google-auth-httplib2 0.0.4\n",
            "    Uninstalling google-auth-httplib2-0.0.4:\n",
            "      Successfully uninstalled google-auth-httplib2-0.0.4\n",
            "  Attempting uninstall: google-api-python-client\n",
            "    Found existing installation: google-api-python-client 1.12.8\n",
            "    Uninstalling google-api-python-client-1.12.8:\n",
            "      Successfully uninstalled google-api-python-client-1.12.8\n",
            "\u001b[31mERROR: pip's dependency resolver does not currently take into account all the packages that are installed. This behaviour is the source of the following dependency conflicts.\n",
            "earthengine-api 0.1.272 requires google-api-python-client<2,>=1.12.1, but you have google-api-python-client 2.15.0 which is incompatible.\u001b[0m\n",
            "Successfully installed google-api-python-client-2.15.0 google-auth-httplib2-0.1.0\n"
          ],
          "name": "stdout"
        }
      ]
    },
    {
      "cell_type": "code",
      "metadata": {
        "id": "weMg8mgclMzR"
      },
      "source": [
        "from googleapiclient.discovery import build"
      ],
      "execution_count": 116,
      "outputs": []
    },
    {
      "cell_type": "code",
      "metadata": {
        "id": "A-r4h9P6lNyG"
      },
      "source": [
        "api_key='insira_sua_key_aqui'"
      ],
      "execution_count": 117,
      "outputs": []
    },
    {
      "cell_type": "code",
      "metadata": {
        "id": "VRSTm5Q9lQj4"
      },
      "source": [
        "youtube = build('youtube','v3', developerKey=api_key)"
      ],
      "execution_count": 118,
      "outputs": []
    },
    {
      "cell_type": "code",
      "metadata": {
        "id": "E2okbLYwlSi_"
      },
      "source": [
        "# Extraindo a categoria das requisições\n",
        "\n",
        "categoryId = []\n",
        "\n",
        "for j in id:\n",
        "    try:\n",
        "        res = youtube.videos().list(part='snippet', id = j).execute()\n",
        "        categoryId.append(res['items'][0]['snippet']['categoryId'])\n",
        "    except:\n",
        "        categoryId.append('')\n",
        "\n",
        "df_yt['category'] = categoryId"
      ],
      "execution_count": 119,
      "outputs": []
    },
    {
      "cell_type": "code",
      "metadata": {
        "id": "weq8zhZ4mpO-"
      },
      "source": [
        "df_yt = df.loc[df_yt['category'] == '10']"
      ],
      "execution_count": 120,
      "outputs": []
    },
    {
      "cell_type": "code",
      "metadata": {
        "id": "J9QZzxPloAAL"
      },
      "source": [
        "df_yt.to_csv('historico-yt.csv')"
      ],
      "execution_count": null,
      "outputs": []
    },
    {
      "cell_type": "markdown",
      "metadata": {
        "id": "17q9RdIioJa4"
      },
      "source": [
        "### 1.3. *Spotify*"
      ]
    },
    {
      "cell_type": "markdown",
      "metadata": {
        "id": "71ERx817qasA"
      },
      "source": [
        "A base de dados do Spotify compreende o arquivo *StreamingHistory0.json* com todo o histórico de *streaming* ouvido entre 2020 e 2021.\n"
      ]
    },
    {
      "cell_type": "code",
      "metadata": {
        "id": "MVfNg5kOrTie"
      },
      "source": [
        "df_sptfy = pd.read_json('/content/drive/MyDrive/Projeto_5/aed/bases_de_dados/gabriela/spotify/StreamingHistory0.json')"
      ],
      "execution_count": 122,
      "outputs": []
    },
    {
      "cell_type": "code",
      "metadata": {
        "colab": {
          "base_uri": "https://localhost:8080/"
        },
        "id": "h5WSGAJRrale",
        "outputId": "65432d21-280e-42f4-ba85-8bd9025177a4"
      },
      "source": [
        "df_sptfy.info()"
      ],
      "execution_count": 123,
      "outputs": [
        {
          "output_type": "stream",
          "text": [
            "<class 'pandas.core.frame.DataFrame'>\n",
            "RangeIndex: 3838 entries, 0 to 3837\n",
            "Data columns (total 4 columns):\n",
            " #   Column      Non-Null Count  Dtype \n",
            "---  ------      --------------  ----- \n",
            " 0   endTime     3838 non-null   object\n",
            " 1   artistName  3838 non-null   object\n",
            " 2   trackName   3838 non-null   object\n",
            " 3   msPlayed    3838 non-null   int64 \n",
            "dtypes: int64(1), object(3)\n",
            "memory usage: 120.1+ KB\n"
          ],
          "name": "stdout"
        }
      ]
    },
    {
      "cell_type": "code",
      "metadata": {
        "id": "Rmo3ZhGmrcnj"
      },
      "source": [
        "df_sptfy['endTime'] = pd.to_datetime(df_sptfy['endTime'])"
      ],
      "execution_count": 124,
      "outputs": []
    },
    {
      "cell_type": "code",
      "metadata": {
        "id": "ylhhbeLvrjWP"
      },
      "source": [
        "df_sptfy['minutedPlayed'] = df_sptfy['msPlayed']/60000"
      ],
      "execution_count": 125,
      "outputs": []
    },
    {
      "cell_type": "code",
      "metadata": {
        "id": "-AX1XXyGsFn1"
      },
      "source": [
        "df_sptfy.drop(columns='msPlayed', inplace=True)"
      ],
      "execution_count": 130,
      "outputs": []
    },
    {
      "cell_type": "markdown",
      "metadata": {
        "id": "MGJXDum3s6zP"
      },
      "source": [
        "### 1.4. Regiões Administrativas do Distrito Federal"
      ]
    },
    {
      "cell_type": "markdown",
      "metadata": {
        "id": "ODhOZxJIt_YS"
      },
      "source": [
        "Para enriquecer nossa análise com mais informações sobre as Regiões Administrativas (RA) do Distrito Federal, na plataforma InfoDF foi possível obter dois arquivos:\n",
        "\n",
        "*   *Delimitação Amb* - arquivo .geojson que possui os limites geográficos de cada RA.\n",
        "\n",
        "*   *Dados Brasília Metropolitana* - tabela com informações de renda per capita de cada região, porcentagem de mulheres e homens, porcentagem de acesso à saneamento básico, dentre outros.\n"
      ]
    },
    {
      "cell_type": "markdown",
      "metadata": {
        "id": "LbwvcN-Nw4Wk"
      },
      "source": [
        "#### *Delimitação Amb*"
      ]
    },
    {
      "cell_type": "code",
      "metadata": {
        "colab": {
          "base_uri": "https://localhost:8080/"
        },
        "id": "ZCSOu6jxvu27",
        "outputId": "999753c0-6f17-4c3f-dcb2-aa990c8d92e5"
      },
      "source": [
        "!pip install geopandas"
      ],
      "execution_count": 133,
      "outputs": [
        {
          "output_type": "stream",
          "text": [
            "Collecting geopandas\n",
            "  Downloading geopandas-0.9.0-py2.py3-none-any.whl (994 kB)\n",
            "\u001b[K     |████████████████████████████████| 994 kB 4.8 MB/s \n",
            "\u001b[?25hRequirement already satisfied: shapely>=1.6 in /usr/local/lib/python3.7/dist-packages (from geopandas) (1.7.1)\n",
            "Requirement already satisfied: pandas>=0.24.0 in /usr/local/lib/python3.7/dist-packages (from geopandas) (1.1.5)\n",
            "Collecting fiona>=1.8\n",
            "  Downloading Fiona-1.8.20-cp37-cp37m-manylinux1_x86_64.whl (15.4 MB)\n",
            "\u001b[K     |████████████████████████████████| 15.4 MB 36 kB/s \n",
            "\u001b[?25hCollecting pyproj>=2.2.0\n",
            "  Downloading pyproj-3.1.0-cp37-cp37m-manylinux2010_x86_64.whl (6.6 MB)\n",
            "\u001b[K     |████████████████████████████████| 6.6 MB 34.0 MB/s \n",
            "\u001b[?25hRequirement already satisfied: setuptools in /usr/local/lib/python3.7/dist-packages (from fiona>=1.8->geopandas) (57.2.0)\n",
            "Requirement already satisfied: attrs>=17 in /usr/local/lib/python3.7/dist-packages (from fiona>=1.8->geopandas) (21.2.0)\n",
            "Collecting munch\n",
            "  Downloading munch-2.5.0-py2.py3-none-any.whl (10 kB)\n",
            "Requirement already satisfied: click>=4.0 in /usr/local/lib/python3.7/dist-packages (from fiona>=1.8->geopandas) (7.1.2)\n",
            "Collecting click-plugins>=1.0\n",
            "  Downloading click_plugins-1.1.1-py2.py3-none-any.whl (7.5 kB)\n",
            "Requirement already satisfied: six>=1.7 in /usr/local/lib/python3.7/dist-packages (from fiona>=1.8->geopandas) (1.15.0)\n",
            "Collecting cligj>=0.5\n",
            "  Downloading cligj-0.7.2-py3-none-any.whl (7.1 kB)\n",
            "Requirement already satisfied: certifi in /usr/local/lib/python3.7/dist-packages (from fiona>=1.8->geopandas) (2021.5.30)\n",
            "Requirement already satisfied: numpy>=1.15.4 in /usr/local/lib/python3.7/dist-packages (from pandas>=0.24.0->geopandas) (1.19.5)\n",
            "Requirement already satisfied: pytz>=2017.2 in /usr/local/lib/python3.7/dist-packages (from pandas>=0.24.0->geopandas) (2018.9)\n",
            "Requirement already satisfied: python-dateutil>=2.7.3 in /usr/local/lib/python3.7/dist-packages (from pandas>=0.24.0->geopandas) (2.8.1)\n",
            "Installing collected packages: munch, cligj, click-plugins, pyproj, fiona, geopandas\n",
            "Successfully installed click-plugins-1.1.1 cligj-0.7.2 fiona-1.8.20 geopandas-0.9.0 munch-2.5.0 pyproj-3.1.0\n"
          ],
          "name": "stdout"
        }
      ]
    },
    {
      "cell_type": "code",
      "metadata": {
        "id": "chzkqyRuwB22"
      },
      "source": [
        "import geopandas as gpd"
      ],
      "execution_count": 134,
      "outputs": []
    },
    {
      "cell_type": "code",
      "metadata": {
        "id": "1ITIZy9zwDQA"
      },
      "source": [
        "mapa_df = gpd.read_file('/content/drive/MyDrive/Projeto_5/aed/bases_de_dados/dados_complementares/mapa_df/delimitacao_amb.geojson')"
      ],
      "execution_count": 137,
      "outputs": []
    },
    {
      "cell_type": "code",
      "metadata": {
        "id": "BP7IX4tiwUlG"
      },
      "source": [
        "#filtrando as cidades do Estado do Goías\n",
        "\n",
        "mapa_df = mapa_df.loc[mapa_df['sigla_uf'] != 'GO']"
      ],
      "execution_count": 139,
      "outputs": []
    },
    {
      "cell_type": "code",
      "metadata": {
        "id": "FND1E9dHwfNm"
      },
      "source": [
        "mapa_df.drop(columns=['geocod_mu','sigla_uf'], inplace=True)"
      ],
      "execution_count": 141,
      "outputs": []
    },
    {
      "cell_type": "code",
      "metadata": {
        "colab": {
          "base_uri": "https://localhost:8080/",
          "height": 1000
        },
        "id": "b7YKFYhgwtYN",
        "outputId": "48ed46f6-e378-4be8-f666-ea19ce063584"
      },
      "source": [
        "mapa_df.to_file(\"delimitacao_df.geojson\", driver='GeoJSON')"
      ],
      "execution_count": 142,
      "outputs": [
        {
          "output_type": "execute_result",
          "data": {
            "text/html": [
              "<div>\n",
              "<style scoped>\n",
              "    .dataframe tbody tr th:only-of-type {\n",
              "        vertical-align: middle;\n",
              "    }\n",
              "\n",
              "    .dataframe tbody tr th {\n",
              "        vertical-align: top;\n",
              "    }\n",
              "\n",
              "    .dataframe thead th {\n",
              "        text-align: right;\n",
              "    }\n",
              "</style>\n",
              "<table border=\"1\" class=\"dataframe\">\n",
              "  <thead>\n",
              "    <tr style=\"text-align: right;\">\n",
              "      <th></th>\n",
              "      <th>ra_num</th>\n",
              "      <th>nome</th>\n",
              "      <th>ra_prefixo</th>\n",
              "      <th>geometry</th>\n",
              "    </tr>\n",
              "  </thead>\n",
              "  <tbody>\n",
              "    <tr>\n",
              "      <th>0</th>\n",
              "      <td>1</td>\n",
              "      <td>Plano Piloto</td>\n",
              "      <td>I</td>\n",
              "      <td>MULTIPOLYGON (((-47.85950 -15.68823, -47.85951...</td>\n",
              "    </tr>\n",
              "    <tr>\n",
              "      <th>1</th>\n",
              "      <td>2</td>\n",
              "      <td>Gama</td>\n",
              "      <td>II</td>\n",
              "      <td>MULTIPOLYGON (((-48.03822 -15.94543, -48.03714...</td>\n",
              "    </tr>\n",
              "    <tr>\n",
              "      <th>2</th>\n",
              "      <td>4</td>\n",
              "      <td>Brazlândia</td>\n",
              "      <td>IV</td>\n",
              "      <td>MULTIPOLYGON (((-48.20825 -15.74034, -48.20778...</td>\n",
              "    </tr>\n",
              "    <tr>\n",
              "      <th>3</th>\n",
              "      <td>5</td>\n",
              "      <td>Sobradinho</td>\n",
              "      <td>V</td>\n",
              "      <td>MULTIPOLYGON (((-47.76379 -15.52734, -47.76379...</td>\n",
              "    </tr>\n",
              "    <tr>\n",
              "      <th>4</th>\n",
              "      <td>6</td>\n",
              "      <td>Planaltina</td>\n",
              "      <td>VI</td>\n",
              "      <td>MULTIPOLYGON (((-47.41841 -15.50182, -47.41841...</td>\n",
              "    </tr>\n",
              "    <tr>\n",
              "      <th>5</th>\n",
              "      <td>7</td>\n",
              "      <td>Paranoá</td>\n",
              "      <td>VII</td>\n",
              "      <td>MULTIPOLYGON (((-47.66188 -15.73406, -47.66217...</td>\n",
              "    </tr>\n",
              "    <tr>\n",
              "      <th>6</th>\n",
              "      <td>10</td>\n",
              "      <td>Guará</td>\n",
              "      <td>X</td>\n",
              "      <td>MULTIPOLYGON (((-47.97051 -15.80634, -47.97056...</td>\n",
              "    </tr>\n",
              "    <tr>\n",
              "      <th>7</th>\n",
              "      <td>12</td>\n",
              "      <td>Samambaia</td>\n",
              "      <td>XII</td>\n",
              "      <td>MULTIPOLYGON (((-48.04743 -15.85948, -48.04742...</td>\n",
              "    </tr>\n",
              "    <tr>\n",
              "      <th>8</th>\n",
              "      <td>13</td>\n",
              "      <td>Santa Maria</td>\n",
              "      <td>XIII</td>\n",
              "      <td>MULTIPOLYGON (((-47.89151 -15.97127, -47.89139...</td>\n",
              "    </tr>\n",
              "    <tr>\n",
              "      <th>9</th>\n",
              "      <td>14</td>\n",
              "      <td>São Sebastião</td>\n",
              "      <td>XIV</td>\n",
              "      <td>MULTIPOLYGON (((-47.79090 -15.87513, -47.79014...</td>\n",
              "    </tr>\n",
              "    <tr>\n",
              "      <th>10</th>\n",
              "      <td>24</td>\n",
              "      <td>Park Way</td>\n",
              "      <td>XXIV</td>\n",
              "      <td>MULTIPOLYGON (((-47.94559 -15.87434, -47.94696...</td>\n",
              "    </tr>\n",
              "    <tr>\n",
              "      <th>11</th>\n",
              "      <td>26</td>\n",
              "      <td>Sobradinho II</td>\n",
              "      <td>XXVI</td>\n",
              "      <td>MULTIPOLYGON (((-47.96747 -15.53149, -47.96723...</td>\n",
              "    </tr>\n",
              "    <tr>\n",
              "      <th>12</th>\n",
              "      <td>27</td>\n",
              "      <td>Jardim Botânico</td>\n",
              "      <td>XXVII</td>\n",
              "      <td>MULTIPOLYGON (((-47.70722 -15.89356, -47.70727...</td>\n",
              "    </tr>\n",
              "    <tr>\n",
              "      <th>13</th>\n",
              "      <td>20</td>\n",
              "      <td>Águas Claras</td>\n",
              "      <td>XX</td>\n",
              "      <td>MULTIPOLYGON (((-48.00484 -15.81463, -48.00482...</td>\n",
              "    </tr>\n",
              "    <tr>\n",
              "      <th>14</th>\n",
              "      <td>9</td>\n",
              "      <td>Ceilândia</td>\n",
              "      <td>IX</td>\n",
              "      <td>MULTIPOLYGON (((-48.11192 -15.77044, -48.11183...</td>\n",
              "    </tr>\n",
              "    <tr>\n",
              "      <th>15</th>\n",
              "      <td>32</td>\n",
              "      <td>Pôr do Sol</td>\n",
              "      <td>XXXII</td>\n",
              "      <td>MULTIPOLYGON (((-48.16360 -15.79501, -48.15915...</td>\n",
              "    </tr>\n",
              "    <tr>\n",
              "      <th>16</th>\n",
              "      <td>31</td>\n",
              "      <td>Fercal</td>\n",
              "      <td>XXXI</td>\n",
              "      <td>MULTIPOLYGON (((-47.77180 -15.50276, -47.77174...</td>\n",
              "    </tr>\n",
              "    <tr>\n",
              "      <th>17</th>\n",
              "      <td>3</td>\n",
              "      <td>Taguatinga</td>\n",
              "      <td>III</td>\n",
              "      <td>MULTIPOLYGON (((-48.04580 -15.75893, -48.04552...</td>\n",
              "    </tr>\n",
              "    <tr>\n",
              "      <th>18</th>\n",
              "      <td>33</td>\n",
              "      <td>Arniqueira</td>\n",
              "      <td>XXXIII</td>\n",
              "      <td>MULTIPOLYGON (((-48.00957 -15.84399, -48.00915...</td>\n",
              "    </tr>\n",
              "    <tr>\n",
              "      <th>19</th>\n",
              "      <td>8</td>\n",
              "      <td>Núcleo Bandeirante</td>\n",
              "      <td>VIII</td>\n",
              "      <td>MULTIPOLYGON (((-47.95455 -15.84839, -47.95465...</td>\n",
              "    </tr>\n",
              "    <tr>\n",
              "      <th>20</th>\n",
              "      <td>11</td>\n",
              "      <td>Cruzeiro</td>\n",
              "      <td>XI</td>\n",
              "      <td>MULTIPOLYGON (((-47.93818 -15.80552, -47.93963...</td>\n",
              "    </tr>\n",
              "    <tr>\n",
              "      <th>21</th>\n",
              "      <td>17</td>\n",
              "      <td>Riacho Fundo</td>\n",
              "      <td>XVII</td>\n",
              "      <td>MULTIPOLYGON (((-48.01192 -15.87822, -48.01153...</td>\n",
              "    </tr>\n",
              "    <tr>\n",
              "      <th>22</th>\n",
              "      <td>15</td>\n",
              "      <td>Recanto das Emas</td>\n",
              "      <td>XV</td>\n",
              "      <td>MULTIPOLYGON (((-48.04686 -15.92447, -48.04650...</td>\n",
              "    </tr>\n",
              "    <tr>\n",
              "      <th>23</th>\n",
              "      <td>16</td>\n",
              "      <td>Lago Sul</td>\n",
              "      <td>XVI</td>\n",
              "      <td>MULTIPOLYGON (((-47.80373 -15.79260, -47.80367...</td>\n",
              "    </tr>\n",
              "    <tr>\n",
              "      <th>24</th>\n",
              "      <td>18</td>\n",
              "      <td>Lago Norte</td>\n",
              "      <td>XVIII</td>\n",
              "      <td>MULTIPOLYGON (((-47.87547 -15.69389, -47.87541...</td>\n",
              "    </tr>\n",
              "    <tr>\n",
              "      <th>25</th>\n",
              "      <td>19</td>\n",
              "      <td>Candangolândia</td>\n",
              "      <td>XIX</td>\n",
              "      <td>MULTIPOLYGON (((-47.93232 -15.85129, -47.93238...</td>\n",
              "    </tr>\n",
              "    <tr>\n",
              "      <th>26</th>\n",
              "      <td>21</td>\n",
              "      <td>Riacho Fundo II</td>\n",
              "      <td>XXI</td>\n",
              "      <td>MULTIPOLYGON (((-48.03837 -15.87440, -48.03843...</td>\n",
              "    </tr>\n",
              "    <tr>\n",
              "      <th>27</th>\n",
              "      <td>22</td>\n",
              "      <td>Sudoeste/Octogonal</td>\n",
              "      <td>XXII</td>\n",
              "      <td>MULTIPOLYGON (((-47.92920 -15.78017, -47.92907...</td>\n",
              "    </tr>\n",
              "    <tr>\n",
              "      <th>28</th>\n",
              "      <td>23</td>\n",
              "      <td>Varjão</td>\n",
              "      <td>XXIII</td>\n",
              "      <td>MULTIPOLYGON (((-47.86810 -15.71646, -47.86968...</td>\n",
              "    </tr>\n",
              "    <tr>\n",
              "      <th>29</th>\n",
              "      <td>25</td>\n",
              "      <td>SCIA</td>\n",
              "      <td>XXV</td>\n",
              "      <td>MULTIPOLYGON (((-48.00445 -15.75486, -48.00434...</td>\n",
              "    </tr>\n",
              "    <tr>\n",
              "      <th>30</th>\n",
              "      <td>28</td>\n",
              "      <td>Itapoã</td>\n",
              "      <td>XXVIII</td>\n",
              "      <td>MULTIPOLYGON (((-47.76185 -15.71331, -47.76173...</td>\n",
              "    </tr>\n",
              "    <tr>\n",
              "      <th>31</th>\n",
              "      <td>29</td>\n",
              "      <td>SIA</td>\n",
              "      <td>XXIX</td>\n",
              "      <td>MULTIPOLYGON (((-47.91701 -15.74019, -47.92652...</td>\n",
              "    </tr>\n",
              "    <tr>\n",
              "      <th>32</th>\n",
              "      <td>30</td>\n",
              "      <td>Vicente Pires</td>\n",
              "      <td>XXX</td>\n",
              "      <td>MULTIPOLYGON (((-48.00867 -15.81596, -48.01098...</td>\n",
              "    </tr>\n",
              "  </tbody>\n",
              "</table>\n",
              "</div>"
            ],
            "text/plain": [
              "    ra_num  ...                                           geometry\n",
              "0        1  ...  MULTIPOLYGON (((-47.85950 -15.68823, -47.85951...\n",
              "1        2  ...  MULTIPOLYGON (((-48.03822 -15.94543, -48.03714...\n",
              "2        4  ...  MULTIPOLYGON (((-48.20825 -15.74034, -48.20778...\n",
              "3        5  ...  MULTIPOLYGON (((-47.76379 -15.52734, -47.76379...\n",
              "4        6  ...  MULTIPOLYGON (((-47.41841 -15.50182, -47.41841...\n",
              "5        7  ...  MULTIPOLYGON (((-47.66188 -15.73406, -47.66217...\n",
              "6       10  ...  MULTIPOLYGON (((-47.97051 -15.80634, -47.97056...\n",
              "7       12  ...  MULTIPOLYGON (((-48.04743 -15.85948, -48.04742...\n",
              "8       13  ...  MULTIPOLYGON (((-47.89151 -15.97127, -47.89139...\n",
              "9       14  ...  MULTIPOLYGON (((-47.79090 -15.87513, -47.79014...\n",
              "10      24  ...  MULTIPOLYGON (((-47.94559 -15.87434, -47.94696...\n",
              "11      26  ...  MULTIPOLYGON (((-47.96747 -15.53149, -47.96723...\n",
              "12      27  ...  MULTIPOLYGON (((-47.70722 -15.89356, -47.70727...\n",
              "13      20  ...  MULTIPOLYGON (((-48.00484 -15.81463, -48.00482...\n",
              "14       9  ...  MULTIPOLYGON (((-48.11192 -15.77044, -48.11183...\n",
              "15      32  ...  MULTIPOLYGON (((-48.16360 -15.79501, -48.15915...\n",
              "16      31  ...  MULTIPOLYGON (((-47.77180 -15.50276, -47.77174...\n",
              "17       3  ...  MULTIPOLYGON (((-48.04580 -15.75893, -48.04552...\n",
              "18      33  ...  MULTIPOLYGON (((-48.00957 -15.84399, -48.00915...\n",
              "19       8  ...  MULTIPOLYGON (((-47.95455 -15.84839, -47.95465...\n",
              "20      11  ...  MULTIPOLYGON (((-47.93818 -15.80552, -47.93963...\n",
              "21      17  ...  MULTIPOLYGON (((-48.01192 -15.87822, -48.01153...\n",
              "22      15  ...  MULTIPOLYGON (((-48.04686 -15.92447, -48.04650...\n",
              "23      16  ...  MULTIPOLYGON (((-47.80373 -15.79260, -47.80367...\n",
              "24      18  ...  MULTIPOLYGON (((-47.87547 -15.69389, -47.87541...\n",
              "25      19  ...  MULTIPOLYGON (((-47.93232 -15.85129, -47.93238...\n",
              "26      21  ...  MULTIPOLYGON (((-48.03837 -15.87440, -48.03843...\n",
              "27      22  ...  MULTIPOLYGON (((-47.92920 -15.78017, -47.92907...\n",
              "28      23  ...  MULTIPOLYGON (((-47.86810 -15.71646, -47.86968...\n",
              "29      25  ...  MULTIPOLYGON (((-48.00445 -15.75486, -48.00434...\n",
              "30      28  ...  MULTIPOLYGON (((-47.76185 -15.71331, -47.76173...\n",
              "31      29  ...  MULTIPOLYGON (((-47.91701 -15.74019, -47.92652...\n",
              "32      30  ...  MULTIPOLYGON (((-48.00867 -15.81596, -48.01098...\n",
              "\n",
              "[33 rows x 4 columns]"
            ]
          },
          "metadata": {
            "tags": []
          },
          "execution_count": 142
        }
      ]
    },
    {
      "cell_type": "markdown",
      "metadata": {
        "id": "oSDK9NRIxHyh"
      },
      "source": [
        "#### *Dados Brasília Metropolitana*"
      ]
    },
    {
      "cell_type": "code",
      "metadata": {
        "id": "u5wstIScxOg-"
      },
      "source": [
        "df_RA = pd.read_csv('/content/drive/MyDrive/Projeto_5/aed/bases_de_dados/dados_complementares/mapa_df/dados_brasilia_metropolitana.csv', error_bad_lines=False, delimiter=';')"
      ],
      "execution_count": 407,
      "outputs": []
    },
    {
      "cell_type": "code",
      "metadata": {
        "colab": {
          "base_uri": "https://localhost:8080/"
        },
        "id": "jXHrXD_kxgqQ",
        "outputId": "1e94e20e-6f3e-4c74-9a29-27b9ef663041"
      },
      "source": [
        "df_RA.info()"
      ],
      "execution_count": 408,
      "outputs": [
        {
          "output_type": "stream",
          "text": [
            "<class 'pandas.core.frame.DataFrame'>\n",
            "RangeIndex: 46 entries, 0 to 45\n",
            "Data columns (total 13 columns):\n",
            " #   Column                          Non-Null Count  Dtype  \n",
            "---  ------                          --------------  -----  \n",
            " 0   Unidade Territorial             46 non-null     object \n",
            " 1   Habitantes                      46 non-null     object \n",
            " 2   Homens (%)                      46 non-null     object \n",
            " 3   Mulheres (%)                    46 non-null     object \n",
            " 4   Renda per Capita R$             46 non-null     object \n",
            " 5   Renda Domiciliar per Capita R$  46 non-null     object \n",
            " 6   Conectados à Internet (%)       46 non-null     object \n",
            " 7   Automóveis por habitante        46 non-null     object \n",
            " 8   Domicílios                      46 non-null     float64\n",
            " 9   Habitantes por Domicílio        46 non-null     object \n",
            " 10  Esgoto (%)                      46 non-null     object \n",
            " 11  Água (%)                        46 non-null     object \n",
            " 12  Energia Elétrica (%)            46 non-null     object \n",
            "dtypes: float64(1), object(12)\n",
            "memory usage: 4.8+ KB\n"
          ],
          "name": "stdout"
        }
      ]
    },
    {
      "cell_type": "code",
      "metadata": {
        "colab": {
          "base_uri": "https://localhost:8080/"
        },
        "id": "jg0qe6Pbxlx7",
        "outputId": "5c25aab4-87f9-4fec-9443-9a601b261e82"
      },
      "source": [
        "df_RA.columns"
      ],
      "execution_count": 411,
      "outputs": [
        {
          "output_type": "execute_result",
          "data": {
            "text/plain": [
              "Index(['Unidade Territorial', 'Habitantes', 'Homens (%)', 'Mulheres (%)',\n",
              "       'Renda per Capita R$', 'Renda Domiciliar per Capita R$',\n",
              "       'Conectados à Internet (%)', 'Automóveis por habitante', 'Domicílios',\n",
              "       'Habitantes por Domicílio', 'Esgoto (%)', 'Água (%)',\n",
              "       'Energia Elétrica (%)'],\n",
              "      dtype='object')"
            ]
          },
          "metadata": {
            "tags": []
          },
          "execution_count": 411
        }
      ]
    },
    {
      "cell_type": "code",
      "metadata": {
        "id": "Cu-iwGTNxpiY"
      },
      "source": [
        "colunas = ['Homens (%)', 'Mulheres (%)', 'Conectados à Internet (%)', \n",
        "           'Automóveis por habitante', 'Domicílios', 'Habitantes por Domicílio', \n",
        "           'Esgoto (%)', 'Água (%)', 'Energia Elétrica (%)']"
      ],
      "execution_count": 412,
      "outputs": []
    },
    {
      "cell_type": "code",
      "metadata": {
        "id": "stKtHuqXxsRs"
      },
      "source": [
        "df_RA.drop(columns=colunas, inplace=True)"
      ],
      "execution_count": 413,
      "outputs": []
    },
    {
      "cell_type": "code",
      "metadata": {
        "id": "d3v9_m5LxvZv"
      },
      "source": [
        "#filtrando as cidades do Estado do Goiás\n",
        "\n",
        "RA_filter = ['Valparaíso de Goiás', 'Santo Antônio do Descoberto', \n",
        "             'Planaltina de Goiás', 'Águas Lindas de Goiás', 'Alexânia',\n",
        "             'Cidade Ocidental', 'Cocalzinho de Goíás','Cristalina',\n",
        "             'Formosa', 'Luziânia', 'Novo Gama', 'Padre Bernardo', 'Distrito Federal']"
      ],
      "execution_count": 414,
      "outputs": []
    },
    {
      "cell_type": "code",
      "metadata": {
        "id": "FS5SbS6hx5iX"
      },
      "source": [
        "df_RA = df_RA[~df_RA['Unidade Territorial'].isin(RA_filter)]"
      ],
      "execution_count": 415,
      "outputs": []
    },
    {
      "cell_type": "code",
      "metadata": {
        "id": "DWJZz0Bdquja"
      },
      "source": [
        "df_RA['Habitantes'] = df_RA['Habitantes'].astype(float)*1000\n",
        "df_RA['Renda per Capita R$'] = df_RA['Renda per Capita R$'].str.replace('.','')\n",
        "df_RA['Renda Domiciliar per Capita R$'] = df_RA['Renda Domiciliar per Capita R$'].str.replace('.','')\n",
        "df_RA['Renda per Capita R$'] = df_RA['Renda per Capita R$'].str.replace(',','.').astype(float)\n",
        "df_RA['Renda Domiciliar per Capita R$'] = df_RA['Renda Domiciliar per Capita R$'].str.replace(',','.').astype(float)\n",
        "df_RA['Habitantes'] = df_RA['Habitantes'].astype(int)"
      ],
      "execution_count": null,
      "outputs": []
    },
    {
      "cell_type": "code",
      "metadata": {
        "id": "Tfd4BQ-2yDGt"
      },
      "source": [
        "df_RA.to_csv('/content/drive/MyDrive/Projeto_5/aed/bases_de_dados/dados_complementares/mapa_df/dados_brasilia.csv')"
      ],
      "execution_count": 402,
      "outputs": []
    },
    {
      "cell_type": "markdown",
      "metadata": {
        "id": "a7HI9BcQ_QXn"
      },
      "source": [
        "# 2. **Exploração e visualização dos dados**"
      ]
    },
    {
      "cell_type": "markdown",
      "metadata": {
        "id": "ZXff3Wzv_7aW"
      },
      "source": [
        "### 2.1. *Em Brasília todo mundo é rico e mora no Plano Piloto*"
      ]
    },
    {
      "cell_type": "markdown",
      "metadata": {
        "id": "Up0aJ7MWanqB"
      },
      "source": [
        "Esse é um esteriótipo bem comum! Mas será que em Brasília só existe o *Plano Piloto*?"
      ]
    },
    {
      "cell_type": "code",
      "metadata": {
        "id": "3oXlvdJHabqn",
        "outputId": "fd957d72-1d50-4f0f-cfe8-075c33006cad",
        "colab": {
          "base_uri": "https://localhost:8080/",
          "height": 1000
        }
      },
      "source": [
        "df_RA"
      ],
      "execution_count": 418,
      "outputs": [
        {
          "output_type": "execute_result",
          "data": {
            "text/html": [
              "<div>\n",
              "<style scoped>\n",
              "    .dataframe tbody tr th:only-of-type {\n",
              "        vertical-align: middle;\n",
              "    }\n",
              "\n",
              "    .dataframe tbody tr th {\n",
              "        vertical-align: top;\n",
              "    }\n",
              "\n",
              "    .dataframe thead th {\n",
              "        text-align: right;\n",
              "    }\n",
              "</style>\n",
              "<table border=\"1\" class=\"dataframe\">\n",
              "  <thead>\n",
              "    <tr style=\"text-align: right;\">\n",
              "      <th></th>\n",
              "      <th>Unidade Territorial</th>\n",
              "      <th>Habitantes</th>\n",
              "      <th>Renda per Capita R$</th>\n",
              "      <th>Renda Domiciliar per Capita R$</th>\n",
              "    </tr>\n",
              "  </thead>\n",
              "  <tbody>\n",
              "    <tr>\n",
              "      <th>0</th>\n",
              "      <td>Águas Claras</td>\n",
              "      <td>117346</td>\n",
              "      <td>4658.36</td>\n",
              "      <td>5133.65</td>\n",
              "    </tr>\n",
              "    <tr>\n",
              "      <th>1</th>\n",
              "      <td>Arniqueira</td>\n",
              "      <td>39236</td>\n",
              "      <td>1764.19</td>\n",
              "      <td>2012.43</td>\n",
              "    </tr>\n",
              "    <tr>\n",
              "      <th>2</th>\n",
              "      <td>Brazlândia</td>\n",
              "      <td>53534</td>\n",
              "      <td>1026.97</td>\n",
              "      <td>1129.13</td>\n",
              "    </tr>\n",
              "    <tr>\n",
              "      <th>3</th>\n",
              "      <td>Candangolândia</td>\n",
              "      <td>16489</td>\n",
              "      <td>1405.73</td>\n",
              "      <td>1434.56</td>\n",
              "    </tr>\n",
              "    <tr>\n",
              "      <th>4</th>\n",
              "      <td>Ceilândia</td>\n",
              "      <td>349955</td>\n",
              "      <td>1107.64</td>\n",
              "      <td>1224.75</td>\n",
              "    </tr>\n",
              "    <tr>\n",
              "      <th>5</th>\n",
              "      <td>Cruzeiro</td>\n",
              "      <td>31079</td>\n",
              "      <td>3127.81</td>\n",
              "      <td>3749.44</td>\n",
              "    </tr>\n",
              "    <tr>\n",
              "      <th>7</th>\n",
              "      <td>Fercal</td>\n",
              "      <td>8687</td>\n",
              "      <td>739.29</td>\n",
              "      <td>816.50</td>\n",
              "    </tr>\n",
              "    <tr>\n",
              "      <th>8</th>\n",
              "      <td>Gama</td>\n",
              "      <td>132404</td>\n",
              "      <td>1348.12</td>\n",
              "      <td>1607.29</td>\n",
              "    </tr>\n",
              "    <tr>\n",
              "      <th>9</th>\n",
              "      <td>Guará</td>\n",
              "      <td>133748</td>\n",
              "      <td>3215.32</td>\n",
              "      <td>3688.76</td>\n",
              "    </tr>\n",
              "    <tr>\n",
              "      <th>10</th>\n",
              "      <td>Itapoã</td>\n",
              "      <td>62234</td>\n",
              "      <td>814.64</td>\n",
              "      <td>929.57</td>\n",
              "    </tr>\n",
              "    <tr>\n",
              "      <th>11</th>\n",
              "      <td>Jardim Botânico</td>\n",
              "      <td>51650</td>\n",
              "      <td>3720.83</td>\n",
              "      <td>4122.59</td>\n",
              "    </tr>\n",
              "    <tr>\n",
              "      <th>12</th>\n",
              "      <td>Lago Norte</td>\n",
              "      <td>36474</td>\n",
              "      <td>5329.57</td>\n",
              "      <td>6112.26</td>\n",
              "    </tr>\n",
              "    <tr>\n",
              "      <th>13</th>\n",
              "      <td>Lago Sul</td>\n",
              "      <td>29662</td>\n",
              "      <td>7663.09</td>\n",
              "      <td>8355.04</td>\n",
              "    </tr>\n",
              "    <tr>\n",
              "      <th>14</th>\n",
              "      <td>Núcleo Bandeirante</td>\n",
              "      <td>24786</td>\n",
              "      <td>2061.98</td>\n",
              "      <td>2365.57</td>\n",
              "    </tr>\n",
              "    <tr>\n",
              "      <th>15</th>\n",
              "      <td>Paranoá</td>\n",
              "      <td>65519</td>\n",
              "      <td>733.27</td>\n",
              "      <td>832.15</td>\n",
              "    </tr>\n",
              "    <tr>\n",
              "      <th>16</th>\n",
              "      <td>Park Way</td>\n",
              "      <td>19022</td>\n",
              "      <td>5768.63</td>\n",
              "      <td>6138.45</td>\n",
              "    </tr>\n",
              "    <tr>\n",
              "      <th>17</th>\n",
              "      <td>Planaltina</td>\n",
              "      <td>177540</td>\n",
              "      <td>977.47</td>\n",
              "      <td>1139.40</td>\n",
              "    </tr>\n",
              "    <tr>\n",
              "      <th>18</th>\n",
              "      <td>Plano Piloto</td>\n",
              "      <td>217073</td>\n",
              "      <td>5916.22</td>\n",
              "      <td>6776.86</td>\n",
              "    </tr>\n",
              "    <tr>\n",
              "      <th>19</th>\n",
              "      <td>Recanto das Emas</td>\n",
              "      <td>131058</td>\n",
              "      <td>774.01</td>\n",
              "      <td>859.62</td>\n",
              "    </tr>\n",
              "    <tr>\n",
              "      <th>20</th>\n",
              "      <td>Riacho Fundo</td>\n",
              "      <td>42022</td>\n",
              "      <td>1157.29</td>\n",
              "      <td>1328.16</td>\n",
              "    </tr>\n",
              "    <tr>\n",
              "      <th>21</th>\n",
              "      <td>Riacho Fundo II</td>\n",
              "      <td>85047</td>\n",
              "      <td>756.87</td>\n",
              "      <td>802.92</td>\n",
              "    </tr>\n",
              "    <tr>\n",
              "      <th>22</th>\n",
              "      <td>Samambaia</td>\n",
              "      <td>231942</td>\n",
              "      <td>857.78</td>\n",
              "      <td>996.92</td>\n",
              "    </tr>\n",
              "    <tr>\n",
              "      <th>23</th>\n",
              "      <td>Santa Maria</td>\n",
              "      <td>126262</td>\n",
              "      <td>853.52</td>\n",
              "      <td>965.87</td>\n",
              "    </tr>\n",
              "    <tr>\n",
              "      <th>24</th>\n",
              "      <td>São Sebastião</td>\n",
              "      <td>92750</td>\n",
              "      <td>894.31</td>\n",
              "      <td>1051.43</td>\n",
              "    </tr>\n",
              "    <tr>\n",
              "      <th>25</th>\n",
              "      <td>SCIA-Estrutural</td>\n",
              "      <td>35520</td>\n",
              "      <td>485.97</td>\n",
              "      <td>573.34</td>\n",
              "    </tr>\n",
              "    <tr>\n",
              "      <th>26</th>\n",
              "      <td>SIA</td>\n",
              "      <td>1926</td>\n",
              "      <td>3000.31</td>\n",
              "      <td>3903.15</td>\n",
              "    </tr>\n",
              "    <tr>\n",
              "      <th>27</th>\n",
              "      <td>Sobradinho</td>\n",
              "      <td>69363</td>\n",
              "      <td>2200.09</td>\n",
              "      <td>2516.79</td>\n",
              "    </tr>\n",
              "    <tr>\n",
              "      <th>28</th>\n",
              "      <td>Sobradinho II</td>\n",
              "      <td>76125</td>\n",
              "      <td>1696.17</td>\n",
              "      <td>2021.56</td>\n",
              "    </tr>\n",
              "    <tr>\n",
              "      <th>29</th>\n",
              "      <td>Sol Nascente/Por do Sol</td>\n",
              "      <td>83102</td>\n",
              "      <td>649.30</td>\n",
              "      <td>710.04</td>\n",
              "    </tr>\n",
              "    <tr>\n",
              "      <th>30</th>\n",
              "      <td>Sudoeste/Octogonal</td>\n",
              "      <td>54559</td>\n",
              "      <td>6655.28</td>\n",
              "      <td>7137.38</td>\n",
              "    </tr>\n",
              "    <tr>\n",
              "      <th>31</th>\n",
              "      <td>Taguatinga</td>\n",
              "      <td>210142</td>\n",
              "      <td>1895.06</td>\n",
              "      <td>2258.25</td>\n",
              "    </tr>\n",
              "    <tr>\n",
              "      <th>32</th>\n",
              "      <td>Varjão</td>\n",
              "      <td>8891</td>\n",
              "      <td>713.22</td>\n",
              "      <td>840.50</td>\n",
              "    </tr>\n",
              "    <tr>\n",
              "      <th>33</th>\n",
              "      <td>Vicente Pires</td>\n",
              "      <td>66753</td>\n",
              "      <td>2685.03</td>\n",
              "      <td>2959.64</td>\n",
              "    </tr>\n",
              "  </tbody>\n",
              "</table>\n",
              "</div>"
            ],
            "text/plain": [
              "        Unidade Territorial  ...  Renda Domiciliar per Capita R$\n",
              "0              Águas Claras  ...                         5133.65\n",
              "1                Arniqueira  ...                         2012.43\n",
              "2                Brazlândia  ...                         1129.13\n",
              "3            Candangolândia  ...                         1434.56\n",
              "4                 Ceilândia  ...                         1224.75\n",
              "5                  Cruzeiro  ...                         3749.44\n",
              "7                    Fercal  ...                          816.50\n",
              "8                      Gama  ...                         1607.29\n",
              "9                     Guará  ...                         3688.76\n",
              "10                   Itapoã  ...                          929.57\n",
              "11          Jardim Botânico  ...                         4122.59\n",
              "12               Lago Norte  ...                         6112.26\n",
              "13                 Lago Sul  ...                         8355.04\n",
              "14       Núcleo Bandeirante  ...                         2365.57\n",
              "15                  Paranoá  ...                          832.15\n",
              "16                 Park Way  ...                         6138.45\n",
              "17               Planaltina  ...                         1139.40\n",
              "18             Plano Piloto  ...                         6776.86\n",
              "19         Recanto das Emas  ...                          859.62\n",
              "20             Riacho Fundo  ...                         1328.16\n",
              "21          Riacho Fundo II  ...                          802.92\n",
              "22                Samambaia  ...                          996.92\n",
              "23              Santa Maria  ...                          965.87\n",
              "24            São Sebastião  ...                         1051.43\n",
              "25          SCIA-Estrutural  ...                          573.34\n",
              "26                      SIA  ...                         3903.15\n",
              "27               Sobradinho  ...                         2516.79\n",
              "28            Sobradinho II  ...                         2021.56\n",
              "29  Sol Nascente/Por do Sol  ...                          710.04\n",
              "30       Sudoeste/Octogonal  ...                         7137.38\n",
              "31               Taguatinga  ...                         2258.25\n",
              "32                   Varjão  ...                          840.50\n",
              "33            Vicente Pires  ...                         2959.64\n",
              "\n",
              "[33 rows x 4 columns]"
            ]
          },
          "metadata": {
            "tags": []
          },
          "execution_count": 418
        }
      ]
    },
    {
      "cell_type": "markdown",
      "metadata": {
        "id": "kyaKfocOa8eE"
      },
      "source": [
        "Na verdade não, Brasília é dividida em 33 regiões administrativas."
      ]
    },
    {
      "cell_type": "code",
      "metadata": {
        "id": "pW8tQrMka6Bv",
        "outputId": "495bdf63-fe44-4acb-a62f-0eedc055d043",
        "colab": {
          "base_uri": "https://localhost:8080/"
        }
      },
      "source": [
        "len(df_RA)"
      ],
      "execution_count": 419,
      "outputs": [
        {
          "output_type": "execute_result",
          "data": {
            "text/plain": [
              "33"
            ]
          },
          "metadata": {
            "tags": []
          },
          "execution_count": 419
        }
      ]
    },
    {
      "cell_type": "markdown",
      "metadata": {
        "id": "kXSGxpxlbEtw"
      },
      "source": [
        "Já que Brasília não é somente o Plano Piloto, quantas pessoas moram em Brasília?"
      ]
    },
    {
      "cell_type": "code",
      "metadata": {
        "id": "tyFkA0qbbDJG",
        "outputId": "45a5662e-9c1b-4a85-8c59-ff1512e576f0",
        "colab": {
          "base_uri": "https://localhost:8080/",
          "height": 80
        }
      },
      "source": [
        "df_RA.loc[df_RA['Unidade Territorial'] == 'Plano Piloto']"
      ],
      "execution_count": 420,
      "outputs": [
        {
          "output_type": "execute_result",
          "data": {
            "text/html": [
              "<div>\n",
              "<style scoped>\n",
              "    .dataframe tbody tr th:only-of-type {\n",
              "        vertical-align: middle;\n",
              "    }\n",
              "\n",
              "    .dataframe tbody tr th {\n",
              "        vertical-align: top;\n",
              "    }\n",
              "\n",
              "    .dataframe thead th {\n",
              "        text-align: right;\n",
              "    }\n",
              "</style>\n",
              "<table border=\"1\" class=\"dataframe\">\n",
              "  <thead>\n",
              "    <tr style=\"text-align: right;\">\n",
              "      <th></th>\n",
              "      <th>Unidade Territorial</th>\n",
              "      <th>Habitantes</th>\n",
              "      <th>Renda per Capita R$</th>\n",
              "      <th>Renda Domiciliar per Capita R$</th>\n",
              "    </tr>\n",
              "  </thead>\n",
              "  <tbody>\n",
              "    <tr>\n",
              "      <th>18</th>\n",
              "      <td>Plano Piloto</td>\n",
              "      <td>217073</td>\n",
              "      <td>5916.22</td>\n",
              "      <td>6776.86</td>\n",
              "    </tr>\n",
              "  </tbody>\n",
              "</table>\n",
              "</div>"
            ],
            "text/plain": [
              "   Unidade Territorial  ...  Renda Domiciliar per Capita R$\n",
              "18        Plano Piloto  ...                         6776.86\n",
              "\n",
              "[1 rows x 4 columns]"
            ]
          },
          "metadata": {
            "tags": []
          },
          "execution_count": 420
        }
      ]
    },
    {
      "cell_type": "markdown",
      "metadata": {
        "id": "P4epE8YIbm2N"
      },
      "source": [
        "Dessa forma, percebemos que a população do Plano Piloto equivale a cerca de 7% de Brasília. Logo percebemos que somente uma pequena parcela de Brasília mora no Plano Piloto!"
      ]
    },
    {
      "cell_type": "markdown",
      "metadata": {
        "id": "tFTMmrhEcMJU"
      },
      "source": [
        "Então, quais são as regiões mais populosas e quais são as regiões mais ricas?"
      ]
    },
    {
      "cell_type": "code",
      "metadata": {
        "id": "a5XIy20Ae2nR",
        "outputId": "27eb4db2-8bd9-4c40-cfa6-9c8972f054e1",
        "colab": {
          "base_uri": "https://localhost:8080/",
          "height": 204
        }
      },
      "source": [
        "df_RA.sort_values('Habitantes', ascending=False).head()"
      ],
      "execution_count": 421,
      "outputs": [
        {
          "output_type": "execute_result",
          "data": {
            "text/html": [
              "<div>\n",
              "<style scoped>\n",
              "    .dataframe tbody tr th:only-of-type {\n",
              "        vertical-align: middle;\n",
              "    }\n",
              "\n",
              "    .dataframe tbody tr th {\n",
              "        vertical-align: top;\n",
              "    }\n",
              "\n",
              "    .dataframe thead th {\n",
              "        text-align: right;\n",
              "    }\n",
              "</style>\n",
              "<table border=\"1\" class=\"dataframe\">\n",
              "  <thead>\n",
              "    <tr style=\"text-align: right;\">\n",
              "      <th></th>\n",
              "      <th>Unidade Territorial</th>\n",
              "      <th>Habitantes</th>\n",
              "      <th>Renda per Capita R$</th>\n",
              "      <th>Renda Domiciliar per Capita R$</th>\n",
              "    </tr>\n",
              "  </thead>\n",
              "  <tbody>\n",
              "    <tr>\n",
              "      <th>4</th>\n",
              "      <td>Ceilândia</td>\n",
              "      <td>349955</td>\n",
              "      <td>1107.64</td>\n",
              "      <td>1224.75</td>\n",
              "    </tr>\n",
              "    <tr>\n",
              "      <th>22</th>\n",
              "      <td>Samambaia</td>\n",
              "      <td>231942</td>\n",
              "      <td>857.78</td>\n",
              "      <td>996.92</td>\n",
              "    </tr>\n",
              "    <tr>\n",
              "      <th>18</th>\n",
              "      <td>Plano Piloto</td>\n",
              "      <td>217073</td>\n",
              "      <td>5916.22</td>\n",
              "      <td>6776.86</td>\n",
              "    </tr>\n",
              "    <tr>\n",
              "      <th>31</th>\n",
              "      <td>Taguatinga</td>\n",
              "      <td>210142</td>\n",
              "      <td>1895.06</td>\n",
              "      <td>2258.25</td>\n",
              "    </tr>\n",
              "    <tr>\n",
              "      <th>17</th>\n",
              "      <td>Planaltina</td>\n",
              "      <td>177540</td>\n",
              "      <td>977.47</td>\n",
              "      <td>1139.40</td>\n",
              "    </tr>\n",
              "  </tbody>\n",
              "</table>\n",
              "</div>"
            ],
            "text/plain": [
              "   Unidade Territorial  ...  Renda Domiciliar per Capita R$\n",
              "4            Ceilândia  ...                         1224.75\n",
              "22           Samambaia  ...                          996.92\n",
              "18        Plano Piloto  ...                         6776.86\n",
              "31          Taguatinga  ...                         2258.25\n",
              "17          Planaltina  ...                         1139.40\n",
              "\n",
              "[5 rows x 4 columns]"
            ]
          },
          "metadata": {
            "tags": []
          },
          "execution_count": 421
        }
      ]
    },
    {
      "cell_type": "code",
      "metadata": {
        "id": "uLrNHJaQfL_l",
        "outputId": "812217cf-38ae-419b-8094-eda04701725e",
        "colab": {
          "base_uri": "https://localhost:8080/",
          "height": 204
        }
      },
      "source": [
        "df_RA.sort_values('Renda per Capita R$', ascending=False).head()"
      ],
      "execution_count": 430,
      "outputs": [
        {
          "output_type": "execute_result",
          "data": {
            "text/html": [
              "<div>\n",
              "<style scoped>\n",
              "    .dataframe tbody tr th:only-of-type {\n",
              "        vertical-align: middle;\n",
              "    }\n",
              "\n",
              "    .dataframe tbody tr th {\n",
              "        vertical-align: top;\n",
              "    }\n",
              "\n",
              "    .dataframe thead th {\n",
              "        text-align: right;\n",
              "    }\n",
              "</style>\n",
              "<table border=\"1\" class=\"dataframe\">\n",
              "  <thead>\n",
              "    <tr style=\"text-align: right;\">\n",
              "      <th></th>\n",
              "      <th>Unidade Territorial</th>\n",
              "      <th>Habitantes</th>\n",
              "      <th>Renda per Capita R$</th>\n",
              "      <th>Renda Domiciliar per Capita R$</th>\n",
              "    </tr>\n",
              "  </thead>\n",
              "  <tbody>\n",
              "    <tr>\n",
              "      <th>13</th>\n",
              "      <td>Lago Sul</td>\n",
              "      <td>29662</td>\n",
              "      <td>7663.09</td>\n",
              "      <td>8355.04</td>\n",
              "    </tr>\n",
              "    <tr>\n",
              "      <th>30</th>\n",
              "      <td>Sudoeste/Octogonal</td>\n",
              "      <td>54559</td>\n",
              "      <td>6655.28</td>\n",
              "      <td>7137.38</td>\n",
              "    </tr>\n",
              "    <tr>\n",
              "      <th>18</th>\n",
              "      <td>Plano Piloto</td>\n",
              "      <td>217073</td>\n",
              "      <td>5916.22</td>\n",
              "      <td>6776.86</td>\n",
              "    </tr>\n",
              "    <tr>\n",
              "      <th>16</th>\n",
              "      <td>Park Way</td>\n",
              "      <td>19022</td>\n",
              "      <td>5768.63</td>\n",
              "      <td>6138.45</td>\n",
              "    </tr>\n",
              "    <tr>\n",
              "      <th>12</th>\n",
              "      <td>Lago Norte</td>\n",
              "      <td>36474</td>\n",
              "      <td>5329.57</td>\n",
              "      <td>6112.26</td>\n",
              "    </tr>\n",
              "  </tbody>\n",
              "</table>\n",
              "</div>"
            ],
            "text/plain": [
              "   Unidade Territorial  ...  Renda Domiciliar per Capita R$\n",
              "13            Lago Sul  ...                         8355.04\n",
              "30  Sudoeste/Octogonal  ...                         7137.38\n",
              "18        Plano Piloto  ...                         6776.86\n",
              "16            Park Way  ...                         6138.45\n",
              "12          Lago Norte  ...                         6112.26\n",
              "\n",
              "[5 rows x 4 columns]"
            ]
          },
          "metadata": {
            "tags": []
          },
          "execution_count": 430
        }
      ]
    },
    {
      "cell_type": "markdown",
      "metadata": {
        "id": "L-CdmlpfhyFT"
      },
      "source": [
        "Dessa forma, podemos observar que, as regiões com maiores populações (exceto o Plano Piloto) são regiões que possuem uma Renda per Capita mais baixa e vice-versa. Será que essa é uma tendência que se estende à todas as 33 RAs?\n"
      ]
    },
    {
      "cell_type": "code",
      "metadata": {
        "id": "J-AL5YeyrLu4",
        "outputId": "1141d6b4-d412-46ba-afce-0b1b2210e556",
        "colab": {
          "base_uri": "https://localhost:8080/",
          "height": 300
        }
      },
      "source": [
        "df_RA.plot.scatter(x = 'Habitantes', y = 'Renda per Capita R$', s = 100)"
      ],
      "execution_count": 428,
      "outputs": [
        {
          "output_type": "execute_result",
          "data": {
            "text/plain": [
              "<matplotlib.axes._subplots.AxesSubplot at 0x7fd970e01690>"
            ]
          },
          "metadata": {
            "tags": []
          },
          "execution_count": 428
        },
        {
          "output_type": "display_data",
          "data": {
            "image/png": "[encoded data removed]",
            "text/plain": [
              "<Figure size 432x288 with 1 Axes>"
            ]
          },
          "metadata": {
            "tags": [],
            "needs_background": "light"
          }
        }
      ]
    },
    {
      "cell_type": "markdown",
      "metadata": {
        "id": "O4yLIYcrtoCq"
      },
      "source": [
        "Observando o gráfico de dispersão acima, observamos que não há uma correlação entre o Número de Habitantes vs. sua Renda per Capita, apesar de possuirmos RAs com grandes populações e uma Renda per Capita baixa, de forma geral, podemos observar que temos o outro caso, de RAs com populações pequenas e uma renda per capita baixa também.\n",
        "\n",
        "Contudo, percebemos que normalmente, RAs de alto poder aquisitivo (exceto o Plano Piloto), normalmente possuem populações relativamente menores. "
      ]
    },
    {
      "cell_type": "markdown",
      "metadata": {
        "id": "wfCZg1bgANGg"
      },
      "source": [
        "### 2.2. *Você vê o presidente todos os dias?*"
      ]
    },
    {
      "cell_type": "markdown",
      "metadata": {
        "id": "9D9A4VnGZqqb"
      },
      "source": [
        "Esse deve ser o esteriótipo que mais ouvimos, será mesmo que vemos o presidente todos os dias?\n",
        "\n",
        "Utilizando a biblioteca *geopy*, vamos calcular as distâncias aproximadas das casas do presidente e governador para nossas casas!"
      ]
    },
    {
      "cell_type": "code",
      "metadata": {
        "id": "qWMTTyV4AMr_"
      },
      "source": [
        "from geopy.distance import geodesic"
      ],
      "execution_count": 265,
      "outputs": []
    },
    {
      "cell_type": "code",
      "metadata": {
        "id": "pZ4akUlIWF1b",
        "outputId": "23ffb63a-9fdc-47f4-d8b7-fdfd042fe47c",
        "colab": {
          "base_uri": "https://localhost:8080/"
        }
      },
      "source": [
        "origem_gabi = (-15.8471010, -48.0319000)\n",
        "destino_presidente = (-15.7928000, -47.8221000)\n",
        "destino_governador = (-15.8493000, -47.8973000)\n",
        "\n",
        "print(f\"Distância para a casa do presidente: {round(geodesic(origem_gabi, destino_presidente).km, 2)} km\")\n",
        "print(f\"Distância para a casa do governador: {round(geodesic(origem_gabi, destino_governador).km, 2)} km\")"
      ],
      "execution_count": 275,
      "outputs": [
        {
          "output_type": "stream",
          "text": [
            "Distância para a casa do presidente: 23.27 km\n",
            "Distância para a casa do governador: 14.42 km\n"
          ],
          "name": "stdout"
        }
      ]
    },
    {
      "cell_type": "code",
      "metadata": {
        "id": "pqfdKeGrYKru",
        "outputId": "22b40384-08b6-4438-a6a7-5fe013d78ba8",
        "colab": {
          "base_uri": "https://localhost:8080/"
        }
      },
      "source": [
        "origem_lud = (-15.7816365, -48.0012873)\n",
        "destino_presidente = (-15.7928000, -47.8221000)\n",
        "destino_governador = (-15.8493000, -47.8973000)\n",
        "\n",
        "print(f\"Distância para a casa do presidente: {round(geodesic(origem_lud, destino_presidente).km, 2)} km\")\n",
        "print(f\"Distância para a casa do governador: {round(geodesic(origem_lud, destino_governador).km, 2)} km\")"
      ],
      "execution_count": 278,
      "outputs": [
        {
          "output_type": "stream",
          "text": [
            "Distância para a casa do presidente: 19.24 km\n",
            "Distância para a casa do governador: 13.42 km\n"
          ],
          "name": "stdout"
        }
      ]
    },
    {
      "cell_type": "markdown",
      "metadata": {
        "id": "tHIpkrMyALWM"
      },
      "source": [
        "### 2.3. *O que se faz em Brasília?*"
      ]
    },
    {
      "cell_type": "markdown",
      "metadata": {
        "id": "A9gNY7f6MBBn"
      },
      "source": [
        "Importando arquivos tratados com as localizações referentes ao período de 2017 a 2019."
      ]
    },
    {
      "cell_type": "code",
      "metadata": {
        "id": "3b8woX59Lqjv"
      },
      "source": [
        "localizacao_gabi = pd.read_csv('/content/drive/MyDrive/Projeto_5/loc-gabi.csv')\n",
        "localizacao_lud = pd.read_csv('/content/drive/MyDrive/Projeto_5/loc-lud/loc-lud.csv')"
      ],
      "execution_count": 220,
      "outputs": []
    },
    {
      "cell_type": "markdown",
      "metadata": {
        "id": "QgQBhYHwVQoc"
      },
      "source": [
        "Os locais mais frequentes da Gabi são: sua casa, a sua universidade, trabalho e mercado! "
      ]
    },
    {
      "cell_type": "code",
      "metadata": {
        "id": "EHUgXxh1Vnlu"
      },
      "source": [
        "localizacao_gabi['nome'].value_counts().head(6)"
      ],
      "execution_count": null,
      "outputs": []
    },
    {
      "cell_type": "markdown",
      "metadata": {
        "id": "EC9ANIAVVdJ_"
      },
      "source": [
        "Os locais mais frequentes da Lud são: sua casa, uma pizzaria, mercado e uma loja! "
      ]
    },
    {
      "cell_type": "code",
      "metadata": {
        "id": "yzLIkz4nVo_P"
      },
      "source": [
        "localizacao_lud['nome'].value_counts().head(6)"
      ],
      "execution_count": null,
      "outputs": []
    },
    {
      "cell_type": "markdown",
      "metadata": {
        "id": "tMfoZlsrAbc0"
      },
      "source": [
        "### 2.4. *Em Brasília todo mundo só ouve Legião Urbana*"
      ]
    },
    {
      "cell_type": "markdown",
      "metadata": {
        "id": "gobPmNiaFmMb"
      },
      "source": [
        "Para resolver o mistério se os brasilienses somente ouvem Legião Urbana, iremos explorar a base de dados do Spotify da Gabi e base do Youtube da Lud. "
      ]
    },
    {
      "cell_type": "markdown",
      "metadata": {
        "id": "1aJcDGHsDlRD"
      },
      "source": [
        "##### 2.1 *Spotify da Gabi*"
      ]
    },
    {
      "cell_type": "markdown",
      "metadata": {
        "id": "TailzeHHF12C"
      },
      "source": [
        "Analisando os seis artistas mais ouvidos da Gabi, observamos  3 artistas brasileiros mais ouvidos (Caetano Veloso, Los Hermanos e Novos Baianos) e 3 artistas internacionais (Carla Bruni, Blur e Radiohead). \n",
        "\n",
        "Apesar de possuir 3 artistas brasileiros na lista, nenhum deles é brasiliense. "
      ]
    },
    {
      "cell_type": "code",
      "metadata": {
        "colab": {
          "base_uri": "https://localhost:8080/",
          "height": 266
        },
        "id": "LbzSNLsZDBjq",
        "outputId": "674520fd-9134-4270-dee0-d3dabd445955"
      },
      "source": [
        "artist = (\n",
        "    df_sptfy\n",
        "    .groupby(['artistName'])\n",
        "    .agg({'minutedPlayed':'sum'})\n",
        "    .sort_values('minutedPlayed', ascending=False)\n",
        "    .head(6)\n",
        ")\n",
        "\n",
        "artist"
      ],
      "execution_count": 298,
      "outputs": [
        {
          "output_type": "execute_result",
          "data": {
            "text/html": [
              "<div>\n",
              "<style scoped>\n",
              "    .dataframe tbody tr th:only-of-type {\n",
              "        vertical-align: middle;\n",
              "    }\n",
              "\n",
              "    .dataframe tbody tr th {\n",
              "        vertical-align: top;\n",
              "    }\n",
              "\n",
              "    .dataframe thead th {\n",
              "        text-align: right;\n",
              "    }\n",
              "</style>\n",
              "<table border=\"1\" class=\"dataframe\">\n",
              "  <thead>\n",
              "    <tr style=\"text-align: right;\">\n",
              "      <th></th>\n",
              "      <th>minutedPlayed</th>\n",
              "    </tr>\n",
              "    <tr>\n",
              "      <th>artistName</th>\n",
              "      <th></th>\n",
              "    </tr>\n",
              "  </thead>\n",
              "  <tbody>\n",
              "    <tr>\n",
              "      <th>Caetano Veloso</th>\n",
              "      <td>332.700250</td>\n",
              "    </tr>\n",
              "    <tr>\n",
              "      <th>Carla Bruni</th>\n",
              "      <td>259.005883</td>\n",
              "    </tr>\n",
              "    <tr>\n",
              "      <th>Los Hermanos</th>\n",
              "      <td>191.950067</td>\n",
              "    </tr>\n",
              "    <tr>\n",
              "      <th>Blur</th>\n",
              "      <td>188.723700</td>\n",
              "    </tr>\n",
              "    <tr>\n",
              "      <th>Novos Baianos</th>\n",
              "      <td>176.880367</td>\n",
              "    </tr>\n",
              "    <tr>\n",
              "      <th>Radiohead</th>\n",
              "      <td>131.639450</td>\n",
              "    </tr>\n",
              "  </tbody>\n",
              "</table>\n",
              "</div>"
            ],
            "text/plain": [
              "                minutedPlayed\n",
              "artistName                   \n",
              "Caetano Veloso     332.700250\n",
              "Carla Bruni        259.005883\n",
              "Los Hermanos       191.950067\n",
              "Blur               188.723700\n",
              "Novos Baianos      176.880367\n",
              "Radiohead          131.639450"
            ]
          },
          "metadata": {
            "tags": []
          },
          "execution_count": 298
        }
      ]
    },
    {
      "cell_type": "code",
      "metadata": {
        "colab": {
          "base_uri": "https://localhost:8080/",
          "height": 282
        },
        "id": "aWu6u2WqJCDh",
        "outputId": "42e09039-cd46-4e68-bdb5-d8fcc26722b1"
      },
      "source": [
        "artist.plot.barh()"
      ],
      "execution_count": 299,
      "outputs": [
        {
          "output_type": "execute_result",
          "data": {
            "text/plain": [
              "<matplotlib.axes._subplots.AxesSubplot at 0x7fd970f84b10>"
            ]
          },
          "metadata": {
            "tags": []
          },
          "execution_count": 299
        },
        {
          "output_type": "display_data",
          "data": {
            "image/png": "[encoded data removed]",
            "text/plain": [
              "<Figure size 432x288 with 1 Axes>"
            ]
          },
          "metadata": {
            "tags": [],
            "needs_background": "light"
          }
        }
      ]
    },
    {
      "cell_type": "markdown",
      "metadata": {
        "id": "zAOgnBU9Gjb-"
      },
      "source": [
        "Analisando as 5 músicas mais ouvidas, observamos que as músicas mais frequentes são internacionais!"
      ]
    },
    {
      "cell_type": "code",
      "metadata": {
        "colab": {
          "base_uri": "https://localhost:8080/"
        },
        "id": "n8N54QdjEpg4",
        "outputId": "3159bee4-6fd4-4dc0-f0a6-a99e9cec022c"
      },
      "source": [
        "track = df_sptfy['trackName'].value_counts().head()\n",
        "track"
      ],
      "execution_count": 300,
      "outputs": [
        {
          "output_type": "execute_result",
          "data": {
            "text/plain": [
              "Feel Good Inc.       18\n",
              "Loser                17\n",
              "Dance Monkey         17\n",
              "Seven Nation Army    16\n",
              "Blossom              16\n",
              "Name: trackName, dtype: int64"
            ]
          },
          "metadata": {
            "tags": []
          },
          "execution_count": 300
        }
      ]
    },
    {
      "cell_type": "code",
      "metadata": {
        "colab": {
          "base_uri": "https://localhost:8080/",
          "height": 282
        },
        "id": "1b_mhS3YJq6v",
        "outputId": "832344e1-ba41-47c5-ee5e-241b5459a382"
      },
      "source": [
        "track.plot.barh()"
      ],
      "execution_count": 301,
      "outputs": [
        {
          "output_type": "execute_result",
          "data": {
            "text/plain": [
              "<matplotlib.axes._subplots.AxesSubplot at 0x7fd970eee810>"
            ]
          },
          "metadata": {
            "tags": []
          },
          "execution_count": 301
        },
        {
          "output_type": "display_data",
          "data": {
            "image/png": "[encoded data removed]",
            "text/plain": [
              "<Figure size 432x288 with 1 Axes>"
            ]
          },
          "metadata": {
            "tags": [],
            "needs_background": "light"
          }
        }
      ]
    },
    {
      "cell_type": "markdown",
      "metadata": {
        "id": "zxJRcGkXHHZi"
      },
      "source": [
        "##### 2.2 *YouTube da Lud*"
      ]
    },
    {
      "cell_type": "markdown",
      "metadata": {
        "id": "bO-DHx11ITsr"
      },
      "source": [
        "Analisando os seis artistas mais ouvidos da Lud, observamos  que todos eles são brasileiros, porém, nenhum deles é brasiliense. "
      ]
    },
    {
      "cell_type": "code",
      "metadata": {
        "colab": {
          "base_uri": "https://localhost:8080/"
        },
        "id": "Fvo9iVoGH4H3",
        "outputId": "69b6613a-bdf7-439d-be0f-6f6b98e333ab"
      },
      "source": [
        "canais = df_yt['channelName'].value_counts().head()\n",
        "canais"
      ],
      "execution_count": 283,
      "outputs": [
        {
          "output_type": "execute_result",
          "data": {
            "text/plain": [
              "Bia Marques          370\n",
              "Elana Dara           218\n",
              "Thayná Bitencourt    136\n",
              "Bruno Braz            95\n",
              "L7NNON                85\n",
              "Name: channelName, dtype: int64"
            ]
          },
          "metadata": {
            "tags": []
          },
          "execution_count": 283
        }
      ]
    },
    {
      "cell_type": "code",
      "metadata": {
        "colab": {
          "base_uri": "https://localhost:8080/",
          "height": 0
        },
        "id": "QI7pSTzKJ8sX",
        "outputId": "d2211a04-dc07-445d-e1dd-16723d206300"
      },
      "source": [
        "canais.plot.barh()"
      ],
      "execution_count": 284,
      "outputs": [
        {
          "output_type": "execute_result",
          "data": {
            "text/plain": [
              "<matplotlib.axes._subplots.AxesSubplot at 0x7fd9710c98d0>"
            ]
          },
          "metadata": {
            "tags": []
          },
          "execution_count": 284
        },
        {
          "output_type": "display_data",
          "data": {
            "image/png": "[encoded data removed]",
            "text/plain": [
              "<Figure size 432x288 with 1 Axes>"
            ]
          },
          "metadata": {
            "tags": [],
            "needs_background": "light"
          }
        }
      ]
    },
    {
      "cell_type": "markdown",
      "metadata": {
        "id": "d_KBqHQOIfME"
      },
      "source": [
        "Quanto as músicas mais tocadas, percebemos que as artistas mais recorrentes são Bia Marques e Elana Dara, ambas artistas cover, que ocupam exatamente primeiro e segundo lugar das artistas mais ouvidas da Lud. "
      ]
    },
    {
      "cell_type": "code",
      "metadata": {
        "colab": {
          "base_uri": "https://localhost:8080/"
        },
        "id": "A67xbBMqHK8K",
        "outputId": "83680dbb-4ab0-4610-b4c5-8026e6064045"
      },
      "source": [
        "musicas = df_yt['title'].value_counts().head()\n",
        "musicas"
      ],
      "execution_count": 285,
      "outputs": [
        {
          "output_type": "execute_result",
          "data": {
            "text/plain": [
              " Poesia Acústica 8 - Bia Marques (cover)                    32\n",
              " “Poesia Acústica #6 | Era uma Vez” - (Cover) Elana Dara    29\n",
              " Elana Dara - aff...                                        23\n",
              " Malibu || Não Vou Mais - Gaab & Elana Dara                 21\n",
              " \"Capricorniana\" Poesia Acústica #3 - (Cover) Elana Dara    20\n",
              "Name: title, dtype: int64"
            ]
          },
          "metadata": {
            "tags": []
          },
          "execution_count": 285
        }
      ]
    },
    {
      "cell_type": "code",
      "metadata": {
        "colab": {
          "base_uri": "https://localhost:8080/",
          "height": 0
        },
        "id": "b3NpRk_PKLok",
        "outputId": "6a44c483-dec4-4a8c-9de5-516f41fcaab4"
      },
      "source": [
        "musicas.plot.barh()"
      ],
      "execution_count": 286,
      "outputs": [
        {
          "output_type": "execute_result",
          "data": {
            "text/plain": [
              "<matplotlib.axes._subplots.AxesSubplot at 0x7fd971019450>"
            ]
          },
          "metadata": {
            "tags": []
          },
          "execution_count": 286
        },
        {
          "output_type": "display_data",
          "data": {
            "image/png": "[encoded data removed]",
            "text/plain": [
              "<Figure size 432x288 with 1 Axes>"
            ]
          },
          "metadata": {
            "tags": [],
            "needs_background": "light"
          }
        }
      ]
    },
    {
      "cell_type": "markdown",
      "metadata": {
        "id": "PQVo8tHBAf4P"
      },
      "source": [
        "### 2.5. *Brasília é um ovo!*"
      ]
    },
    {
      "cell_type": "markdown",
      "metadata": {
        "id": "DmBCYRvrBnf5"
      },
      "source": [
        "Em Brasília temos o famoso ditado: \"*Em Brasília existem três pessoas: eu, você e a pessoa que a gente conhece*\". \n",
        "\n",
        "E apesar de não ter encontrado o elo perdido entre nós duas, porque não descobrir se em algum momento nós chegamos a frequentar algum lugar em comum?"
      ]
    },
    {
      "cell_type": "code",
      "metadata": {
        "id": "H6baeTXnA9BC"
      },
      "source": [
        "loc_gabi = pd.read_csv('/content/drive/MyDrive/Projeto_5/loc-gabi.csv')\n",
        "loc_lud = pd.read_csv('/content/drive/MyDrive/Projeto_5/loc-lud/loc-lud.csv')"
      ],
      "execution_count": 215,
      "outputs": []
    },
    {
      "cell_type": "code",
      "metadata": {
        "id": "63epFJBdBEDs"
      },
      "source": [
        "loc_gabi = loc_gabi['nome'].tolist()\n",
        "loc_lud = loc_lud['nome'].tolist()"
      ],
      "execution_count": 216,
      "outputs": []
    },
    {
      "cell_type": "code",
      "metadata": {
        "id": "k_lKRqhKBLtX"
      },
      "source": [
        "#filtrando os locais em comum\n",
        "equals = []\n",
        "\n",
        "for i in range(len(loc_gabi)):\n",
        "    if loc_gabi[i] not in loc_lud:\n",
        "        pass\n",
        "    else :\n",
        "        equals.append(loc_gabi[i])\n"
      ],
      "execution_count": 217,
      "outputs": []
    },
    {
      "cell_type": "code",
      "metadata": {
        "id": "z_G5sNN9BSxQ"
      },
      "source": [
        "# filtrando valores duplicados\n",
        "\n",
        "equals = list(set(equals))"
      ],
      "execution_count": 218,
      "outputs": []
    },
    {
      "cell_type": "markdown",
      "metadata": {
        "id": "K1vFxXwBCWSQ"
      },
      "source": [
        "Encontramos 11 lugares em comum entre 2017 e 2019. Esses locais são majoritariamente em regiões próximas às RAs que residimos, e elas variam entre supermercados, restaurantes, shoppings, universidades, rodovidárias e até um hospital!"
      ]
    },
    {
      "cell_type": "code",
      "metadata": {
        "colab": {
          "base_uri": "https://localhost:8080/",
          "height": 390
        },
        "id": "ppIj0B-FBYKP",
        "outputId": "e2e25bba-d064-4513-ac51-35008cdff418"
      },
      "source": [
        "df = pd.DataFrame(equals)\n",
        "df.rename(columns={0:'nome'})"
      ],
      "execution_count": 219,
      "outputs": [
        {
          "output_type": "execute_result",
          "data": {
            "text/html": [
              "<div>\n",
              "<style scoped>\n",
              "    .dataframe tbody tr th:only-of-type {\n",
              "        vertical-align: middle;\n",
              "    }\n",
              "\n",
              "    .dataframe tbody tr th {\n",
              "        vertical-align: top;\n",
              "    }\n",
              "\n",
              "    .dataframe thead th {\n",
              "        text-align: right;\n",
              "    }\n",
              "</style>\n",
              "<table border=\"1\" class=\"dataframe\">\n",
              "  <thead>\n",
              "    <tr style=\"text-align: right;\">\n",
              "      <th></th>\n",
              "      <th>nome</th>\n",
              "    </tr>\n",
              "  </thead>\n",
              "  <tbody>\n",
              "    <tr>\n",
              "      <th>0</th>\n",
              "      <td>Rossoni Pastelaria e carne de sol</td>\n",
              "    </tr>\n",
              "    <tr>\n",
              "      <th>1</th>\n",
              "      <td>GRU Airport</td>\n",
              "    </tr>\n",
              "    <tr>\n",
              "      <th>2</th>\n",
              "      <td>BIG BOX Supermercados 408 NORTE: Delivery em A...</td>\n",
              "    </tr>\n",
              "    <tr>\n",
              "      <th>3</th>\n",
              "      <td>Taguatinga Shopping</td>\n",
              "    </tr>\n",
              "    <tr>\n",
              "      <th>4</th>\n",
              "      <td>Rodoviária Plano Piloto - A2</td>\n",
              "    </tr>\n",
              "    <tr>\n",
              "      <th>5</th>\n",
              "      <td>Hospital de Base do Distrito Federal</td>\n",
              "    </tr>\n",
              "    <tr>\n",
              "      <th>6</th>\n",
              "      <td>Rodoviária Plano Piloto B</td>\n",
              "    </tr>\n",
              "    <tr>\n",
              "      <th>7</th>\n",
              "      <td>Base Atacado - ADE</td>\n",
              "    </tr>\n",
              "    <tr>\n",
              "      <th>8</th>\n",
              "      <td>Terraço Shopping</td>\n",
              "    </tr>\n",
              "    <tr>\n",
              "      <th>9</th>\n",
              "      <td>University of Brasília</td>\n",
              "    </tr>\n",
              "    <tr>\n",
              "      <th>10</th>\n",
              "      <td>Lojas Americanas</td>\n",
              "    </tr>\n",
              "  </tbody>\n",
              "</table>\n",
              "</div>"
            ],
            "text/plain": [
              "                                                 nome\n",
              "0                   Rossoni Pastelaria e carne de sol\n",
              "1                                         GRU Airport\n",
              "2   BIG BOX Supermercados 408 NORTE: Delivery em A...\n",
              "3                                 Taguatinga Shopping\n",
              "4                        Rodoviária Plano Piloto - A2\n",
              "5                Hospital de Base do Distrito Federal\n",
              "6                           Rodoviária Plano Piloto B\n",
              "7                                  Base Atacado - ADE\n",
              "8                                    Terraço Shopping\n",
              "9                              University of Brasília\n",
              "10                                   Lojas Americanas"
            ]
          },
          "metadata": {
            "tags": []
          },
          "execution_count": 219
        }
      ]
    },
    {
      "cell_type": "markdown",
      "metadata": {
        "id": "wJMSlXhPPoVi"
      },
      "source": [
        "# **Referências**"
      ]
    },
    {
      "cell_type": "markdown",
      "metadata": {
        "id": "HVEBIje8Plpv"
      },
      "source": [
        "*   `pib_estados.csv` - [IBGE](https://sidra.ibge.gov.br/tabela/5938) (Informações extraídas referentes ao ano de 2018)\n",
        "*   `delimitacao_amb.geojson` - [Codeplan - InfoDF](http://infodf.codeplan.df.gov.br/)\n",
        "*   `dados_brasilia_metropolitana` - [Codeplan - InfoDF](http://infodf.codeplan.df.gov.br/)\n"
      ]
    }
  ]
}