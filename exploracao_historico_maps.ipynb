{
 "metadata": {
  "language_info": {
   "codemirror_mode": {
    "name": "ipython",
    "version": 3
   },
   "file_extension": ".py",
   "mimetype": "text/x-python",
   "name": "python",
   "nbconvert_exporter": "python",
   "pygments_lexer": "ipython3",
   "version": "3.9.1"
  },
  "orig_nbformat": 4,
  "kernelspec": {
   "name": "python3",
   "display_name": "Python 3.9.1 64-bit"
  },
  "interpreter": {
   "hash": "aee8b7b246df8f9039afb4144a1f6fd8d2ca17a180786b69acc140d282b71a49"
  }
 },
 "nbformat": 4,
 "nbformat_minor": 2,
 "cells": [
  {
   "cell_type": "code",
   "execution_count": 1,
   "metadata": {},
   "outputs": [],
   "source": [
    "import pandas as pd"
   ]
  },
  {
   "cell_type": "code",
   "execution_count": 3,
   "metadata": {},
   "outputs": [],
   "source": [
    "df = pd.read_json('historico_de_localizacao.json')"
   ]
  },
  {
   "cell_type": "code",
   "execution_count": 4,
   "metadata": {},
   "outputs": [
    {
     "output_type": "execute_result",
     "data": {
      "text/plain": [
       "                                              locations\n",
       "0     {'timestampMs': '1499723695000', 'latitudeE7':...\n",
       "1     {'timestampMs': '1499723710000', 'latitudeE7':...\n",
       "2     {'timestampMs': '1499723725000', 'latitudeE7':...\n",
       "3     {'timestampMs': '1499723766000', 'latitudeE7':...\n",
       "4     {'timestampMs': '1499723782000', 'latitudeE7':...\n",
       "...                                                 ...\n",
       "7542  {'timestampMs': '1626646342396', 'latitudeE7':...\n",
       "7543  {'timestampMs': '1626646463972', 'latitudeE7':...\n",
       "7544  {'timestampMs': '1626646586211', 'latitudeE7':...\n",
       "7545  {'timestampMs': '1626646707321', 'latitudeE7':...\n",
       "7546  {'timestampMs': '1626647948645', 'latitudeE7':...\n",
       "\n",
       "[7547 rows x 1 columns]"
      ],
      "text/html": "<div>\n<style scoped>\n    .dataframe tbody tr th:only-of-type {\n        vertical-align: middle;\n    }\n\n    .dataframe tbody tr th {\n        vertical-align: top;\n    }\n\n    .dataframe thead th {\n        text-align: right;\n    }\n</style>\n<table border=\"1\" class=\"dataframe\">\n  <thead>\n    <tr style=\"text-align: right;\">\n      <th></th>\n      <th>locations</th>\n    </tr>\n  </thead>\n  <tbody>\n    <tr>\n      <th>0</th>\n      <td>{'timestampMs': '1499723695000', 'latitudeE7':...</td>\n    </tr>\n    <tr>\n      <th>1</th>\n      <td>{'timestampMs': '1499723710000', 'latitudeE7':...</td>\n    </tr>\n    <tr>\n      <th>2</th>\n      <td>{'timestampMs': '1499723725000', 'latitudeE7':...</td>\n    </tr>\n    <tr>\n      <th>3</th>\n      <td>{'timestampMs': '1499723766000', 'latitudeE7':...</td>\n    </tr>\n    <tr>\n      <th>4</th>\n      <td>{'timestampMs': '1499723782000', 'latitudeE7':...</td>\n    </tr>\n    <tr>\n      <th>...</th>\n      <td>...</td>\n    </tr>\n    <tr>\n      <th>7542</th>\n      <td>{'timestampMs': '1626646342396', 'latitudeE7':...</td>\n    </tr>\n    <tr>\n      <th>7543</th>\n      <td>{'timestampMs': '1626646463972', 'latitudeE7':...</td>\n    </tr>\n    <tr>\n      <th>7544</th>\n      <td>{'timestampMs': '1626646586211', 'latitudeE7':...</td>\n    </tr>\n    <tr>\n      <th>7545</th>\n      <td>{'timestampMs': '1626646707321', 'latitudeE7':...</td>\n    </tr>\n    <tr>\n      <th>7546</th>\n      <td>{'timestampMs': '1626647948645', 'latitudeE7':...</td>\n    </tr>\n  </tbody>\n</table>\n<p>7547 rows × 1 columns</p>\n</div>"
     },
     "metadata": {},
     "execution_count": 4
    }
   ],
   "source": [
    "df"
   ]
  },
  {
   "cell_type": "code",
   "execution_count": 10,
   "metadata": {},
   "outputs": [],
   "source": [
    "contagem = len(df)"
   ]
  },
  {
   "cell_type": "code",
   "execution_count": 9,
   "metadata": {},
   "outputs": [
    {
     "output_type": "stream",
     "name": "stdout",
     "text": [
      "1499723695000\n-158435983\n-479822967\n"
     ]
    }
   ],
   "source": [
    "print(df['locations'][0]['timestampMs'])\n",
    "print(df['locations'][0]['latitudeE7'])\n",
    "print(df['locations'][0]['longitudeE7'])"
   ]
  },
  {
   "cell_type": "code",
   "execution_count": 11,
   "metadata": {},
   "outputs": [],
   "source": [
    "time = []\n",
    "latitude = []\n",
    "longitude = []\n",
    "\n",
    "for i in range(contagem):\n",
    "    time.append(df['locations'][i]['timestampMs'])\n",
    "    latitude.append(df['locations'][i]['latitudeE7'])\n",
    "    longitude.append(df['locations'][i]['longitudeE7'])"
   ]
  },
  {
   "cell_type": "code",
   "execution_count": 13,
   "metadata": {},
   "outputs": [],
   "source": [
    "df['time'] = time\n",
    "df['latitude'] = latitude\n",
    "df['longitude'] = longitude"
   ]
  },
  {
   "cell_type": "code",
   "execution_count": 14,
   "metadata": {},
   "outputs": [
    {
     "output_type": "execute_result",
     "data": {
      "text/plain": [
       "                                              locations           time  \\\n",
       "0     {'timestampMs': '1499723695000', 'latitudeE7':...  1499723695000   \n",
       "1     {'timestampMs': '1499723710000', 'latitudeE7':...  1499723710000   \n",
       "2     {'timestampMs': '1499723725000', 'latitudeE7':...  1499723725000   \n",
       "3     {'timestampMs': '1499723766000', 'latitudeE7':...  1499723766000   \n",
       "4     {'timestampMs': '1499723782000', 'latitudeE7':...  1499723782000   \n",
       "...                                                 ...            ...   \n",
       "7542  {'timestampMs': '1626646342396', 'latitudeE7':...  1626646342396   \n",
       "7543  {'timestampMs': '1626646463972', 'latitudeE7':...  1626646463972   \n",
       "7544  {'timestampMs': '1626646586211', 'latitudeE7':...  1626646586211   \n",
       "7545  {'timestampMs': '1626646707321', 'latitudeE7':...  1626646707321   \n",
       "7546  {'timestampMs': '1626647948645', 'latitudeE7':...  1626647948645   \n",
       "\n",
       "       latitude  longitude  \n",
       "0    -158435983 -479822967  \n",
       "1    -158447417 -479812533  \n",
       "2    -158455183 -479802950  \n",
       "3    -158467150 -479772617  \n",
       "4    -158467950 -479768150  \n",
       "...         ...        ...  \n",
       "7542 -158308384 -480578860  \n",
       "7543 -158308245 -480578815  \n",
       "7544 -158308439 -480578944  \n",
       "7545 -158308106 -480579173  \n",
       "7546 -158315051 -480519758  \n",
       "\n",
       "[7547 rows x 4 columns]"
      ],
      "text/html": "<div>\n<style scoped>\n    .dataframe tbody tr th:only-of-type {\n        vertical-align: middle;\n    }\n\n    .dataframe tbody tr th {\n        vertical-align: top;\n    }\n\n    .dataframe thead th {\n        text-align: right;\n    }\n</style>\n<table border=\"1\" class=\"dataframe\">\n  <thead>\n    <tr style=\"text-align: right;\">\n      <th></th>\n      <th>locations</th>\n      <th>time</th>\n      <th>latitude</th>\n      <th>longitude</th>\n    </tr>\n  </thead>\n  <tbody>\n    <tr>\n      <th>0</th>\n      <td>{'timestampMs': '1499723695000', 'latitudeE7':...</td>\n      <td>1499723695000</td>\n      <td>-158435983</td>\n      <td>-479822967</td>\n    </tr>\n    <tr>\n      <th>1</th>\n      <td>{'timestampMs': '1499723710000', 'latitudeE7':...</td>\n      <td>1499723710000</td>\n      <td>-158447417</td>\n      <td>-479812533</td>\n    </tr>\n    <tr>\n      <th>2</th>\n      <td>{'timestampMs': '1499723725000', 'latitudeE7':...</td>\n      <td>1499723725000</td>\n      <td>-158455183</td>\n      <td>-479802950</td>\n    </tr>\n    <tr>\n      <th>3</th>\n      <td>{'timestampMs': '1499723766000', 'latitudeE7':...</td>\n      <td>1499723766000</td>\n      <td>-158467150</td>\n      <td>-479772617</td>\n    </tr>\n    <tr>\n      <th>4</th>\n      <td>{'timestampMs': '1499723782000', 'latitudeE7':...</td>\n      <td>1499723782000</td>\n      <td>-158467950</td>\n      <td>-479768150</td>\n    </tr>\n    <tr>\n      <th>...</th>\n      <td>...</td>\n      <td>...</td>\n      <td>...</td>\n      <td>...</td>\n    </tr>\n    <tr>\n      <th>7542</th>\n      <td>{'timestampMs': '1626646342396', 'latitudeE7':...</td>\n      <td>1626646342396</td>\n      <td>-158308384</td>\n      <td>-480578860</td>\n    </tr>\n    <tr>\n      <th>7543</th>\n      <td>{'timestampMs': '1626646463972', 'latitudeE7':...</td>\n      <td>1626646463972</td>\n      <td>-158308245</td>\n      <td>-480578815</td>\n    </tr>\n    <tr>\n      <th>7544</th>\n      <td>{'timestampMs': '1626646586211', 'latitudeE7':...</td>\n      <td>1626646586211</td>\n      <td>-158308439</td>\n      <td>-480578944</td>\n    </tr>\n    <tr>\n      <th>7545</th>\n      <td>{'timestampMs': '1626646707321', 'latitudeE7':...</td>\n      <td>1626646707321</td>\n      <td>-158308106</td>\n      <td>-480579173</td>\n    </tr>\n    <tr>\n      <th>7546</th>\n      <td>{'timestampMs': '1626647948645', 'latitudeE7':...</td>\n      <td>1626647948645</td>\n      <td>-158315051</td>\n      <td>-480519758</td>\n    </tr>\n  </tbody>\n</table>\n<p>7547 rows × 4 columns</p>\n</div>"
     },
     "metadata": {},
     "execution_count": 14
    }
   ],
   "source": [
    "df"
   ]
  },
  {
   "cell_type": "code",
   "execution_count": 15,
   "metadata": {},
   "outputs": [],
   "source": [
    "df.drop(columns='locations', inplace=True)"
   ]
  },
  {
   "cell_type": "code",
   "execution_count": 16,
   "metadata": {},
   "outputs": [
    {
     "output_type": "execute_result",
     "data": {
      "text/plain": [
       "               time   latitude  longitude\n",
       "0     1499723695000 -158435983 -479822967\n",
       "1     1499723710000 -158447417 -479812533\n",
       "2     1499723725000 -158455183 -479802950\n",
       "3     1499723766000 -158467150 -479772617\n",
       "4     1499723782000 -158467950 -479768150\n",
       "...             ...        ...        ...\n",
       "7542  1626646342396 -158308384 -480578860\n",
       "7543  1626646463972 -158308245 -480578815\n",
       "7544  1626646586211 -158308439 -480578944\n",
       "7545  1626646707321 -158308106 -480579173\n",
       "7546  1626647948645 -158315051 -480519758\n",
       "\n",
       "[7547 rows x 3 columns]"
      ],
      "text/html": "<div>\n<style scoped>\n    .dataframe tbody tr th:only-of-type {\n        vertical-align: middle;\n    }\n\n    .dataframe tbody tr th {\n        vertical-align: top;\n    }\n\n    .dataframe thead th {\n        text-align: right;\n    }\n</style>\n<table border=\"1\" class=\"dataframe\">\n  <thead>\n    <tr style=\"text-align: right;\">\n      <th></th>\n      <th>time</th>\n      <th>latitude</th>\n      <th>longitude</th>\n    </tr>\n  </thead>\n  <tbody>\n    <tr>\n      <th>0</th>\n      <td>1499723695000</td>\n      <td>-158435983</td>\n      <td>-479822967</td>\n    </tr>\n    <tr>\n      <th>1</th>\n      <td>1499723710000</td>\n      <td>-158447417</td>\n      <td>-479812533</td>\n    </tr>\n    <tr>\n      <th>2</th>\n      <td>1499723725000</td>\n      <td>-158455183</td>\n      <td>-479802950</td>\n    </tr>\n    <tr>\n      <th>3</th>\n      <td>1499723766000</td>\n      <td>-158467150</td>\n      <td>-479772617</td>\n    </tr>\n    <tr>\n      <th>4</th>\n      <td>1499723782000</td>\n      <td>-158467950</td>\n      <td>-479768150</td>\n    </tr>\n    <tr>\n      <th>...</th>\n      <td>...</td>\n      <td>...</td>\n      <td>...</td>\n    </tr>\n    <tr>\n      <th>7542</th>\n      <td>1626646342396</td>\n      <td>-158308384</td>\n      <td>-480578860</td>\n    </tr>\n    <tr>\n      <th>7543</th>\n      <td>1626646463972</td>\n      <td>-158308245</td>\n      <td>-480578815</td>\n    </tr>\n    <tr>\n      <th>7544</th>\n      <td>1626646586211</td>\n      <td>-158308439</td>\n      <td>-480578944</td>\n    </tr>\n    <tr>\n      <th>7545</th>\n      <td>1626646707321</td>\n      <td>-158308106</td>\n      <td>-480579173</td>\n    </tr>\n    <tr>\n      <th>7546</th>\n      <td>1626647948645</td>\n      <td>-158315051</td>\n      <td>-480519758</td>\n    </tr>\n  </tbody>\n</table>\n<p>7547 rows × 3 columns</p>\n</div>"
     },
     "metadata": {},
     "execution_count": 16
    }
   ],
   "source": [
    "df"
   ]
  },
  {
   "cell_type": "code",
   "execution_count": 19,
   "metadata": {},
   "outputs": [],
   "source": [
    "df['time'] = pd.to_datetime(df['time'], unit=\"ms\")"
   ]
  },
  {
   "cell_type": "code",
   "execution_count": 20,
   "metadata": {},
   "outputs": [
    {
     "output_type": "execute_result",
     "data": {
      "text/plain": [
       "                        time   latitude  longitude\n",
       "0    2017-07-10 21:54:55.000 -158435983 -479822967\n",
       "1    2017-07-10 21:55:10.000 -158447417 -479812533\n",
       "2    2017-07-10 21:55:25.000 -158455183 -479802950\n",
       "3    2017-07-10 21:56:06.000 -158467150 -479772617\n",
       "4    2017-07-10 21:56:22.000 -158467950 -479768150\n",
       "...                      ...        ...        ...\n",
       "7542 2021-07-18 22:12:22.396 -158308384 -480578860\n",
       "7543 2021-07-18 22:14:23.972 -158308245 -480578815\n",
       "7544 2021-07-18 22:16:26.211 -158308439 -480578944\n",
       "7545 2021-07-18 22:18:27.321 -158308106 -480579173\n",
       "7546 2021-07-18 22:39:08.645 -158315051 -480519758\n",
       "\n",
       "[7547 rows x 3 columns]"
      ],
      "text/html": "<div>\n<style scoped>\n    .dataframe tbody tr th:only-of-type {\n        vertical-align: middle;\n    }\n\n    .dataframe tbody tr th {\n        vertical-align: top;\n    }\n\n    .dataframe thead th {\n        text-align: right;\n    }\n</style>\n<table border=\"1\" class=\"dataframe\">\n  <thead>\n    <tr style=\"text-align: right;\">\n      <th></th>\n      <th>time</th>\n      <th>latitude</th>\n      <th>longitude</th>\n    </tr>\n  </thead>\n  <tbody>\n    <tr>\n      <th>0</th>\n      <td>2017-07-10 21:54:55.000</td>\n      <td>-158435983</td>\n      <td>-479822967</td>\n    </tr>\n    <tr>\n      <th>1</th>\n      <td>2017-07-10 21:55:10.000</td>\n      <td>-158447417</td>\n      <td>-479812533</td>\n    </tr>\n    <tr>\n      <th>2</th>\n      <td>2017-07-10 21:55:25.000</td>\n      <td>-158455183</td>\n      <td>-479802950</td>\n    </tr>\n    <tr>\n      <th>3</th>\n      <td>2017-07-10 21:56:06.000</td>\n      <td>-158467150</td>\n      <td>-479772617</td>\n    </tr>\n    <tr>\n      <th>4</th>\n      <td>2017-07-10 21:56:22.000</td>\n      <td>-158467950</td>\n      <td>-479768150</td>\n    </tr>\n    <tr>\n      <th>...</th>\n      <td>...</td>\n      <td>...</td>\n      <td>...</td>\n    </tr>\n    <tr>\n      <th>7542</th>\n      <td>2021-07-18 22:12:22.396</td>\n      <td>-158308384</td>\n      <td>-480578860</td>\n    </tr>\n    <tr>\n      <th>7543</th>\n      <td>2021-07-18 22:14:23.972</td>\n      <td>-158308245</td>\n      <td>-480578815</td>\n    </tr>\n    <tr>\n      <th>7544</th>\n      <td>2021-07-18 22:16:26.211</td>\n      <td>-158308439</td>\n      <td>-480578944</td>\n    </tr>\n    <tr>\n      <th>7545</th>\n      <td>2021-07-18 22:18:27.321</td>\n      <td>-158308106</td>\n      <td>-480579173</td>\n    </tr>\n    <tr>\n      <th>7546</th>\n      <td>2021-07-18 22:39:08.645</td>\n      <td>-158315051</td>\n      <td>-480519758</td>\n    </tr>\n  </tbody>\n</table>\n<p>7547 rows × 3 columns</p>\n</div>"
     },
     "metadata": {},
     "execution_count": 20
    }
   ],
   "source": [
    "df"
   ]
  },
  {
   "cell_type": "code",
   "execution_count": 21,
   "metadata": {},
   "outputs": [],
   "source": [
    "df.to_csv('historico-localizacao-maps-ludmila.csv')"
   ]
  }
 ]
}