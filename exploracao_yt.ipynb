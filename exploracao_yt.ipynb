{
 "metadata": {
  "language_info": {
   "codemirror_mode": {
    "name": "ipython",
    "version": 3
   },
   "file_extension": ".py",
   "mimetype": "text/x-python",
   "name": "python",
   "nbconvert_exporter": "python",
   "pygments_lexer": "ipython3",
   "version": "3.9.1"
  },
  "orig_nbformat": 4,
  "kernelspec": {
   "name": "python3",
   "display_name": "Python 3.9.1 64-bit"
  },
  "interpreter": {
   "hash": "aee8b7b246df8f9039afb4144a1f6fd8d2ca17a180786b69acc140d282b71a49"
  }
 },
 "nbformat": 4,
 "nbformat_minor": 2,
 "cells": [
  {
   "cell_type": "code",
   "execution_count": 1,
   "metadata": {},
   "outputs": [],
   "source": [
    "import pandas as pd"
   ]
  },
  {
   "cell_type": "code",
   "execution_count": 30,
   "metadata": {},
   "outputs": [],
   "source": [
    "df = pd.read_json('historico-de-visualizacao.json')"
   ]
  },
  {
   "cell_type": "code",
   "execution_count": 33,
   "metadata": {},
   "outputs": [],
   "source": [
    "df.drop(columns='details', inplace=True)"
   ]
  },
  {
   "cell_type": "code",
   "execution_count": 34,
   "metadata": {},
   "outputs": [
    {
     "output_type": "execute_result",
     "data": {
      "text/plain": [
       "                                                  title  \\\n",
       "0          Watched o conto dos dois mundos (hipocrisia)   \n",
       "1     Watched 😦DECEPÇÃO? Veja o que aconteceu no CRA...   \n",
       "2            Watched Luísa Sonza - melhor sozinha :-)-:   \n",
       "3                                  Watched INTERE$$EIRA   \n",
       "4     Watched ESTOURANDO ESPINHAS MUITO CHEIA NA ORE...   \n",
       "...                                                 ...   \n",
       "5296                         Watched Vitão - Caderninho   \n",
       "5297                               Watched Vitão - Café   \n",
       "5298                      Watched Filme 50 Anos de Ceub   \n",
       "5299         Watched FILA DE PIADAS - ANIVERSÁRIO - #59   \n",
       "5300  Watched FILA DE PIADAS - BRINCADEIRAS DE INFÂN...   \n",
       "\n",
       "                                         titleUrl  \\\n",
       "0     https://www.youtube.com/watch?v=BBlk0x1_rUY   \n",
       "1     https://www.youtube.com/watch?v=3dzpt5M0mTY   \n",
       "2     https://www.youtube.com/watch?v=sTKsdv1k7f8   \n",
       "3     https://www.youtube.com/watch?v=KP-Jad5tZfs   \n",
       "4     https://www.youtube.com/watch?v=BMe32UZarsA   \n",
       "...                                           ...   \n",
       "5296  https://www.youtube.com/watch?v=8LDGy-oPskU   \n",
       "5297  https://www.youtube.com/watch?v=qIOC6-jClWc   \n",
       "5298  https://www.youtube.com/watch?v=cYKzB9VZZDM   \n",
       "5299  https://www.youtube.com/watch?v=_U4z2xOczGM   \n",
       "5300  https://www.youtube.com/watch?v=VrC0cmPVmq8   \n",
       "\n",
       "                                              subtitles  \\\n",
       "0     [{'name': 'Luísa Sonza - Topic', 'url': 'https...   \n",
       "1     [{'name': 'AutoVideos', 'url': 'https://www.yo...   \n",
       "2     [{'name': 'LuisaSonzaVEVO', 'url': 'https://ww...   \n",
       "3     [{'name': 'Luísa Sonza - Topic', 'url': 'https...   \n",
       "4     [{'name': 'Daniela Ramos', 'url': 'https://www...   \n",
       "...                                                 ...   \n",
       "5296  [{'name': 'VitaoVEVO', 'url': 'https://www.you...   \n",
       "5297  [{'name': 'VitaoVEVO', 'url': 'https://www.you...   \n",
       "5298  [{'name': 'CEUB', 'url': 'https://www.youtube....   \n",
       "5299  [{'name': '4 AMIGOS STAND UP COMEDY', 'url': '...   \n",
       "5300  [{'name': '4 AMIGOS STAND UP COMEDY', 'url': '...   \n",
       "\n",
       "                          time  \n",
       "0     2021-07-20T16:34:26.417Z  \n",
       "1     2021-07-20T16:31:33.855Z  \n",
       "2     2021-07-20T15:56:46.796Z  \n",
       "3     2021-07-20T15:53:52.895Z  \n",
       "4     2021-07-20T03:22:42.362Z  \n",
       "...                        ...  \n",
       "5296  2019-03-18T22:17:54.865Z  \n",
       "5297  2019-03-18T22:16:40.103Z  \n",
       "5298  2019-03-12T16:26:59.117Z  \n",
       "5299  2019-03-02T00:15:44.796Z  \n",
       "5300  2019-03-02T00:00:54.507Z  \n",
       "\n",
       "[5301 rows x 4 columns]"
      ],
      "text/html": "<div>\n<style scoped>\n    .dataframe tbody tr th:only-of-type {\n        vertical-align: middle;\n    }\n\n    .dataframe tbody tr th {\n        vertical-align: top;\n    }\n\n    .dataframe thead th {\n        text-align: right;\n    }\n</style>\n<table border=\"1\" class=\"dataframe\">\n  <thead>\n    <tr style=\"text-align: right;\">\n      <th></th>\n      <th>title</th>\n      <th>titleUrl</th>\n      <th>subtitles</th>\n      <th>time</th>\n    </tr>\n  </thead>\n  <tbody>\n    <tr>\n      <th>0</th>\n      <td>Watched o conto dos dois mundos (hipocrisia)</td>\n      <td>https://www.youtube.com/watch?v=BBlk0x1_rUY</td>\n      <td>[{'name': 'Luísa Sonza - Topic', 'url': 'https...</td>\n      <td>2021-07-20T16:34:26.417Z</td>\n    </tr>\n    <tr>\n      <th>1</th>\n      <td>Watched 😦DECEPÇÃO? Veja o que aconteceu no CRA...</td>\n      <td>https://www.youtube.com/watch?v=3dzpt5M0mTY</td>\n      <td>[{'name': 'AutoVideos', 'url': 'https://www.yo...</td>\n      <td>2021-07-20T16:31:33.855Z</td>\n    </tr>\n    <tr>\n      <th>2</th>\n      <td>Watched Luísa Sonza - melhor sozinha :-)-:</td>\n      <td>https://www.youtube.com/watch?v=sTKsdv1k7f8</td>\n      <td>[{'name': 'LuisaSonzaVEVO', 'url': 'https://ww...</td>\n      <td>2021-07-20T15:56:46.796Z</td>\n    </tr>\n    <tr>\n      <th>3</th>\n      <td>Watched INTERE$$EIRA</td>\n      <td>https://www.youtube.com/watch?v=KP-Jad5tZfs</td>\n      <td>[{'name': 'Luísa Sonza - Topic', 'url': 'https...</td>\n      <td>2021-07-20T15:53:52.895Z</td>\n    </tr>\n    <tr>\n      <th>4</th>\n      <td>Watched ESTOURANDO ESPINHAS MUITO CHEIA NA ORE...</td>\n      <td>https://www.youtube.com/watch?v=BMe32UZarsA</td>\n      <td>[{'name': 'Daniela Ramos', 'url': 'https://www...</td>\n      <td>2021-07-20T03:22:42.362Z</td>\n    </tr>\n    <tr>\n      <th>...</th>\n      <td>...</td>\n      <td>...</td>\n      <td>...</td>\n      <td>...</td>\n    </tr>\n    <tr>\n      <th>5296</th>\n      <td>Watched Vitão - Caderninho</td>\n      <td>https://www.youtube.com/watch?v=8LDGy-oPskU</td>\n      <td>[{'name': 'VitaoVEVO', 'url': 'https://www.you...</td>\n      <td>2019-03-18T22:17:54.865Z</td>\n    </tr>\n    <tr>\n      <th>5297</th>\n      <td>Watched Vitão - Café</td>\n      <td>https://www.youtube.com/watch?v=qIOC6-jClWc</td>\n      <td>[{'name': 'VitaoVEVO', 'url': 'https://www.you...</td>\n      <td>2019-03-18T22:16:40.103Z</td>\n    </tr>\n    <tr>\n      <th>5298</th>\n      <td>Watched Filme 50 Anos de Ceub</td>\n      <td>https://www.youtube.com/watch?v=cYKzB9VZZDM</td>\n      <td>[{'name': 'CEUB', 'url': 'https://www.youtube....</td>\n      <td>2019-03-12T16:26:59.117Z</td>\n    </tr>\n    <tr>\n      <th>5299</th>\n      <td>Watched FILA DE PIADAS - ANIVERSÁRIO - #59</td>\n      <td>https://www.youtube.com/watch?v=_U4z2xOczGM</td>\n      <td>[{'name': '4 AMIGOS STAND UP COMEDY', 'url': '...</td>\n      <td>2019-03-02T00:15:44.796Z</td>\n    </tr>\n    <tr>\n      <th>5300</th>\n      <td>Watched FILA DE PIADAS - BRINCADEIRAS DE INFÂN...</td>\n      <td>https://www.youtube.com/watch?v=VrC0cmPVmq8</td>\n      <td>[{'name': '4 AMIGOS STAND UP COMEDY', 'url': '...</td>\n      <td>2019-03-02T00:00:54.507Z</td>\n    </tr>\n  </tbody>\n</table>\n<p>5301 rows × 4 columns</p>\n</div>"
     },
     "metadata": {},
     "execution_count": 34
    }
   ],
   "source": [
    "df[['title', 'titleUrl', 'subtitles', 'time']]"
   ]
  },
  {
   "cell_type": "code",
   "execution_count": 37,
   "metadata": {},
   "outputs": [
    {
     "output_type": "error",
     "ename": "ValueError",
     "evalue": "cannot insert level_0, already exists",
     "traceback": [
      "\u001b[0;31m---------------------------------------------------------------------------\u001b[0m",
      "\u001b[0;31mValueError\u001b[0m                                Traceback (most recent call last)",
      "\u001b[0;32m<ipython-input-37-11d8e926a6b0>\u001b[0m in \u001b[0;36m<module>\u001b[0;34m\u001b[0m\n\u001b[1;32m      1\u001b[0m \u001b[0mdf\u001b[0m\u001b[0;34m.\u001b[0m\u001b[0mdropna\u001b[0m\u001b[0;34m(\u001b[0m\u001b[0minplace\u001b[0m\u001b[0;34m=\u001b[0m\u001b[0;32mTrue\u001b[0m\u001b[0;34m)\u001b[0m\u001b[0;34m\u001b[0m\u001b[0;34m\u001b[0m\u001b[0m\n\u001b[0;32m----> 2\u001b[0;31m \u001b[0mdf\u001b[0m\u001b[0;34m.\u001b[0m\u001b[0mreset_index\u001b[0m\u001b[0;34m(\u001b[0m\u001b[0minplace\u001b[0m\u001b[0;34m=\u001b[0m\u001b[0;32mTrue\u001b[0m\u001b[0;34m)\u001b[0m\u001b[0;34m\u001b[0m\u001b[0;34m\u001b[0m\u001b[0m\n\u001b[0m",
      "\u001b[0;32m/Library/Frameworks/Python.framework/Versions/3.9/lib/python3.9/site-packages/pandas/core/frame.py\u001b[0m in \u001b[0;36mreset_index\u001b[0;34m(self, level, drop, inplace, col_level, col_fill)\u001b[0m\n\u001b[1;32m   5014\u001b[0m                 \u001b[0;31m# to ndarray and maybe infer different dtype\u001b[0m\u001b[0;34m\u001b[0m\u001b[0;34m\u001b[0m\u001b[0;34m\u001b[0m\u001b[0m\n\u001b[1;32m   5015\u001b[0m                 \u001b[0mlevel_values\u001b[0m \u001b[0;34m=\u001b[0m \u001b[0mmaybe_casted_values\u001b[0m\u001b[0;34m(\u001b[0m\u001b[0mlev\u001b[0m\u001b[0;34m,\u001b[0m \u001b[0mlab\u001b[0m\u001b[0;34m)\u001b[0m\u001b[0;34m\u001b[0m\u001b[0;34m\u001b[0m\u001b[0m\n\u001b[0;32m-> 5016\u001b[0;31m                 \u001b[0mnew_obj\u001b[0m\u001b[0;34m.\u001b[0m\u001b[0minsert\u001b[0m\u001b[0;34m(\u001b[0m\u001b[0;36m0\u001b[0m\u001b[0;34m,\u001b[0m \u001b[0mname\u001b[0m\u001b[0;34m,\u001b[0m \u001b[0mlevel_values\u001b[0m\u001b[0;34m)\u001b[0m\u001b[0;34m\u001b[0m\u001b[0;34m\u001b[0m\u001b[0m\n\u001b[0m\u001b[1;32m   5017\u001b[0m \u001b[0;34m\u001b[0m\u001b[0m\n\u001b[1;32m   5018\u001b[0m         \u001b[0mnew_obj\u001b[0m\u001b[0;34m.\u001b[0m\u001b[0mindex\u001b[0m \u001b[0;34m=\u001b[0m \u001b[0mnew_index\u001b[0m\u001b[0;34m\u001b[0m\u001b[0;34m\u001b[0m\u001b[0m\n",
      "\u001b[0;32m/Library/Frameworks/Python.framework/Versions/3.9/lib/python3.9/site-packages/pandas/core/frame.py\u001b[0m in \u001b[0;36minsert\u001b[0;34m(self, loc, column, value, allow_duplicates)\u001b[0m\n\u001b[1;32m   3761\u001b[0m         \u001b[0mself\u001b[0m\u001b[0;34m.\u001b[0m\u001b[0m_ensure_valid_index\u001b[0m\u001b[0;34m(\u001b[0m\u001b[0mvalue\u001b[0m\u001b[0;34m)\u001b[0m\u001b[0;34m\u001b[0m\u001b[0;34m\u001b[0m\u001b[0m\n\u001b[1;32m   3762\u001b[0m         \u001b[0mvalue\u001b[0m \u001b[0;34m=\u001b[0m \u001b[0mself\u001b[0m\u001b[0;34m.\u001b[0m\u001b[0m_sanitize_column\u001b[0m\u001b[0;34m(\u001b[0m\u001b[0mcolumn\u001b[0m\u001b[0;34m,\u001b[0m \u001b[0mvalue\u001b[0m\u001b[0;34m,\u001b[0m \u001b[0mbroadcast\u001b[0m\u001b[0;34m=\u001b[0m\u001b[0;32mFalse\u001b[0m\u001b[0;34m)\u001b[0m\u001b[0;34m\u001b[0m\u001b[0;34m\u001b[0m\u001b[0m\n\u001b[0;32m-> 3763\u001b[0;31m         \u001b[0mself\u001b[0m\u001b[0;34m.\u001b[0m\u001b[0m_mgr\u001b[0m\u001b[0;34m.\u001b[0m\u001b[0minsert\u001b[0m\u001b[0;34m(\u001b[0m\u001b[0mloc\u001b[0m\u001b[0;34m,\u001b[0m \u001b[0mcolumn\u001b[0m\u001b[0;34m,\u001b[0m \u001b[0mvalue\u001b[0m\u001b[0;34m,\u001b[0m \u001b[0mallow_duplicates\u001b[0m\u001b[0;34m=\u001b[0m\u001b[0mallow_duplicates\u001b[0m\u001b[0;34m)\u001b[0m\u001b[0;34m\u001b[0m\u001b[0;34m\u001b[0m\u001b[0m\n\u001b[0m\u001b[1;32m   3764\u001b[0m \u001b[0;34m\u001b[0m\u001b[0m\n\u001b[1;32m   3765\u001b[0m     \u001b[0;32mdef\u001b[0m \u001b[0massign\u001b[0m\u001b[0;34m(\u001b[0m\u001b[0mself\u001b[0m\u001b[0;34m,\u001b[0m \u001b[0;34m**\u001b[0m\u001b[0mkwargs\u001b[0m\u001b[0;34m)\u001b[0m \u001b[0;34m->\u001b[0m \u001b[0mDataFrame\u001b[0m\u001b[0;34m:\u001b[0m\u001b[0;34m\u001b[0m\u001b[0;34m\u001b[0m\u001b[0m\n",
      "\u001b[0;32m/Library/Frameworks/Python.framework/Versions/3.9/lib/python3.9/site-packages/pandas/core/internals/managers.py\u001b[0m in \u001b[0;36minsert\u001b[0;34m(self, loc, item, value, allow_duplicates)\u001b[0m\n\u001b[1;32m   1189\u001b[0m         \u001b[0;32mif\u001b[0m \u001b[0;32mnot\u001b[0m \u001b[0mallow_duplicates\u001b[0m \u001b[0;32mand\u001b[0m \u001b[0mitem\u001b[0m \u001b[0;32min\u001b[0m \u001b[0mself\u001b[0m\u001b[0;34m.\u001b[0m\u001b[0mitems\u001b[0m\u001b[0;34m:\u001b[0m\u001b[0;34m\u001b[0m\u001b[0;34m\u001b[0m\u001b[0m\n\u001b[1;32m   1190\u001b[0m             \u001b[0;31m# Should this be a different kind of error??\u001b[0m\u001b[0;34m\u001b[0m\u001b[0;34m\u001b[0m\u001b[0;34m\u001b[0m\u001b[0m\n\u001b[0;32m-> 1191\u001b[0;31m             \u001b[0;32mraise\u001b[0m \u001b[0mValueError\u001b[0m\u001b[0;34m(\u001b[0m\u001b[0;34mf\"cannot insert {item}, already exists\"\u001b[0m\u001b[0;34m)\u001b[0m\u001b[0;34m\u001b[0m\u001b[0;34m\u001b[0m\u001b[0m\n\u001b[0m\u001b[1;32m   1192\u001b[0m \u001b[0;34m\u001b[0m\u001b[0m\n\u001b[1;32m   1193\u001b[0m         \u001b[0;32mif\u001b[0m \u001b[0;32mnot\u001b[0m \u001b[0misinstance\u001b[0m\u001b[0;34m(\u001b[0m\u001b[0mloc\u001b[0m\u001b[0;34m,\u001b[0m \u001b[0mint\u001b[0m\u001b[0;34m)\u001b[0m\u001b[0;34m:\u001b[0m\u001b[0;34m\u001b[0m\u001b[0;34m\u001b[0m\u001b[0m\n",
      "\u001b[0;31mValueError\u001b[0m: cannot insert level_0, already exists"
     ]
    }
   ],
   "source": [
    "df.dropna(inplace=True)\n",
    "df.reset_index(inplace=True)"
   ]
  },
  {
   "cell_type": "code",
   "execution_count": 38,
   "metadata": {},
   "outputs": [
    {
     "output_type": "execute_result",
     "data": {
      "text/plain": [
       "      level_0  index   header  \\\n",
       "0           0      0  YouTube   \n",
       "1           1      1  YouTube   \n",
       "2           2      2  YouTube   \n",
       "3           3      3  YouTube   \n",
       "4           4      4  YouTube   \n",
       "...       ...    ...      ...   \n",
       "5053     5053   5296  YouTube   \n",
       "5054     5054   5297  YouTube   \n",
       "5055     5055   5298  YouTube   \n",
       "5056     5056   5299  YouTube   \n",
       "5057     5057   5300  YouTube   \n",
       "\n",
       "                                                  title  \\\n",
       "0          Watched o conto dos dois mundos (hipocrisia)   \n",
       "1     Watched 😦DECEPÇÃO? Veja o que aconteceu no CRA...   \n",
       "2            Watched Luísa Sonza - melhor sozinha :-)-:   \n",
       "3                                  Watched INTERE$$EIRA   \n",
       "4     Watched ESTOURANDO ESPINHAS MUITO CHEIA NA ORE...   \n",
       "...                                                 ...   \n",
       "5053                         Watched Vitão - Caderninho   \n",
       "5054                               Watched Vitão - Café   \n",
       "5055                      Watched Filme 50 Anos de Ceub   \n",
       "5056         Watched FILA DE PIADAS - ANIVERSÁRIO - #59   \n",
       "5057  Watched FILA DE PIADAS - BRINCADEIRAS DE INFÂN...   \n",
       "\n",
       "                                         titleUrl  \\\n",
       "0     https://www.youtube.com/watch?v=BBlk0x1_rUY   \n",
       "1     https://www.youtube.com/watch?v=3dzpt5M0mTY   \n",
       "2     https://www.youtube.com/watch?v=sTKsdv1k7f8   \n",
       "3     https://www.youtube.com/watch?v=KP-Jad5tZfs   \n",
       "4     https://www.youtube.com/watch?v=BMe32UZarsA   \n",
       "...                                           ...   \n",
       "5053  https://www.youtube.com/watch?v=8LDGy-oPskU   \n",
       "5054  https://www.youtube.com/watch?v=qIOC6-jClWc   \n",
       "5055  https://www.youtube.com/watch?v=cYKzB9VZZDM   \n",
       "5056  https://www.youtube.com/watch?v=_U4z2xOczGM   \n",
       "5057  https://www.youtube.com/watch?v=VrC0cmPVmq8   \n",
       "\n",
       "                                              subtitles  \\\n",
       "0     [{'name': 'Luísa Sonza - Topic', 'url': 'https...   \n",
       "1     [{'name': 'AutoVideos', 'url': 'https://www.yo...   \n",
       "2     [{'name': 'LuisaSonzaVEVO', 'url': 'https://ww...   \n",
       "3     [{'name': 'Luísa Sonza - Topic', 'url': 'https...   \n",
       "4     [{'name': 'Daniela Ramos', 'url': 'https://www...   \n",
       "...                                                 ...   \n",
       "5053  [{'name': 'VitaoVEVO', 'url': 'https://www.you...   \n",
       "5054  [{'name': 'VitaoVEVO', 'url': 'https://www.you...   \n",
       "5055  [{'name': 'CEUB', 'url': 'https://www.youtube....   \n",
       "5056  [{'name': '4 AMIGOS STAND UP COMEDY', 'url': '...   \n",
       "5057  [{'name': '4 AMIGOS STAND UP COMEDY', 'url': '...   \n",
       "\n",
       "                          time   products  \n",
       "0     2021-07-20T16:34:26.417Z  [YouTube]  \n",
       "1     2021-07-20T16:31:33.855Z  [YouTube]  \n",
       "2     2021-07-20T15:56:46.796Z  [YouTube]  \n",
       "3     2021-07-20T15:53:52.895Z  [YouTube]  \n",
       "4     2021-07-20T03:22:42.362Z  [YouTube]  \n",
       "...                        ...        ...  \n",
       "5053  2019-03-18T22:17:54.865Z  [YouTube]  \n",
       "5054  2019-03-18T22:16:40.103Z  [YouTube]  \n",
       "5055  2019-03-12T16:26:59.117Z  [YouTube]  \n",
       "5056  2019-03-02T00:15:44.796Z  [YouTube]  \n",
       "5057  2019-03-02T00:00:54.507Z  [YouTube]  \n",
       "\n",
       "[5058 rows x 8 columns]"
      ],
      "text/html": "<div>\n<style scoped>\n    .dataframe tbody tr th:only-of-type {\n        vertical-align: middle;\n    }\n\n    .dataframe tbody tr th {\n        vertical-align: top;\n    }\n\n    .dataframe thead th {\n        text-align: right;\n    }\n</style>\n<table border=\"1\" class=\"dataframe\">\n  <thead>\n    <tr style=\"text-align: right;\">\n      <th></th>\n      <th>level_0</th>\n      <th>index</th>\n      <th>header</th>\n      <th>title</th>\n      <th>titleUrl</th>\n      <th>subtitles</th>\n      <th>time</th>\n      <th>products</th>\n    </tr>\n  </thead>\n  <tbody>\n    <tr>\n      <th>0</th>\n      <td>0</td>\n      <td>0</td>\n      <td>YouTube</td>\n      <td>Watched o conto dos dois mundos (hipocrisia)</td>\n      <td>https://www.youtube.com/watch?v=BBlk0x1_rUY</td>\n      <td>[{'name': 'Luísa Sonza - Topic', 'url': 'https...</td>\n      <td>2021-07-20T16:34:26.417Z</td>\n      <td>[YouTube]</td>\n    </tr>\n    <tr>\n      <th>1</th>\n      <td>1</td>\n      <td>1</td>\n      <td>YouTube</td>\n      <td>Watched 😦DECEPÇÃO? Veja o que aconteceu no CRA...</td>\n      <td>https://www.youtube.com/watch?v=3dzpt5M0mTY</td>\n      <td>[{'name': 'AutoVideos', 'url': 'https://www.yo...</td>\n      <td>2021-07-20T16:31:33.855Z</td>\n      <td>[YouTube]</td>\n    </tr>\n    <tr>\n      <th>2</th>\n      <td>2</td>\n      <td>2</td>\n      <td>YouTube</td>\n      <td>Watched Luísa Sonza - melhor sozinha :-)-:</td>\n      <td>https://www.youtube.com/watch?v=sTKsdv1k7f8</td>\n      <td>[{'name': 'LuisaSonzaVEVO', 'url': 'https://ww...</td>\n      <td>2021-07-20T15:56:46.796Z</td>\n      <td>[YouTube]</td>\n    </tr>\n    <tr>\n      <th>3</th>\n      <td>3</td>\n      <td>3</td>\n      <td>YouTube</td>\n      <td>Watched INTERE$$EIRA</td>\n      <td>https://www.youtube.com/watch?v=KP-Jad5tZfs</td>\n      <td>[{'name': 'Luísa Sonza - Topic', 'url': 'https...</td>\n      <td>2021-07-20T15:53:52.895Z</td>\n      <td>[YouTube]</td>\n    </tr>\n    <tr>\n      <th>4</th>\n      <td>4</td>\n      <td>4</td>\n      <td>YouTube</td>\n      <td>Watched ESTOURANDO ESPINHAS MUITO CHEIA NA ORE...</td>\n      <td>https://www.youtube.com/watch?v=BMe32UZarsA</td>\n      <td>[{'name': 'Daniela Ramos', 'url': 'https://www...</td>\n      <td>2021-07-20T03:22:42.362Z</td>\n      <td>[YouTube]</td>\n    </tr>\n    <tr>\n      <th>...</th>\n      <td>...</td>\n      <td>...</td>\n      <td>...</td>\n      <td>...</td>\n      <td>...</td>\n      <td>...</td>\n      <td>...</td>\n      <td>...</td>\n    </tr>\n    <tr>\n      <th>5053</th>\n      <td>5053</td>\n      <td>5296</td>\n      <td>YouTube</td>\n      <td>Watched Vitão - Caderninho</td>\n      <td>https://www.youtube.com/watch?v=8LDGy-oPskU</td>\n      <td>[{'name': 'VitaoVEVO', 'url': 'https://www.you...</td>\n      <td>2019-03-18T22:17:54.865Z</td>\n      <td>[YouTube]</td>\n    </tr>\n    <tr>\n      <th>5054</th>\n      <td>5054</td>\n      <td>5297</td>\n      <td>YouTube</td>\n      <td>Watched Vitão - Café</td>\n      <td>https://www.youtube.com/watch?v=qIOC6-jClWc</td>\n      <td>[{'name': 'VitaoVEVO', 'url': 'https://www.you...</td>\n      <td>2019-03-18T22:16:40.103Z</td>\n      <td>[YouTube]</td>\n    </tr>\n    <tr>\n      <th>5055</th>\n      <td>5055</td>\n      <td>5298</td>\n      <td>YouTube</td>\n      <td>Watched Filme 50 Anos de Ceub</td>\n      <td>https://www.youtube.com/watch?v=cYKzB9VZZDM</td>\n      <td>[{'name': 'CEUB', 'url': 'https://www.youtube....</td>\n      <td>2019-03-12T16:26:59.117Z</td>\n      <td>[YouTube]</td>\n    </tr>\n    <tr>\n      <th>5056</th>\n      <td>5056</td>\n      <td>5299</td>\n      <td>YouTube</td>\n      <td>Watched FILA DE PIADAS - ANIVERSÁRIO - #59</td>\n      <td>https://www.youtube.com/watch?v=_U4z2xOczGM</td>\n      <td>[{'name': '4 AMIGOS STAND UP COMEDY', 'url': '...</td>\n      <td>2019-03-02T00:15:44.796Z</td>\n      <td>[YouTube]</td>\n    </tr>\n    <tr>\n      <th>5057</th>\n      <td>5057</td>\n      <td>5300</td>\n      <td>YouTube</td>\n      <td>Watched FILA DE PIADAS - BRINCADEIRAS DE INFÂN...</td>\n      <td>https://www.youtube.com/watch?v=VrC0cmPVmq8</td>\n      <td>[{'name': '4 AMIGOS STAND UP COMEDY', 'url': '...</td>\n      <td>2019-03-02T00:00:54.507Z</td>\n      <td>[YouTube]</td>\n    </tr>\n  </tbody>\n</table>\n<p>5058 rows × 8 columns</p>\n</div>"
     },
     "metadata": {},
     "execution_count": 38
    }
   ],
   "source": [
    "df"
   ]
  },
  {
   "cell_type": "code",
   "execution_count": 5,
   "metadata": {},
   "outputs": [],
   "source": [
    "df_filter = df[['title', 'titleUrl', 'subtitles', 'time']]"
   ]
  },
  {
   "cell_type": "code",
   "execution_count": 24,
   "metadata": {},
   "outputs": [
    {
     "output_type": "execute_result",
     "data": {
      "text/plain": [
       "'Luísa Sonza - Topic'"
      ]
     },
     "metadata": {},
     "execution_count": 24
    }
   ],
   "source": [
    "df_filter['subtitles'][0][0]['name']"
   ]
  },
  {
   "cell_type": "code",
   "execution_count": 39,
   "metadata": {},
   "outputs": [
    {
     "output_type": "execute_result",
     "data": {
      "text/plain": [
       "5058"
      ]
     },
     "metadata": {},
     "execution_count": 39
    }
   ],
   "source": [
    "len(df)"
   ]
  },
  {
   "cell_type": "code",
   "execution_count": 40,
   "metadata": {
    "tags": []
   },
   "outputs": [],
   "source": [
    "contagem = len(df)\n",
    "channel_name = []\n",
    "\n",
    "for i in range(contagem):\n",
    "    channel_name.append(df['subtitles'][i][0]['name'])"
   ]
  },
  {
   "cell_type": "code",
   "execution_count": 42,
   "metadata": {},
   "outputs": [],
   "source": [
    "df['channelName'] = channel_name"
   ]
  },
  {
   "cell_type": "code",
   "execution_count": 44,
   "metadata": {},
   "outputs": [],
   "source": [
    "df.drop(columns=['level_0', 'index', 'header','subtitles','products'], inplace=True)"
   ]
  },
  {
   "cell_type": "code",
   "execution_count": 46,
   "metadata": {},
   "outputs": [],
   "source": [
    "df['title'] = df['title'].str.replace('Watched','')"
   ]
  },
  {
   "cell_type": "code",
   "execution_count": 55,
   "metadata": {},
   "outputs": [
    {
     "output_type": "execute_result",
     "data": {
      "text/plain": [
       "'2021-07-14'"
      ]
     },
     "metadata": {},
     "execution_count": 55
    }
   ],
   "source": [
    "df['time'][150].split('T')[0]"
   ]
  },
  {
   "cell_type": "code",
   "execution_count": 58,
   "metadata": {},
   "outputs": [],
   "source": [
    "date_time = []\n",
    "\n",
    "for i in range(contagem):\n",
    "    nova_string = df['time'][i].split('T')\n",
    "    date_time.append(nova_string[0])\n",
    "\n",
    "\n",
    "df['time'] = date_time"
   ]
  },
  {
   "cell_type": "code",
   "execution_count": 59,
   "metadata": {},
   "outputs": [
    {
     "output_type": "execute_result",
     "data": {
      "text/plain": [
       "                                                  title  \\\n",
       "0                  o conto dos dois mundos (hipocrisia)   \n",
       "1      😦DECEPÇÃO? Veja o que aconteceu no CRASH TEST...   \n",
       "2                    Luísa Sonza - melhor sozinha :-)-:   \n",
       "3                                          INTERE$$EIRA   \n",
       "4      ESTOURANDO ESPINHAS MUITO CHEIA NA ORELHA   R...   \n",
       "...                                                 ...   \n",
       "5053                                 Vitão - Caderninho   \n",
       "5054                                       Vitão - Café   \n",
       "5055                              Filme 50 Anos de Ceub   \n",
       "5056                 FILA DE PIADAS - ANIVERSÁRIO - #59   \n",
       "5057    FILA DE PIADAS - BRINCADEIRAS DE INFÂNCIA - #62   \n",
       "\n",
       "                                         titleUrl        time  \\\n",
       "0     https://www.youtube.com/watch?v=BBlk0x1_rUY  2021-07-20   \n",
       "1     https://www.youtube.com/watch?v=3dzpt5M0mTY  2021-07-20   \n",
       "2     https://www.youtube.com/watch?v=sTKsdv1k7f8  2021-07-20   \n",
       "3     https://www.youtube.com/watch?v=KP-Jad5tZfs  2021-07-20   \n",
       "4     https://www.youtube.com/watch?v=BMe32UZarsA  2021-07-20   \n",
       "...                                           ...         ...   \n",
       "5053  https://www.youtube.com/watch?v=8LDGy-oPskU  2019-03-18   \n",
       "5054  https://www.youtube.com/watch?v=qIOC6-jClWc  2019-03-18   \n",
       "5055  https://www.youtube.com/watch?v=cYKzB9VZZDM  2019-03-12   \n",
       "5056  https://www.youtube.com/watch?v=_U4z2xOczGM  2019-03-02   \n",
       "5057  https://www.youtube.com/watch?v=VrC0cmPVmq8  2019-03-02   \n",
       "\n",
       "                   channelName  \n",
       "0          Luísa Sonza - Topic  \n",
       "1                   AutoVideos  \n",
       "2               LuisaSonzaVEVO  \n",
       "3          Luísa Sonza - Topic  \n",
       "4                Daniela Ramos  \n",
       "...                        ...  \n",
       "5053                 VitaoVEVO  \n",
       "5054                 VitaoVEVO  \n",
       "5055                      CEUB  \n",
       "5056  4 AMIGOS STAND UP COMEDY  \n",
       "5057  4 AMIGOS STAND UP COMEDY  \n",
       "\n",
       "[5058 rows x 4 columns]"
      ],
      "text/html": "<div>\n<style scoped>\n    .dataframe tbody tr th:only-of-type {\n        vertical-align: middle;\n    }\n\n    .dataframe tbody tr th {\n        vertical-align: top;\n    }\n\n    .dataframe thead th {\n        text-align: right;\n    }\n</style>\n<table border=\"1\" class=\"dataframe\">\n  <thead>\n    <tr style=\"text-align: right;\">\n      <th></th>\n      <th>title</th>\n      <th>titleUrl</th>\n      <th>time</th>\n      <th>channelName</th>\n    </tr>\n  </thead>\n  <tbody>\n    <tr>\n      <th>0</th>\n      <td>o conto dos dois mundos (hipocrisia)</td>\n      <td>https://www.youtube.com/watch?v=BBlk0x1_rUY</td>\n      <td>2021-07-20</td>\n      <td>Luísa Sonza - Topic</td>\n    </tr>\n    <tr>\n      <th>1</th>\n      <td>😦DECEPÇÃO? Veja o que aconteceu no CRASH TEST...</td>\n      <td>https://www.youtube.com/watch?v=3dzpt5M0mTY</td>\n      <td>2021-07-20</td>\n      <td>AutoVideos</td>\n    </tr>\n    <tr>\n      <th>2</th>\n      <td>Luísa Sonza - melhor sozinha :-)-:</td>\n      <td>https://www.youtube.com/watch?v=sTKsdv1k7f8</td>\n      <td>2021-07-20</td>\n      <td>LuisaSonzaVEVO</td>\n    </tr>\n    <tr>\n      <th>3</th>\n      <td>INTERE$$EIRA</td>\n      <td>https://www.youtube.com/watch?v=KP-Jad5tZfs</td>\n      <td>2021-07-20</td>\n      <td>Luísa Sonza - Topic</td>\n    </tr>\n    <tr>\n      <th>4</th>\n      <td>ESTOURANDO ESPINHAS MUITO CHEIA NA ORELHA   R...</td>\n      <td>https://www.youtube.com/watch?v=BMe32UZarsA</td>\n      <td>2021-07-20</td>\n      <td>Daniela Ramos</td>\n    </tr>\n    <tr>\n      <th>...</th>\n      <td>...</td>\n      <td>...</td>\n      <td>...</td>\n      <td>...</td>\n    </tr>\n    <tr>\n      <th>5053</th>\n      <td>Vitão - Caderninho</td>\n      <td>https://www.youtube.com/watch?v=8LDGy-oPskU</td>\n      <td>2019-03-18</td>\n      <td>VitaoVEVO</td>\n    </tr>\n    <tr>\n      <th>5054</th>\n      <td>Vitão - Café</td>\n      <td>https://www.youtube.com/watch?v=qIOC6-jClWc</td>\n      <td>2019-03-18</td>\n      <td>VitaoVEVO</td>\n    </tr>\n    <tr>\n      <th>5055</th>\n      <td>Filme 50 Anos de Ceub</td>\n      <td>https://www.youtube.com/watch?v=cYKzB9VZZDM</td>\n      <td>2019-03-12</td>\n      <td>CEUB</td>\n    </tr>\n    <tr>\n      <th>5056</th>\n      <td>FILA DE PIADAS - ANIVERSÁRIO - #59</td>\n      <td>https://www.youtube.com/watch?v=_U4z2xOczGM</td>\n      <td>2019-03-02</td>\n      <td>4 AMIGOS STAND UP COMEDY</td>\n    </tr>\n    <tr>\n      <th>5057</th>\n      <td>FILA DE PIADAS - BRINCADEIRAS DE INFÂNCIA - #62</td>\n      <td>https://www.youtube.com/watch?v=VrC0cmPVmq8</td>\n      <td>2019-03-02</td>\n      <td>4 AMIGOS STAND UP COMEDY</td>\n    </tr>\n  </tbody>\n</table>\n<p>5058 rows × 4 columns</p>\n</div>"
     },
     "metadata": {},
     "execution_count": 59
    }
   ],
   "source": [
    "df"
   ]
  },
  {
   "cell_type": "code",
   "execution_count": 61,
   "metadata": {},
   "outputs": [
    {
     "output_type": "execute_result",
     "data": {
      "text/plain": [
       "Bia Marques          407\n",
       "Elana Dara           276\n",
       "Thayná Bitencourt    143\n",
       "morenabsb2            96\n",
       "Bruno Braz            95\n",
       "RAMON                 86\n",
       "L7NNON                85\n",
       "Carol Biazin          79\n",
       "VITÃO                 67\n",
       "Cynthia Luz           61\n",
       "Name: channelName, dtype: int64"
      ]
     },
     "metadata": {},
     "execution_count": 61
    }
   ],
   "source": [
    "df['channelName'].value_counts().head(10)"
   ]
  },
  {
   "cell_type": "code",
   "execution_count": 62,
   "metadata": {},
   "outputs": [
    {
     "output_type": "execute_result",
     "data": {
      "text/plain": [
       " Poesia Acústica 8 - Bia Marques (cover)                    32\n",
       " “Poesia Acústica #6 | Era uma Vez” - (Cover) Elana Dara    30\n",
       " Elana Dara - aff...                                        23\n",
       " \"Capricorniana\" Poesia Acústica #3 - (Cover) Elana Dara    21\n",
       " Malibu || Não Vou Mais - Gaab & Elana Dara                 21\n",
       " 6. L7NNON - Nada É Pra Sempre | HHR                       19\n",
       " “POESIA #7” cover | Elana Dara                             18\n",
       " Poesia Acústica 6 - Bia Marques (cover)                    18\n",
       " Sest, Elana Dara - Pássaros | Sessão de Boa #02            17\n",
       " Você não ama ninguém - Bia Marques (cover)                 16\n",
       "Name: title, dtype: int64"
      ]
     },
     "metadata": {},
     "execution_count": 62
    }
   ],
   "source": [
    "df['title'].value_counts().head(10)"
   ]
  },
  {
   "cell_type": "code",
   "execution_count": 63,
   "metadata": {},
   "outputs": [
    {
     "output_type": "execute_result",
     "data": {
      "text/plain": [
       "['https://www.youtube.com/watch?v', 'BBlk0x1_rUY']"
      ]
     },
     "metadata": {},
     "execution_count": 63
    }
   ],
   "source": [
    "#Pegando as URLs dos vídeos\n",
    "df['titleUrl'][0].split('=')"
   ]
  },
  {
   "cell_type": "code",
   "execution_count": 64,
   "metadata": {},
   "outputs": [],
   "source": [
    "id_url = []\n",
    "for i in range(contagem):\n",
    "    url = df['titleUrl'][i].split('=')\n",
    "    id_url.append(url[1])"
   ]
  },
  {
   "cell_type": "code",
   "execution_count": 66,
   "metadata": {},
   "outputs": [
    {
     "output_type": "execute_result",
     "data": {
      "text/plain": [
       "                                                  title  \\\n",
       "0                  o conto dos dois mundos (hipocrisia)   \n",
       "1      😦DECEPÇÃO? Veja o que aconteceu no CRASH TEST...   \n",
       "2                    Luísa Sonza - melhor sozinha :-)-:   \n",
       "3                                          INTERE$$EIRA   \n",
       "4      ESTOURANDO ESPINHAS MUITO CHEIA NA ORELHA   R...   \n",
       "...                                                 ...   \n",
       "5053                                 Vitão - Caderninho   \n",
       "5054                                       Vitão - Café   \n",
       "5055                              Filme 50 Anos de Ceub   \n",
       "5056                 FILA DE PIADAS - ANIVERSÁRIO - #59   \n",
       "5057    FILA DE PIADAS - BRINCADEIRAS DE INFÂNCIA - #62   \n",
       "\n",
       "                                         titleUrl        time  \\\n",
       "0     https://www.youtube.com/watch?v=BBlk0x1_rUY  2021-07-20   \n",
       "1     https://www.youtube.com/watch?v=3dzpt5M0mTY  2021-07-20   \n",
       "2     https://www.youtube.com/watch?v=sTKsdv1k7f8  2021-07-20   \n",
       "3     https://www.youtube.com/watch?v=KP-Jad5tZfs  2021-07-20   \n",
       "4     https://www.youtube.com/watch?v=BMe32UZarsA  2021-07-20   \n",
       "...                                           ...         ...   \n",
       "5053  https://www.youtube.com/watch?v=8LDGy-oPskU  2019-03-18   \n",
       "5054  https://www.youtube.com/watch?v=qIOC6-jClWc  2019-03-18   \n",
       "5055  https://www.youtube.com/watch?v=cYKzB9VZZDM  2019-03-12   \n",
       "5056  https://www.youtube.com/watch?v=_U4z2xOczGM  2019-03-02   \n",
       "5057  https://www.youtube.com/watch?v=VrC0cmPVmq8  2019-03-02   \n",
       "\n",
       "                   channelName  \n",
       "0          Luísa Sonza - Topic  \n",
       "1                   AutoVideos  \n",
       "2               LuisaSonzaVEVO  \n",
       "3          Luísa Sonza - Topic  \n",
       "4                Daniela Ramos  \n",
       "...                        ...  \n",
       "5053                 VitaoVEVO  \n",
       "5054                 VitaoVEVO  \n",
       "5055                      CEUB  \n",
       "5056  4 AMIGOS STAND UP COMEDY  \n",
       "5057  4 AMIGOS STAND UP COMEDY  \n",
       "\n",
       "[5058 rows x 4 columns]"
      ],
      "text/html": "<div>\n<style scoped>\n    .dataframe tbody tr th:only-of-type {\n        vertical-align: middle;\n    }\n\n    .dataframe tbody tr th {\n        vertical-align: top;\n    }\n\n    .dataframe thead th {\n        text-align: right;\n    }\n</style>\n<table border=\"1\" class=\"dataframe\">\n  <thead>\n    <tr style=\"text-align: right;\">\n      <th></th>\n      <th>title</th>\n      <th>titleUrl</th>\n      <th>time</th>\n      <th>channelName</th>\n    </tr>\n  </thead>\n  <tbody>\n    <tr>\n      <th>0</th>\n      <td>o conto dos dois mundos (hipocrisia)</td>\n      <td>https://www.youtube.com/watch?v=BBlk0x1_rUY</td>\n      <td>2021-07-20</td>\n      <td>Luísa Sonza - Topic</td>\n    </tr>\n    <tr>\n      <th>1</th>\n      <td>😦DECEPÇÃO? Veja o que aconteceu no CRASH TEST...</td>\n      <td>https://www.youtube.com/watch?v=3dzpt5M0mTY</td>\n      <td>2021-07-20</td>\n      <td>AutoVideos</td>\n    </tr>\n    <tr>\n      <th>2</th>\n      <td>Luísa Sonza - melhor sozinha :-)-:</td>\n      <td>https://www.youtube.com/watch?v=sTKsdv1k7f8</td>\n      <td>2021-07-20</td>\n      <td>LuisaSonzaVEVO</td>\n    </tr>\n    <tr>\n      <th>3</th>\n      <td>INTERE$$EIRA</td>\n      <td>https://www.youtube.com/watch?v=KP-Jad5tZfs</td>\n      <td>2021-07-20</td>\n      <td>Luísa Sonza - Topic</td>\n    </tr>\n    <tr>\n      <th>4</th>\n      <td>ESTOURANDO ESPINHAS MUITO CHEIA NA ORELHA   R...</td>\n      <td>https://www.youtube.com/watch?v=BMe32UZarsA</td>\n      <td>2021-07-20</td>\n      <td>Daniela Ramos</td>\n    </tr>\n    <tr>\n      <th>...</th>\n      <td>...</td>\n      <td>...</td>\n      <td>...</td>\n      <td>...</td>\n    </tr>\n    <tr>\n      <th>5053</th>\n      <td>Vitão - Caderninho</td>\n      <td>https://www.youtube.com/watch?v=8LDGy-oPskU</td>\n      <td>2019-03-18</td>\n      <td>VitaoVEVO</td>\n    </tr>\n    <tr>\n      <th>5054</th>\n      <td>Vitão - Café</td>\n      <td>https://www.youtube.com/watch?v=qIOC6-jClWc</td>\n      <td>2019-03-18</td>\n      <td>VitaoVEVO</td>\n    </tr>\n    <tr>\n      <th>5055</th>\n      <td>Filme 50 Anos de Ceub</td>\n      <td>https://www.youtube.com/watch?v=cYKzB9VZZDM</td>\n      <td>2019-03-12</td>\n      <td>CEUB</td>\n    </tr>\n    <tr>\n      <th>5056</th>\n      <td>FILA DE PIADAS - ANIVERSÁRIO - #59</td>\n      <td>https://www.youtube.com/watch?v=_U4z2xOczGM</td>\n      <td>2019-03-02</td>\n      <td>4 AMIGOS STAND UP COMEDY</td>\n    </tr>\n    <tr>\n      <th>5057</th>\n      <td>FILA DE PIADAS - BRINCADEIRAS DE INFÂNCIA - #62</td>\n      <td>https://www.youtube.com/watch?v=VrC0cmPVmq8</td>\n      <td>2019-03-02</td>\n      <td>4 AMIGOS STAND UP COMEDY</td>\n    </tr>\n  </tbody>\n</table>\n<p>5058 rows × 4 columns</p>\n</div>"
     },
     "metadata": {},
     "execution_count": 66
    }
   ],
   "source": []
  },
  {
   "cell_type": "code",
   "execution_count": 67,
   "metadata": {},
   "outputs": [],
   "source": [
    "df.to_csv('historico-visualizacao-yt-ludmila.csv')"
   ]
  },
  {
   "cell_type": "code",
   "execution_count": null,
   "metadata": {},
   "outputs": [],
   "source": []
  }
 ]
}