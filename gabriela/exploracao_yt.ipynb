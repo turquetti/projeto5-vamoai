{
 "metadata": {
  "language_info": {
   "codemirror_mode": {
    "name": "ipython",
    "version": 3
   },
   "file_extension": ".py",
   "mimetype": "text/x-python",
   "name": "python",
   "nbconvert_exporter": "python",
   "pygments_lexer": "ipython3",
   "version": "3.9.1"
  },
  "orig_nbformat": 4,
  "kernelspec": {
   "name": "python3",
   "display_name": "Python 3.9.1 64-bit"
  },
  "interpreter": {
   "hash": "aee8b7b246df8f9039afb4144a1f6fd8d2ca17a180786b69acc140d282b71a49"
  }
 },
 "nbformat": 4,
 "nbformat_minor": 2,
 "cells": [
  {
   "cell_type": "code",
   "execution_count": 63,
   "metadata": {},
   "outputs": [],
   "source": [
    "import pandas as pd"
   ]
  },
  {
   "cell_type": "code",
   "execution_count": 67,
   "metadata": {},
   "outputs": [],
   "source": [
    "df = pd.read_json('bases_historico/histórico-de-visualização.json')\n",
    "df = df[['header', 'title', 'titleUrl', 'subtitles', 'time']]"
   ]
  },
  {
   "cell_type": "code",
   "execution_count": 69,
   "metadata": {},
   "outputs": [],
   "source": [
    "df.dropna(inplace=True)\n",
    "df.reset_index(inplace=True)"
   ]
  },
  {
   "cell_type": "code",
   "execution_count": 70,
   "metadata": {},
   "outputs": [],
   "source": [
    "count = len(df)\n",
    "\n",
    "channel_name = []\n",
    "\n",
    "for i in range(count):\n",
    "    channel_name.append(df['subtitles'][i][0]['name'])\n",
    "\n",
    "df['channelName'] = channel_name"
   ]
  },
  {
   "cell_type": "code",
   "execution_count": 71,
   "metadata": {
    "tags": []
   },
   "outputs": [],
   "source": [
    "df.drop(columns=['index','header','titleUrl','subtitles'], inplace=True)"
   ]
  },
  {
   "cell_type": "code",
   "execution_count": 72,
   "metadata": {},
   "outputs": [],
   "source": [
    "df['title'] = df['title'].str.replace('Watched', '')"
   ]
  },
  {
   "cell_type": "code",
   "execution_count": 73,
   "metadata": {},
   "outputs": [
    {
     "output_type": "execute_result",
     "data": {
      "text/plain": [
       "Vanessa Lino                         322\n",
       "Curso em Vídeo                       132\n",
       "Paula no Canadá                      112\n",
       "Gabriela Turquetti                   101\n",
       "Super Simple Songs - Kids Songs       85\n",
       "Kylie Ross                            72\n",
       "Holly Gabrielle                       60\n",
       "Kurzgesagt – In a Nutshell            56\n",
       "TÁ NA MESA VEGG                       56\n",
       "Tuca Loretti                          55\n",
       "Gabriel Arones - Fitness Flexível     52\n",
       "Nath Araujo                           52\n",
       "MasterChef Brasil                     51\n",
       "Lu Ferreira                           50\n",
       "Bruna Paula                           49\n",
       "Name: channelName, dtype: int64"
      ]
     },
     "metadata": {},
     "execution_count": 73
    }
   ],
   "source": [
    "df['channelName'].value_counts().head(15)"
   ]
  },
  {
   "cell_type": "code",
   "execution_count": 74,
   "metadata": {},
   "outputs": [
    {
     "output_type": "execute_result",
     "data": {
      "text/plain": [
       " Hello! | Super Simple Songs                                                                     39\n",
       " Dua Lipa - New Rules (Official Music Video)                                                      9\n",
       " Lofi Brasil Rádio Mix | 2 Horas de Lofi Hip Hop BR [brazil songs playlist]                       9\n",
       " Wheels on the Bus | CoComelon Nursery Rhymes & Kids Songs                                        8\n",
       " Head Shoulders Knees & Toes (Speeding Up) | Nursery Rhyme | Super Simple Songs                   8\n",
       " Days of the Week Song | The Singing Walrus                                                       8\n",
       " Sean Kingston - Beautiful Girls                                                                  7\n",
       " Baby Shark Dance | #babyshark Most Viewed Video | Animal Songs | PINKFONG Songs for Children     7\n",
       " The Shape Song #1 | Super Simple Songs                                                           6\n",
       " If You're Happy and You Know It! | Barefoot Books Singalong                                      6\n",
       " See You Later, Alligator | Goodbye Song | Super Simple Songs                                     6\n",
       " Lily Allen | Smile (Official Video)                                                              5\n",
       " Dua Lipa - Hotter Than Hell (Official Video)                                                     5\n",
       " Tim Maia Lo Fi Mix - lofi hip hop Brasil [Rádio lofi BR]                                         5\n",
       " The Rise of the Machines – Why Automation is Different this Time                                 5\n",
       "Name: title, dtype: int64"
      ]
     },
     "metadata": {},
     "execution_count": 74
    }
   ],
   "source": [
    "df['title'].value_counts().head(15)"
   ]
  },
  {
   "cell_type": "code",
   "execution_count": 79,
   "metadata": {},
   "outputs": [
    {
     "output_type": "execute_result",
     "data": {
      "text/plain": [
       "      level_0                              title       time  \\\n",
       "3186     3186   Escola Cresce - Creche 2 - 16/12 2020-12-16   \n",
       "3292     3292     Escola Cresce - 4o ano - 07/12 2020-12-07   \n",
       "3332     3332      Escola Cresce - Pré 2 - 11/11 2020-12-05   \n",
       "3334     3334     Escola Cresce - 2o ano - 16/11 2020-12-04   \n",
       "3335     3335   Escola Cresce - Creche 2 - 04/12 2020-12-04   \n",
       "...       ...                                ...        ...   \n",
       "5078     5078     Escola Cresce - 4° ano - 15/07 2020-07-14   \n",
       "5079     5079     Escola Cresce - 5° ano - 15/07 2020-07-14   \n",
       "5080     5080     Escola Cresce - 2° ano - 15/07 2020-07-14   \n",
       "5081     5081     Escola Cresce - 1º ano - 15/07 2020-07-14   \n",
       "5082     5082     Escola Cresce - 3o ano - 15/07 2020-07-14   \n",
       "\n",
       "             channelName  \n",
       "3186  Gabriela Turquetti  \n",
       "3292  Gabriela Turquetti  \n",
       "3332  Gabriela Turquetti  \n",
       "3334  Gabriela Turquetti  \n",
       "3335  Gabriela Turquetti  \n",
       "...                  ...  \n",
       "5078  Gabriela Turquetti  \n",
       "5079  Gabriela Turquetti  \n",
       "5080  Gabriela Turquetti  \n",
       "5081  Gabriela Turquetti  \n",
       "5082  Gabriela Turquetti  \n",
       "\n",
       "[101 rows x 4 columns]"
      ],
      "text/html": "<div>\n<style scoped>\n    .dataframe tbody tr th:only-of-type {\n        vertical-align: middle;\n    }\n\n    .dataframe tbody tr th {\n        vertical-align: top;\n    }\n\n    .dataframe thead th {\n        text-align: right;\n    }\n</style>\n<table border=\"1\" class=\"dataframe\">\n  <thead>\n    <tr style=\"text-align: right;\">\n      <th></th>\n      <th>level_0</th>\n      <th>title</th>\n      <th>time</th>\n      <th>channelName</th>\n    </tr>\n  </thead>\n  <tbody>\n    <tr>\n      <th>3186</th>\n      <td>3186</td>\n      <td>Escola Cresce - Creche 2 - 16/12</td>\n      <td>2020-12-16</td>\n      <td>Gabriela Turquetti</td>\n    </tr>\n    <tr>\n      <th>3292</th>\n      <td>3292</td>\n      <td>Escola Cresce - 4o ano - 07/12</td>\n      <td>2020-12-07</td>\n      <td>Gabriela Turquetti</td>\n    </tr>\n    <tr>\n      <th>3332</th>\n      <td>3332</td>\n      <td>Escola Cresce - Pré 2 - 11/11</td>\n      <td>2020-12-05</td>\n      <td>Gabriela Turquetti</td>\n    </tr>\n    <tr>\n      <th>3334</th>\n      <td>3334</td>\n      <td>Escola Cresce - 2o ano - 16/11</td>\n      <td>2020-12-04</td>\n      <td>Gabriela Turquetti</td>\n    </tr>\n    <tr>\n      <th>3335</th>\n      <td>3335</td>\n      <td>Escola Cresce - Creche 2 - 04/12</td>\n      <td>2020-12-04</td>\n      <td>Gabriela Turquetti</td>\n    </tr>\n    <tr>\n      <th>...</th>\n      <td>...</td>\n      <td>...</td>\n      <td>...</td>\n      <td>...</td>\n    </tr>\n    <tr>\n      <th>5078</th>\n      <td>5078</td>\n      <td>Escola Cresce - 4° ano - 15/07</td>\n      <td>2020-07-14</td>\n      <td>Gabriela Turquetti</td>\n    </tr>\n    <tr>\n      <th>5079</th>\n      <td>5079</td>\n      <td>Escola Cresce - 5° ano - 15/07</td>\n      <td>2020-07-14</td>\n      <td>Gabriela Turquetti</td>\n    </tr>\n    <tr>\n      <th>5080</th>\n      <td>5080</td>\n      <td>Escola Cresce - 2° ano - 15/07</td>\n      <td>2020-07-14</td>\n      <td>Gabriela Turquetti</td>\n    </tr>\n    <tr>\n      <th>5081</th>\n      <td>5081</td>\n      <td>Escola Cresce - 1º ano - 15/07</td>\n      <td>2020-07-14</td>\n      <td>Gabriela Turquetti</td>\n    </tr>\n    <tr>\n      <th>5082</th>\n      <td>5082</td>\n      <td>Escola Cresce - 3o ano - 15/07</td>\n      <td>2020-07-14</td>\n      <td>Gabriela Turquetti</td>\n    </tr>\n  </tbody>\n</table>\n<p>101 rows × 4 columns</p>\n</div>"
     },
     "metadata": {},
     "execution_count": 79
    }
   ],
   "source": [
    "df.loc[df['channelName'] == 'Gabriela Turquetti']"
   ]
  },
  {
   "cell_type": "code",
   "execution_count": 76,
   "metadata": {
    "tags": []
   },
   "outputs": [],
   "source": [
    "date_list = []\n",
    "\n",
    "for i in range(count):\n",
    "    new_string = df['time'][i].split('T')\n",
    "    date_list.append(new_string[0])\n",
    "\n",
    "df['time'] = date_list"
   ]
  },
  {
   "cell_type": "code",
   "execution_count": 77,
   "metadata": {},
   "outputs": [
    {
     "output_type": "stream",
     "name": "stdout",
     "text": [
      "<class 'pandas.core.frame.DataFrame'>\nRangeIndex: 7826 entries, 0 to 7825\nData columns (total 4 columns):\n #   Column       Non-Null Count  Dtype         \n---  ------       --------------  -----         \n 0   level_0      7826 non-null   int64         \n 1   title        7826 non-null   object        \n 2   time         7826 non-null   datetime64[ns]\n 3   channelName  7826 non-null   object        \ndtypes: datetime64[ns](1), int64(1), object(2)\nmemory usage: 244.7+ KB\n"
     ]
    }
   ],
   "source": [
    "df['time'] = pd.to_datetime(df['time'])\n",
    "df.info()"
   ]
  },
  {
   "cell_type": "code",
   "execution_count": 78,
   "metadata": {},
   "outputs": [
    {
     "output_type": "execute_result",
     "data": {
      "text/plain": [
       "      level_0                                              title       time  \\\n",
       "0           0   What I Eat To Get Shredded (Grocery Haul For ... 2021-07-19   \n",
       "1           1   Why You Shouldn't Eat Clean: How To Lose Fat ... 2021-07-19   \n",
       "2           2   How To Tell If You're Training Hard Enough (U... 2021-07-19   \n",
       "3           3   Refeeds & Diet Breaks: The Most Misunderstood... 2021-07-19   \n",
       "4           4               A LEI DO ESFORÇO MÍNIMO - PAULO MUZY 2021-07-19   \n",
       "...       ...                                                ...        ...   \n",
       "7821     7821                 Hino geofísica - Geofísica UFF2010 2014-05-11   \n",
       "7822     7822        Juramento dos Calouros - Geofisica UFF 2012 2014-05-11   \n",
       "7823     7823           Calouros no Trote de Geofisica UFF 2012! 2014-05-11   \n",
       "7824     7824             Blowin' In The Wind lyrics (Bob Dylan) 2014-05-07   \n",
       "7825     7825   Antar Blue Band (Bob Dylan) - \"Like a Rolling... 2014-05-07   \n",
       "\n",
       "                   channelName  \n",
       "0                 Jeff Nippard  \n",
       "1                 Jeff Nippard  \n",
       "2                 Jeff Nippard  \n",
       "3                 Jeff Nippard  \n",
       "4     Cortes do Fisiculturismo  \n",
       "...                        ...  \n",
       "7821          Nathalia Ladeira  \n",
       "7822         trotegeofisicauff  \n",
       "7823         trotegeofisicauff  \n",
       "7824                   TayZ93P  \n",
       "7825                 Antarblue  \n",
       "\n",
       "[7826 rows x 4 columns]"
      ],
      "text/html": "<div>\n<style scoped>\n    .dataframe tbody tr th:only-of-type {\n        vertical-align: middle;\n    }\n\n    .dataframe tbody tr th {\n        vertical-align: top;\n    }\n\n    .dataframe thead th {\n        text-align: right;\n    }\n</style>\n<table border=\"1\" class=\"dataframe\">\n  <thead>\n    <tr style=\"text-align: right;\">\n      <th></th>\n      <th>level_0</th>\n      <th>title</th>\n      <th>time</th>\n      <th>channelName</th>\n    </tr>\n  </thead>\n  <tbody>\n    <tr>\n      <th>0</th>\n      <td>0</td>\n      <td>What I Eat To Get Shredded (Grocery Haul For ...</td>\n      <td>2021-07-19</td>\n      <td>Jeff Nippard</td>\n    </tr>\n    <tr>\n      <th>1</th>\n      <td>1</td>\n      <td>Why You Shouldn't Eat Clean: How To Lose Fat ...</td>\n      <td>2021-07-19</td>\n      <td>Jeff Nippard</td>\n    </tr>\n    <tr>\n      <th>2</th>\n      <td>2</td>\n      <td>How To Tell If You're Training Hard Enough (U...</td>\n      <td>2021-07-19</td>\n      <td>Jeff Nippard</td>\n    </tr>\n    <tr>\n      <th>3</th>\n      <td>3</td>\n      <td>Refeeds &amp; Diet Breaks: The Most Misunderstood...</td>\n      <td>2021-07-19</td>\n      <td>Jeff Nippard</td>\n    </tr>\n    <tr>\n      <th>4</th>\n      <td>4</td>\n      <td>A LEI DO ESFORÇO MÍNIMO - PAULO MUZY</td>\n      <td>2021-07-19</td>\n      <td>Cortes do Fisiculturismo</td>\n    </tr>\n    <tr>\n      <th>...</th>\n      <td>...</td>\n      <td>...</td>\n      <td>...</td>\n      <td>...</td>\n    </tr>\n    <tr>\n      <th>7821</th>\n      <td>7821</td>\n      <td>Hino geofísica - Geofísica UFF2010</td>\n      <td>2014-05-11</td>\n      <td>Nathalia Ladeira</td>\n    </tr>\n    <tr>\n      <th>7822</th>\n      <td>7822</td>\n      <td>Juramento dos Calouros - Geofisica UFF 2012</td>\n      <td>2014-05-11</td>\n      <td>trotegeofisicauff</td>\n    </tr>\n    <tr>\n      <th>7823</th>\n      <td>7823</td>\n      <td>Calouros no Trote de Geofisica UFF 2012!</td>\n      <td>2014-05-11</td>\n      <td>trotegeofisicauff</td>\n    </tr>\n    <tr>\n      <th>7824</th>\n      <td>7824</td>\n      <td>Blowin' In The Wind lyrics (Bob Dylan)</td>\n      <td>2014-05-07</td>\n      <td>TayZ93P</td>\n    </tr>\n    <tr>\n      <th>7825</th>\n      <td>7825</td>\n      <td>Antar Blue Band (Bob Dylan) - \"Like a Rolling...</td>\n      <td>2014-05-07</td>\n      <td>Antarblue</td>\n    </tr>\n  </tbody>\n</table>\n<p>7826 rows × 4 columns</p>\n</div>"
     },
     "metadata": {},
     "execution_count": 78
    }
   ],
   "source": [
    "df"
   ]
  },
  {
   "cell_type": "code",
   "execution_count": null,
   "metadata": {},
   "outputs": [],
   "source": []
  }
 ]
}