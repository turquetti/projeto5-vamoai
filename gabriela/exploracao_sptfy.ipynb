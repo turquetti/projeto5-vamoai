{
 "metadata": {
  "language_info": {
   "codemirror_mode": {
    "name": "ipython",
    "version": 3
   },
   "file_extension": ".py",
   "mimetype": "text/x-python",
   "name": "python",
   "nbconvert_exporter": "python",
   "pygments_lexer": "ipython3",
   "version": "3.9.1"
  },
  "orig_nbformat": 4,
  "kernelspec": {
   "name": "python3",
   "display_name": "Python 3.9.1 64-bit"
  },
  "interpreter": {
   "hash": "aee8b7b246df8f9039afb4144a1f6fd8d2ca17a180786b69acc140d282b71a49"
  }
 },
 "nbformat": 4,
 "nbformat_minor": 2,
 "cells": [
  {
   "cell_type": "code",
   "execution_count": 1,
   "metadata": {},
   "outputs": [],
   "source": [
    "import pandas as pd"
   ]
  },
  {
   "cell_type": "code",
   "execution_count": 3,
   "metadata": {},
   "outputs": [
    {
     "output_type": "execute_result",
     "data": {
      "text/plain": [
       "               endTime        artistName                       trackName  \\\n",
       "0     2020-07-18 02:06      Gilberto Gil                    Andar Com Fé   \n",
       "1     2020-07-18 02:07    Caetano Veloso      Alegria, Alegria - Ao Vivo   \n",
       "2     2020-07-18 02:07    Caetano Veloso               Sozinho - Ao Vivo   \n",
       "3     2020-07-18 02:07      Gilberto Gil  Emoriô / Dia da Caça (Ao Vivo)   \n",
       "4     2020-07-18 02:07    Caetano Veloso             Reconvexo - Ao Vivo   \n",
       "...                ...               ...                             ...   \n",
       "3833  2021-07-18 13:25  System Of A Down                        Roulette   \n",
       "3834  2021-07-18 13:30  System Of A Down                  Holy Mountains   \n",
       "3835  2021-07-18 13:35  System Of A Down                Protect The Land   \n",
       "3836  2021-07-18 13:38  System Of A Down               Kill Rock 'n Roll   \n",
       "3837  2021-07-18 13:50  System Of A Down                     Innervision   \n",
       "\n",
       "      msPlayed  \n",
       "0       194175  \n",
       "1          928  \n",
       "2          476  \n",
       "3        45987  \n",
       "4         3123  \n",
       "...        ...  \n",
       "3833    201179  \n",
       "3834    328866  \n",
       "3835    307644  \n",
       "3836    147958  \n",
       "3837    105475  \n",
       "\n",
       "[3838 rows x 4 columns]"
      ],
      "text/html": "<div>\n<style scoped>\n    .dataframe tbody tr th:only-of-type {\n        vertical-align: middle;\n    }\n\n    .dataframe tbody tr th {\n        vertical-align: top;\n    }\n\n    .dataframe thead th {\n        text-align: right;\n    }\n</style>\n<table border=\"1\" class=\"dataframe\">\n  <thead>\n    <tr style=\"text-align: right;\">\n      <th></th>\n      <th>endTime</th>\n      <th>artistName</th>\n      <th>trackName</th>\n      <th>msPlayed</th>\n    </tr>\n  </thead>\n  <tbody>\n    <tr>\n      <th>0</th>\n      <td>2020-07-18 02:06</td>\n      <td>Gilberto Gil</td>\n      <td>Andar Com Fé</td>\n      <td>194175</td>\n    </tr>\n    <tr>\n      <th>1</th>\n      <td>2020-07-18 02:07</td>\n      <td>Caetano Veloso</td>\n      <td>Alegria, Alegria - Ao Vivo</td>\n      <td>928</td>\n    </tr>\n    <tr>\n      <th>2</th>\n      <td>2020-07-18 02:07</td>\n      <td>Caetano Veloso</td>\n      <td>Sozinho - Ao Vivo</td>\n      <td>476</td>\n    </tr>\n    <tr>\n      <th>3</th>\n      <td>2020-07-18 02:07</td>\n      <td>Gilberto Gil</td>\n      <td>Emoriô / Dia da Caça (Ao Vivo)</td>\n      <td>45987</td>\n    </tr>\n    <tr>\n      <th>4</th>\n      <td>2020-07-18 02:07</td>\n      <td>Caetano Veloso</td>\n      <td>Reconvexo - Ao Vivo</td>\n      <td>3123</td>\n    </tr>\n    <tr>\n      <th>...</th>\n      <td>...</td>\n      <td>...</td>\n      <td>...</td>\n      <td>...</td>\n    </tr>\n    <tr>\n      <th>3833</th>\n      <td>2021-07-18 13:25</td>\n      <td>System Of A Down</td>\n      <td>Roulette</td>\n      <td>201179</td>\n    </tr>\n    <tr>\n      <th>3834</th>\n      <td>2021-07-18 13:30</td>\n      <td>System Of A Down</td>\n      <td>Holy Mountains</td>\n      <td>328866</td>\n    </tr>\n    <tr>\n      <th>3835</th>\n      <td>2021-07-18 13:35</td>\n      <td>System Of A Down</td>\n      <td>Protect The Land</td>\n      <td>307644</td>\n    </tr>\n    <tr>\n      <th>3836</th>\n      <td>2021-07-18 13:38</td>\n      <td>System Of A Down</td>\n      <td>Kill Rock 'n Roll</td>\n      <td>147958</td>\n    </tr>\n    <tr>\n      <th>3837</th>\n      <td>2021-07-18 13:50</td>\n      <td>System Of A Down</td>\n      <td>Innervision</td>\n      <td>105475</td>\n    </tr>\n  </tbody>\n</table>\n<p>3838 rows × 4 columns</p>\n</div>"
     },
     "metadata": {},
     "execution_count": 3
    }
   ],
   "source": [
    "df = pd.read_json('StreamingHistory0.json')\n",
    "df"
   ]
  },
  {
   "cell_type": "code",
   "execution_count": 13,
   "metadata": {},
   "outputs": [],
   "source": [
    "df['endTime'] = pd.to_datetime(df['endTime'])"
   ]
  },
  {
   "cell_type": "code",
   "execution_count": 14,
   "metadata": {},
   "outputs": [
    {
     "output_type": "stream",
     "name": "stdout",
     "text": [
      "<class 'pandas.core.frame.DataFrame'>\nRangeIndex: 3838 entries, 0 to 3837\nData columns (total 4 columns):\n #   Column      Non-Null Count  Dtype         \n---  ------      --------------  -----         \n 0   endTime     3838 non-null   datetime64[ns]\n 1   artistName  3838 non-null   object        \n 2   trackName   3838 non-null   object        \n 3   msPlayed    3838 non-null   int64         \ndtypes: datetime64[ns](1), int64(1), object(2)\nmemory usage: 120.1+ KB\n"
     ]
    }
   ],
   "source": [
    "df.info()"
   ]
  },
  {
   "cell_type": "code",
   "execution_count": 5,
   "metadata": {},
   "outputs": [
    {
     "output_type": "execute_result",
     "data": {
      "text/plain": [
       "Carla Bruni           97\n",
       "Caetano Veloso        97\n",
       "Super Simple Songs    79\n",
       "Los Hermanos          72\n",
       "Blur                  48\n",
       "Novos Baianos         44\n",
       "The xx                42\n",
       "Radiohead             38\n",
       "The Kiboomers         36\n",
       "Milky Chance          35\n",
       "Paradis               35\n",
       "John Mayer            34\n",
       "Black Sea Dahu        30\n",
       "System Of A Down      28\n",
       "Fall Out Boy          27\n",
       "Name: artistName, dtype: int64"
      ]
     },
     "metadata": {},
     "execution_count": 5
    }
   ],
   "source": [
    "df['artistName'].value_counts().head(15)"
   ]
  },
  {
   "cell_type": "code",
   "execution_count": 6,
   "metadata": {},
   "outputs": [
    {
     "output_type": "execute_result",
     "data": {
      "text/plain": [
       "Feel Good Inc.                                                                  18\n",
       "Dance Monkey                                                                    17\n",
       "Loser                                                                           17\n",
       "Blossom                                                                         16\n",
       "Seven Nation Army                                                               16\n",
       "CAN'T STOP THE FEELING! (Original Song from DreamWorks Animation's \"TROLLS\")    15\n",
       "Party Freeze Dance Song                                                         15\n",
       "Take Me Out                                                                     14\n",
       "Californication                                                                 14\n",
       "Sur Une Chanson En Français                                                     14\n",
       "Coffee & TV                                                                     14\n",
       "Toi Et Moi                                                                      14\n",
       "Shake It Off                                                                    13\n",
       "I'm Not Okay (I Promise)                                                        12\n",
       "Uptown Funk (feat. Bruno Mars)                                                  12\n",
       "Name: trackName, dtype: int64"
      ]
     },
     "metadata": {},
     "execution_count": 6
    }
   ],
   "source": [
    "df['trackName'].value_counts().head(15)"
   ]
  },
  {
   "cell_type": "code",
   "execution_count": null,
   "metadata": {},
   "outputs": [],
   "source": []
  }
 ]
}